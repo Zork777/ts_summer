{
 "cells": [
  {
   "cell_type": "code",
   "execution_count": 13,
   "metadata": {},
   "outputs": [
    {
     "name": "stdout",
     "output_type": "stream",
     "text": [
      "The autoreload extension is already loaded. To reload it, use:\n",
      "  %reload_ext autoreload\n"
     ]
    }
   ],
   "source": [
    "%matplotlib inline\n",
    "%load_ext autoreload\n",
    "%autoreload 2"
   ]
  },
  {
   "cell_type": "code",
   "execution_count": 14,
   "metadata": {},
   "outputs": [],
   "source": [
    "import sys\n",
    "from pathlib import Path\n",
    "\n",
    "sys.path.append(str(Path.cwd().parent))"
   ]
  },
  {
   "cell_type": "code",
   "execution_count": 15,
   "metadata": {},
   "outputs": [],
   "source": [
    "import numpy as np\n",
    "import pandas as pd\n",
    "import matplotlib.pyplot as plt\n",
    "from statsmodels.tsa import arima_model\n",
    "from statsmodels.tsa.stattools import adfuller\n",
    "from statsmodels.graphics.tsaplots import plot_acf, plot_pacf\n",
    "\n",
    "from load_dataset import Dataset\n",
    "import plotting"
   ]
  },
  {
   "cell_type": "code",
   "execution_count": 16,
   "metadata": {},
   "outputs": [
    {
     "name": "stdout",
     "output_type": "stream",
     "text": [
      "The autoreload extension is already loaded. To reload it, use:\n",
      "  %reload_ext autoreload\n"
     ]
    }
   ],
   "source": [
    "%load_ext autoreload\n",
    "%autoreload 2"
   ]
  },
  {
   "cell_type": "code",
   "execution_count": 17,
   "metadata": {},
   "outputs": [],
   "source": [
    "dataset = Dataset('../data/Dataset')"
   ]
  },
  {
   "cell_type": "code",
   "execution_count": 18,
   "metadata": {},
   "outputs": [],
   "source": [
    "ts = dataset['international-airline-passengers.csv']\n",
    "ts.index = ts.index.map(pd.to_datetime)"
   ]
  },
  {
   "cell_type": "code",
   "execution_count": 19,
   "metadata": {},
   "outputs": [],
   "source": [
    "ts, ts_test = ts[:100], ts[100:]"
   ]
  },
  {
   "cell_type": "code",
   "execution_count": 20,
   "metadata": {},
   "outputs": [
    {
     "data": {
      "text/plain": [
       "<AxesSubplot:xlabel='1949-01'>"
      ]
     },
     "execution_count": 20,
     "metadata": {},
     "output_type": "execute_result"
    },
    {
     "data": {
      "image/png": "[encoded data removed]",
      "text/plain": [
       "<Figure size 432x288 with 1 Axes>"
      ]
     },
     "metadata": {
      "needs_background": "light"
     },
     "output_type": "display_data"
    }
   ],
   "source": [
    "ts.plot()"
   ]
  },
  {
   "cell_type": "code",
   "execution_count": 21,
   "metadata": {},
   "outputs": [
    {
     "data": {
      "text/plain": [
       "DatetimeIndex(['1949-02-01', '1949-03-01', '1949-04-01', '1949-05-01',\n",
       "               '1949-06-01', '1949-07-01', '1949-08-01', '1949-09-01',\n",
       "               '1949-10-01', '1949-11-01', '1949-12-01', '1950-01-01',\n",
       "               '1950-02-01', '1950-03-01', '1950-04-01', '1950-05-01',\n",
       "               '1950-06-01', '1950-07-01', '1950-08-01', '1950-09-01',\n",
       "               '1950-10-01', '1950-11-01', '1950-12-01', '1951-01-01',\n",
       "               '1951-02-01', '1951-03-01', '1951-04-01', '1951-05-01',\n",
       "               '1951-06-01', '1951-07-01', '1951-08-01', '1951-09-01',\n",
       "               '1951-10-01', '1951-11-01', '1951-12-01', '1952-01-01',\n",
       "               '1952-02-01', '1952-03-01', '1952-04-01', '1952-05-01',\n",
       "               '1952-06-01', '1952-07-01', '1952-08-01', '1952-09-01',\n",
       "               '1952-10-01', '1952-11-01', '1952-12-01', '1953-01-01',\n",
       "               '1953-02-01', '1953-03-01', '1953-04-01', '1953-05-01',\n",
       "               '1953-06-01', '1953-07-01', '1953-08-01', '1953-09-01',\n",
       "               '1953-10-01', '1953-11-01', '1953-12-01', '1954-01-01',\n",
       "               '1954-02-01', '1954-03-01', '1954-04-01', '1954-05-01',\n",
       "               '1954-06-01', '1954-07-01', '1954-08-01', '1954-09-01',\n",
       "               '1954-10-01', '1954-11-01', '1954-12-01', '1955-01-01',\n",
       "               '1955-02-01', '1955-03-01', '1955-04-01', '1955-05-01',\n",
       "               '1955-06-01', '1955-07-01', '1955-08-01', '1955-09-01',\n",
       "               '1955-10-01', '1955-11-01', '1955-12-01', '1956-01-01',\n",
       "               '1956-02-01', '1956-03-01', '1956-04-01', '1956-05-01',\n",
       "               '1956-06-01', '1956-07-01', '1956-08-01', '1956-09-01',\n",
       "               '1956-10-01', '1956-11-01', '1956-12-01', '1957-01-01',\n",
       "               '1957-02-01', '1957-03-01', '1957-04-01', '1957-05-01'],\n",
       "              dtype='datetime64[ns]', name='1949-01', freq=None)"
      ]
     },
     "execution_count": 21,
     "metadata": {},
     "output_type": "execute_result"
    }
   ],
   "source": [
    "ts.index"
   ]
  },
  {
   "cell_type": "markdown",
   "metadata": {},
   "source": [
    "#### Задание 1. Box-Jenkins approach\n",
    "1. Убрать гетероскедастичность при помощи логарифмирования.\n",
    "2. Продифференцировать разными способами и узнать нужный порядок дифференцирования d, D, анализируя\n",
    "   получившийся ряд при помощи графика acf_plot.\n",
    "3. Оценить параметры (q, Q), (p, P) по графикам acf, pacf продифференцированного ряда.\n",
    "4. Обучить модель SARIMA и попробовать сделать предсказания исходного ряда.\n",
    "5. Критерий хорошей модели - около-стационарные остатки."
   ]
  },
  {
   "cell_type": "code",
   "execution_count": 22,
   "metadata": {},
   "outputs": [],
   "source": [
    "ts_log = np.log(ts)"
   ]
  },
  {
   "cell_type": "code",
   "execution_count": 23,
   "metadata": {},
   "outputs": [
    {
     "data": {
      "text/plain": [
       "<AxesSubplot:xlabel='1949-01'>"
      ]
     },
     "execution_count": 23,
     "metadata": {},
     "output_type": "execute_result"
    },
    {
     "data": {
      "image/png": "[encoded data removed]",
      "text/plain": [
       "<Figure size 432x288 with 1 Axes>"
      ]
     },
     "metadata": {
      "needs_background": "light"
     },
     "output_type": "display_data"
    }
   ],
   "source": [
    "ts_log.plot()"
   ]
  },
  {
   "cell_type": "code",
   "execution_count": 70,
   "metadata": {},
   "outputs": [
    {
     "data": {
      "image/png": "[encoded data removed]",
      "text/plain": [
       "<Figure size 432x288 with 1 Axes>"
      ]
     },
     "metadata": {
      "needs_background": "light"
     },
     "output_type": "display_data"
    }
   ],
   "source": [
    "plot_acf(ts_log.diff(12).diff(1).dropna());\n",
    "# q, Q = (1, 1)"
   ]
  },
  {
   "cell_type": "code",
   "execution_count": 71,
   "metadata": {
    "scrolled": true
   },
   "outputs": [
    {
     "data": {
      "image/png": "[encoded data removed]",
      "text/plain": [
       "<Figure size 432x288 with 1 Axes>"
      ]
     },
     "metadata": {
      "needs_background": "light"
     },
     "output_type": "display_data"
    }
   ],
   "source": [
    "plot_pacf(ts_log.diff(12).diff().dropna(), lags=40);\n",
    "# (p, P) = (0, 0)"
   ]
  },
  {
   "cell_type": "code",
   "execution_count": 72,
   "metadata": {},
   "outputs": [],
   "source": [
    "from statsmodels.tsa.statespace import sarimax"
   ]
  },
  {
   "cell_type": "code",
   "execution_count": 88,
   "metadata": {},
   "outputs": [
    {
     "name": "stderr",
     "output_type": "stream",
     "text": [
      "/Users/gsinyakov/ts_summer/.env/lib/python3.8/site-packages/statsmodels/tsa/base/tsa_model.py:524: ValueWarning: No frequency information was provided, so inferred frequency MS will be used.\n",
      "  warnings.warn('No frequency information was'\n",
      "/Users/gsinyakov/ts_summer/.env/lib/python3.8/site-packages/statsmodels/tsa/base/tsa_model.py:524: ValueWarning: No frequency information was provided, so inferred frequency MS will be used.\n",
      "  warnings.warn('No frequency information was'\n"
     ]
    }
   ],
   "source": [
    "pdq = (0, 1, 1)\n",
    "PDQ = (0, 1, 1, 12)\n",
    "model = sarimax.SARIMAX(ts_log, order=pdq, seasonal_order=PDQ)"
   ]
  },
  {
   "cell_type": "code",
   "execution_count": 89,
   "metadata": {},
   "outputs": [],
   "source": [
    "res = model.fit()"
   ]
  },
  {
   "cell_type": "code",
   "execution_count": 90,
   "metadata": {},
   "outputs": [],
   "source": [
    "preds = res.forecast(len(ts_test))"
   ]
  },
  {
   "cell_type": "code",
   "execution_count": 91,
   "metadata": {},
   "outputs": [
    {
     "data": {
      "text/html": [
       "\n",
       "    <div class=\"bk-root\">\n",
       "        <a href=\"https://bokeh.org\" target=\"_blank\" class=\"bk-logo bk-logo-small bk-logo-notebook\"></a>\n",
       "        <span id=\"3018\">Loading BokehJS ...</span>\n",
       "    </div>"
      ]
     },
     "metadata": {},
     "output_type": "display_data"
    },
    {
     "data": {
      "application/javascript": [
       "\n",
       "(function(root) {\n",
       "  function now() {\n",
       "    return new Date();\n",
       "  }\n",
       "\n",
       "  var force = true;\n",
       "\n",
       "  if (typeof root._bokeh_onload_callbacks === \"undefined\" || force === true) {\n",
       "    root._bokeh_onload_callbacks = [];\n",
       "    root._bokeh_is_loading = undefined;\n",
       "  }\n",
       "\n",
       "  var JS_MIME_TYPE = 'application/javascript';\n",
       "  var HTML_MIME_TYPE = 'text/html';\n",
       "  var EXEC_MIME_TYPE = 'application/vnd.bokehjs_exec.v0+json';\n",
       "  var CLASS_NAME = 'output_bokeh rendered_html';\n",
       "\n",
       "  /**\n",
       "   * Render data to the DOM node\n",
       "   */\n",
       "  function render(props, node) {\n",
       "    var script = document.createElement(\"script\");\n",
       "    node.appendChild(script);\n",
       "  }\n",
       "\n",
       "  /**\n",
       "   * Handle when an output is cleared or removed\n",
       "   */\n",
       "  function handleClearOutput(event, handle) {\n",
       "    var cell = handle.cell;\n",
       "\n",
       "    var id = cell.output_area._bokeh_element_id;\n",
       "    var server_id = cell.output_area._bokeh_server_id;\n",
       "    // Clean up Bokeh references\n",
       "    if (id != null && id in Bokeh.index) {\n",
       "      Bokeh.index[id].model.document.clear();\n",
       "      delete Bokeh.index[id];\n",
       "    }\n",
       "\n",
       "    if (server_id !== undefined) {\n",
       "      // Clean up Bokeh references\n",
       "      var cmd = \"from bokeh.io.state import curstate; print(curstate().uuid_to_server['\" + server_id + \"'].get_sessions()[0].document.roots[0]._id)\";\n",
       "      cell.notebook.kernel.execute(cmd, {\n",
       "        iopub: {\n",
       "          output: function(msg) {\n",
       "            var id = msg.content.text.trim();\n",
       "            if (id in Bokeh.index) {\n",
       "              Bokeh.index[id].model.document.clear();\n",
       "              delete Bokeh.index[id];\n",
       "            }\n",
       "          }\n",
       "        }\n",
       "      });\n",
       "      // Destroy server and session\n",
       "      var cmd = \"import bokeh.io.notebook as ion; ion.destroy_server('\" + server_id + \"')\";\n",
       "      cell.notebook.kernel.execute(cmd);\n",
       "    }\n",
       "  }\n",
       "\n",
       "  /**\n",
       "   * Handle when a new output is added\n",
       "   */\n",
       "  function handleAddOutput(event, handle) {\n",
       "    var output_area = handle.output_area;\n",
       "    var output = handle.output;\n",
       "\n",
       "    // limit handleAddOutput to display_data with EXEC_MIME_TYPE content only\n",
       "    if ((output.output_type != \"display_data\") || (!Object.prototype.hasOwnProperty.call(output.data, EXEC_MIME_TYPE))) {\n",
       "      return\n",
       "    }\n",
       "\n",
       "    var toinsert = output_area.element.find(\".\" + CLASS_NAME.split(' ')[0]);\n",
       "\n",
       "    if (output.metadata[EXEC_MIME_TYPE][\"id\"] !== undefined) {\n",
       "      toinsert[toinsert.length - 1].firstChild.textContent = output.data[JS_MIME_TYPE];\n",
       "      // store reference to embed id on output_area\n",
       "      output_area._bokeh_element_id = output.metadata[EXEC_MIME_TYPE][\"id\"];\n",
       "    }\n",
       "    if (output.metadata[EXEC_MIME_TYPE][\"server_id\"] !== undefined) {\n",
       "      var bk_div = document.createElement(\"div\");\n",
       "      bk_div.innerHTML = output.data[HTML_MIME_TYPE];\n",
       "      var script_attrs = bk_div.children[0].attributes;\n",
       "      for (var i = 0; i < script_attrs.length; i++) {\n",
       "        toinsert[toinsert.length - 1].firstChild.setAttribute(script_attrs[i].name, script_attrs[i].value);\n",
       "        toinsert[toinsert.length - 1].firstChild.textContent = bk_div.children[0].textContent\n",
       "      }\n",
       "      // store reference to server id on output_area\n",
       "      output_area._bokeh_server_id = output.metadata[EXEC_MIME_TYPE][\"server_id\"];\n",
       "    }\n",
       "  }\n",
       "\n",
       "  function register_renderer(events, OutputArea) {\n",
       "\n",
       "    function append_mime(data, metadata, element) {\n",
       "      // create a DOM node to render to\n",
       "      var toinsert = this.create_output_subarea(\n",
       "        metadata,\n",
       "        CLASS_NAME,\n",
       "        EXEC_MIME_TYPE\n",
       "      );\n",
       "      this.keyboard_manager.register_events(toinsert);\n",
       "      // Render to node\n",
       "      var props = {data: data, metadata: metadata[EXEC_MIME_TYPE]};\n",
       "      render(props, toinsert[toinsert.length - 1]);\n",
       "      element.append(toinsert);\n",
       "      return toinsert\n",
       "    }\n",
       "\n",
       "    /* Handle when an output is cleared or removed */\n",
       "    events.on('clear_output.CodeCell', handleClearOutput);\n",
       "    events.on('delete.Cell', handleClearOutput);\n",
       "\n",
       "    /* Handle when a new output is added */\n",
       "    events.on('output_added.OutputArea', handleAddOutput);\n",
       "\n",
       "    /**\n",
       "     * Register the mime type and append_mime function with output_area\n",
       "     */\n",
       "    OutputArea.prototype.register_mime_type(EXEC_MIME_TYPE, append_mime, {\n",
       "      /* Is output safe? */\n",
       "      safe: true,\n",
       "      /* Index of renderer in `output_area.display_order` */\n",
       "      index: 0\n",
       "    });\n",
       "  }\n",
       "\n",
       "  // register the mime type if in Jupyter Notebook environment and previously unregistered\n",
       "  if (root.Jupyter !== undefined) {\n",
       "    var events = require('base/js/events');\n",
       "    var OutputArea = require('notebook/js/outputarea').OutputArea;\n",
       "\n",
       "    if (OutputArea.prototype.mime_types().indexOf(EXEC_MIME_TYPE) == -1) {\n",
       "      register_renderer(events, OutputArea);\n",
       "    }\n",
       "  }\n",
       "\n",
       "  \n",
       "  if (typeof (root._bokeh_timeout) === \"undefined\" || force === true) {\n",
       "    root._bokeh_timeout = Date.now() + 5000;\n",
       "    root._bokeh_failed_load = false;\n",
       "  }\n",
       "\n",
       "  var NB_LOAD_WARNING = {'data': {'text/html':\n",
       "     \"<div style='background-color: #fdd'>\\n\"+\n",
       "     \"<p>\\n\"+\n",
       "     \"BokehJS does not appear to have successfully loaded. If loading BokehJS from CDN, this \\n\"+\n",
       "     \"may be due to a slow or bad network connection. Possible fixes:\\n\"+\n",
       "     \"</p>\\n\"+\n",
       "     \"<ul>\\n\"+\n",
       "     \"<li>re-rerun `output_notebook()` to attempt to load from CDN again, or</li>\\n\"+\n",
       "     \"<li>use INLINE resources instead, as so:</li>\\n\"+\n",
       "     \"</ul>\\n\"+\n",
       "     \"<code>\\n\"+\n",
       "     \"from bokeh.resources import INLINE\\n\"+\n",
       "     \"output_notebook(resources=INLINE)\\n\"+\n",
       "     \"</code>\\n\"+\n",
       "     \"</div>\"}};\n",
       "\n",
       "  function display_loaded() {\n",
       "    var el = document.getElementById(\"3018\");\n",
       "    if (el != null) {\n",
       "      el.textContent = \"BokehJS is loading...\";\n",
       "    }\n",
       "    if (root.Bokeh !== undefined) {\n",
       "      if (el != null) {\n",
       "        el.textContent = \"BokehJS \" + root.Bokeh.version + \" successfully loaded.\";\n",
       "      }\n",
       "    } else if (Date.now() < root._bokeh_timeout) {\n",
       "      setTimeout(display_loaded, 100)\n",
       "    }\n",
       "  }\n",
       "\n",
       "\n",
       "  function run_callbacks() {\n",
       "    try {\n",
       "      root._bokeh_onload_callbacks.forEach(function(callback) {\n",
       "        if (callback != null)\n",
       "          callback();\n",
       "      });\n",
       "    } finally {\n",
       "      delete root._bokeh_onload_callbacks\n",
       "    }\n",
       "    console.debug(\"Bokeh: all callbacks have finished\");\n",
       "  }\n",
       "\n",
       "  function load_libs(css_urls, js_urls, callback) {\n",
       "    if (css_urls == null) css_urls = [];\n",
       "    if (js_urls == null) js_urls = [];\n",
       "\n",
       "    root._bokeh_onload_callbacks.push(callback);\n",
       "    if (root._bokeh_is_loading > 0) {\n",
       "      console.debug(\"Bokeh: BokehJS is being loaded, scheduling callback at\", now());\n",
       "      return null;\n",
       "    }\n",
       "    if (js_urls == null || js_urls.length === 0) {\n",
       "      run_callbacks();\n",
       "      return null;\n",
       "    }\n",
       "    console.debug(\"Bokeh: BokehJS not loaded, scheduling load and callback at\", now());\n",
       "    root._bokeh_is_loading = css_urls.length + js_urls.length;\n",
       "\n",
       "    function on_load() {\n",
       "      root._bokeh_is_loading--;\n",
       "      if (root._bokeh_is_loading === 0) {\n",
       "        console.debug(\"Bokeh: all BokehJS libraries/stylesheets loaded\");\n",
       "        run_callbacks()\n",
       "      }\n",
       "    }\n",
       "\n",
       "    function on_error(url) {\n",
       "      console.error(\"failed to load \" + url);\n",
       "    }\n",
       "\n",
       "    for (let i = 0; i < css_urls.length; i++) {\n",
       "      const url = css_urls[i];\n",
       "      const element = document.createElement(\"link\");\n",
       "      element.onload = on_load;\n",
       "      element.onerror = on_error.bind(null, url);\n",
       "      element.rel = \"stylesheet\";\n",
       "      element.type = \"text/css\";\n",
       "      element.href = url;\n",
       "      console.debug(\"Bokeh: injecting link tag for BokehJS stylesheet: \", url);\n",
       "      document.body.appendChild(element);\n",
       "    }\n",
       "\n",
       "    const hashes = {\"https://cdn.bokeh.org/bokeh/release/bokeh-2.3.2.min.js\": \"XypntL49z55iwGVUW4qsEu83zKL3XEcz0MjuGOQ9SlaaQ68X/g+k1FcioZi7oQAc\", \"https://cdn.bokeh.org/bokeh/release/bokeh-tables-2.3.2.min.js\": \"bEsM86IHGDTLCS0Zod8a8WM6Y4+lafAL/eSiyQcuPzinmWNgNO2/olUF0Z2Dkn5i\", \"https://cdn.bokeh.org/bokeh/release/bokeh-widgets-2.3.2.min.js\": \"TX0gSQTdXTTeScqxj6PVQxTiRW8DOoGVwinyi1D3kxv7wuxQ02XkOxv0xwiypcAH\"};\n",
       "\n",
       "    for (let i = 0; i < js_urls.length; i++) {\n",
       "      const url = js_urls[i];\n",
       "      const element = document.createElement('script');\n",
       "      element.onload = on_load;\n",
       "      element.onerror = on_error.bind(null, url);\n",
       "      element.async = false;\n",
       "      element.src = url;\n",
       "      if (url in hashes) {\n",
       "        element.crossOrigin = \"anonymous\";\n",
       "        element.integrity = \"sha384-\" + hashes[url];\n",
       "      }\n",
       "      console.debug(\"Bokeh: injecting script tag for BokehJS library: \", url);\n",
       "      document.head.appendChild(element);\n",
       "    }\n",
       "  };\n",
       "\n",
       "  function inject_raw_css(css) {\n",
       "    const element = document.createElement(\"style\");\n",
       "    element.appendChild(document.createTextNode(css));\n",
       "    document.body.appendChild(element);\n",
       "  }\n",
       "\n",
       "  \n",
       "  var js_urls = [\"https://cdn.bokeh.org/bokeh/release/bokeh-2.3.2.min.js\", \"https://cdn.bokeh.org/bokeh/release/bokeh-widgets-2.3.2.min.js\", \"https://cdn.bokeh.org/bokeh/release/bokeh-tables-2.3.2.min.js\"];\n",
       "  var css_urls = [];\n",
       "  \n",
       "\n",
       "  var inline_js = [\n",
       "    function(Bokeh) {\n",
       "      Bokeh.set_log_level(\"info\");\n",
       "    },\n",
       "    function(Bokeh) {\n",
       "    \n",
       "    \n",
       "    }\n",
       "  ];\n",
       "\n",
       "  function run_inline_js() {\n",
       "    \n",
       "    if (root.Bokeh !== undefined || force === true) {\n",
       "      \n",
       "    for (var i = 0; i < inline_js.length; i++) {\n",
       "      inline_js[i].call(root, root.Bokeh);\n",
       "    }\n",
       "    if (force === true) {\n",
       "        display_loaded();\n",
       "      }} else if (Date.now() < root._bokeh_timeout) {\n",
       "      setTimeout(run_inline_js, 100);\n",
       "    } else if (!root._bokeh_failed_load) {\n",
       "      console.log(\"Bokeh: BokehJS failed to load within specified timeout.\");\n",
       "      root._bokeh_failed_load = true;\n",
       "    } else if (force !== true) {\n",
       "      var cell = $(document.getElementById(\"3018\")).parents('.cell').data().cell;\n",
       "      cell.output_area.append_execute_result(NB_LOAD_WARNING)\n",
       "    }\n",
       "\n",
       "  }\n",
       "\n",
       "  if (root._bokeh_is_loading === 0) {\n",
       "    console.debug(\"Bokeh: BokehJS loaded, going straight to plotting\");\n",
       "    run_inline_js();\n",
       "  } else {\n",
       "    load_libs(css_urls, js_urls, function() {\n",
       "      console.debug(\"Bokeh: BokehJS plotting callback run at\", now());\n",
       "      run_inline_js();\n",
       "    });\n",
       "  }\n",
       "}(window));"
      ],
      "application/vnd.bokehjs_load.v0+json": "\n(function(root) {\n  function now() {\n    return new Date();\n  }\n\n  var force = true;\n\n  if (typeof root._bokeh_onload_callbacks === \"undefined\" || force === true) {\n    root._bokeh_onload_callbacks = [];\n    root._bokeh_is_loading = undefined;\n  }\n\n  \n\n  \n  if (typeof (root._bokeh_timeout) === \"undefined\" || force === true) {\n    root._bokeh_timeout = Date.now() + 5000;\n    root._bokeh_failed_load = false;\n  }\n\n  var NB_LOAD_WARNING = {'data': {'text/html':\n     \"<div style='background-color: #fdd'>\\n\"+\n     \"<p>\\n\"+\n     \"BokehJS does not appear to have successfully loaded. If loading BokehJS from CDN, this \\n\"+\n     \"may be due to a slow or bad network connection. Possible fixes:\\n\"+\n     \"</p>\\n\"+\n     \"<ul>\\n\"+\n     \"<li>re-rerun `output_notebook()` to attempt to load from CDN again, or</li>\\n\"+\n     \"<li>use INLINE resources instead, as so:</li>\\n\"+\n     \"</ul>\\n\"+\n     \"<code>\\n\"+\n     \"from bokeh.resources import INLINE\\n\"+\n     \"output_notebook(resources=INLINE)\\n\"+\n     \"</code>\\n\"+\n     \"</div>\"}};\n\n  function display_loaded() {\n    var el = document.getElementById(\"3018\");\n    if (el != null) {\n      el.textContent = \"BokehJS is loading...\";\n    }\n    if (root.Bokeh !== undefined) {\n      if (el != null) {\n        el.textContent = \"BokehJS \" + root.Bokeh.version + \" successfully loaded.\";\n      }\n    } else if (Date.now() < root._bokeh_timeout) {\n      setTimeout(display_loaded, 100)\n    }\n  }\n\n\n  function run_callbacks() {\n    try {\n      root._bokeh_onload_callbacks.forEach(function(callback) {\n        if (callback != null)\n          callback();\n      });\n    } finally {\n      delete root._bokeh_onload_callbacks\n    }\n    console.debug(\"Bokeh: all callbacks have finished\");\n  }\n\n  function load_libs(css_urls, js_urls, callback) {\n    if (css_urls == null) css_urls = [];\n    if (js_urls == null) js_urls = [];\n\n    root._bokeh_onload_callbacks.push(callback);\n    if (root._bokeh_is_loading > 0) {\n      console.debug(\"Bokeh: BokehJS is being loaded, scheduling callback at\", now());\n      return null;\n    }\n    if (js_urls == null || js_urls.length === 0) {\n      run_callbacks();\n      return null;\n    }\n    console.debug(\"Bokeh: BokehJS not loaded, scheduling load and callback at\", now());\n    root._bokeh_is_loading = css_urls.length + js_urls.length;\n\n    function on_load() {\n      root._bokeh_is_loading--;\n      if (root._bokeh_is_loading === 0) {\n        console.debug(\"Bokeh: all BokehJS libraries/stylesheets loaded\");\n        run_callbacks()\n      }\n    }\n\n    function on_error(url) {\n      console.error(\"failed to load \" + url);\n    }\n\n    for (let i = 0; i < css_urls.length; i++) {\n      const url = css_urls[i];\n      const element = document.createElement(\"link\");\n      element.onload = on_load;\n      element.onerror = on_error.bind(null, url);\n      element.rel = \"stylesheet\";\n      element.type = \"text/css\";\n      element.href = url;\n      console.debug(\"Bokeh: injecting link tag for BokehJS stylesheet: \", url);\n      document.body.appendChild(element);\n    }\n\n    const hashes = {\"https://cdn.bokeh.org/bokeh/release/bokeh-2.3.2.min.js\": \"XypntL49z55iwGVUW4qsEu83zKL3XEcz0MjuGOQ9SlaaQ68X/g+k1FcioZi7oQAc\", \"https://cdn.bokeh.org/bokeh/release/bokeh-tables-2.3.2.min.js\": \"bEsM86IHGDTLCS0Zod8a8WM6Y4+lafAL/eSiyQcuPzinmWNgNO2/olUF0Z2Dkn5i\", \"https://cdn.bokeh.org/bokeh/release/bokeh-widgets-2.3.2.min.js\": \"TX0gSQTdXTTeScqxj6PVQxTiRW8DOoGVwinyi1D3kxv7wuxQ02XkOxv0xwiypcAH\"};\n\n    for (let i = 0; i < js_urls.length; i++) {\n      const url = js_urls[i];\n      const element = document.createElement('script');\n      element.onload = on_load;\n      element.onerror = on_error.bind(null, url);\n      element.async = false;\n      element.src = url;\n      if (url in hashes) {\n        element.crossOrigin = \"anonymous\";\n        element.integrity = \"sha384-\" + hashes[url];\n      }\n      console.debug(\"Bokeh: injecting script tag for BokehJS library: \", url);\n      document.head.appendChild(element);\n    }\n  };\n\n  function inject_raw_css(css) {\n    const element = document.createElement(\"style\");\n    element.appendChild(document.createTextNode(css));\n    document.body.appendChild(element);\n  }\n\n  \n  var js_urls = [\"https://cdn.bokeh.org/bokeh/release/bokeh-2.3.2.min.js\", \"https://cdn.bokeh.org/bokeh/release/bokeh-widgets-2.3.2.min.js\", \"https://cdn.bokeh.org/bokeh/release/bokeh-tables-2.3.2.min.js\"];\n  var css_urls = [];\n  \n\n  var inline_js = [\n    function(Bokeh) {\n      Bokeh.set_log_level(\"info\");\n    },\n    function(Bokeh) {\n    \n    \n    }\n  ];\n\n  function run_inline_js() {\n    \n    if (root.Bokeh !== undefined || force === true) {\n      \n    for (var i = 0; i < inline_js.length; i++) {\n      inline_js[i].call(root, root.Bokeh);\n    }\n    if (force === true) {\n        display_loaded();\n      }} else if (Date.now() < root._bokeh_timeout) {\n      setTimeout(run_inline_js, 100);\n    } else if (!root._bokeh_failed_load) {\n      console.log(\"Bokeh: BokehJS failed to load within specified timeout.\");\n      root._bokeh_failed_load = true;\n    } else if (force !== true) {\n      var cell = $(document.getElementById(\"3018\")).parents('.cell').data().cell;\n      cell.output_area.append_execute_result(NB_LOAD_WARNING)\n    }\n\n  }\n\n  if (root._bokeh_is_loading === 0) {\n    console.debug(\"Bokeh: BokehJS loaded, going straight to plotting\");\n    run_inline_js();\n  } else {\n    load_libs(css_urls, js_urls, function() {\n      console.debug(\"Bokeh: BokehJS plotting callback run at\", now());\n      run_inline_js();\n    });\n  }\n}(window));"
     },
     "metadata": {},
     "output_type": "display_data"
    },
    {
     "data": {
      "text/html": [
       "\n",
       "\n",
       "\n",
       "\n",
       "\n",
       "\n",
       "  <div class=\"bk-root\" id=\"012490d9-3bae-4593-b461-ba0f7f631b76\" data-root-id=\"3021\"></div>\n"
      ]
     },
     "metadata": {},
     "output_type": "display_data"
    },
    {
     "data": {
      "application/javascript": [
       "(function(root) {\n",
       "  function embed_document(root) {\n",
       "    \n",
       "  var docs_json = {\"9a9621a6-9884-4229-a66c-b27c6412ea1c\":{\"defs\":[],\"roots\":{\"references\":[{\"attributes\":{\"below\":[{\"id\":\"3032\"}],\"center\":[{\"id\":\"3035\"},{\"id\":\"3039\"}],\"left\":[{\"id\":\"3036\"}],\"renderers\":[{\"id\":\"3060\"},{\"id\":\"3065\"},{\"id\":\"3070\"}],\"title\":{\"id\":\"3022\"},\"toolbar\":{\"id\":\"3048\"},\"width\":900,\"x_range\":{\"id\":\"3024\"},\"x_scale\":{\"id\":\"3028\"},\"y_range\":{\"id\":\"3026\"},\"y_scale\":{\"id\":\"3030\"}},\"id\":\"3021\",\"subtype\":\"Figure\",\"type\":\"Plot\"},{\"attributes\":{\"days\":[\"%d %B %Y\"],\"hours\":[\"%d %B %Y\"],\"months\":[\"%d %B %Y\"],\"years\":[\"%d %B %Y\"]},\"id\":\"3019\",\"type\":\"DatetimeTickFormatter\"},{\"attributes\":{\"months\":[0,1,2,3,4,5,6,7,8,9,10,11]},\"id\":\"3267\",\"type\":\"MonthsTicker\"},{\"attributes\":{\"months\":[0,4,8]},\"id\":\"3269\",\"type\":\"MonthsTicker\"},{\"attributes\":{\"months\":[0,2,4,6,8,10]},\"id\":\"3268\",\"type\":\"MonthsTicker\"},{\"attributes\":{\"data_source\":{\"id\":\"3067\"},\"glyph\":{\"id\":\"3068\"},\"hover_glyph\":null,\"muted_glyph\":null,\"nonselection_glyph\":{\"id\":\"3069\"},\"view\":{\"id\":\"3071\"}},\"id\":\"3070\",\"type\":\"GlyphRenderer\"},{\"attributes\":{},\"id\":\"3258\",\"type\":\"AllLabels\"},{\"attributes\":{\"base\":24,\"mantissas\":[1,2,4,6,8,12],\"max_interval\":43200000.0,\"min_interval\":3600000.0,\"num_minor_ticks\":0},\"id\":\"3262\",\"type\":\"AdaptiveTicker\"},{\"attributes\":{\"line_color\":\"orange\",\"line_width\":2,\"x\":{\"field\":\"x\"},\"y\":{\"field\":\"y\"}},\"id\":\"3063\",\"type\":\"Line\"},{\"attributes\":{\"days\":[1,8,15,22]},\"id\":\"3265\",\"type\":\"DaysTicker\"},{\"attributes\":{\"axis_label\":\"value\",\"formatter\":{\"id\":\"3257\"},\"major_label_policy\":{\"id\":\"3258\"},\"ticker\":{\"id\":\"3037\"}},\"id\":\"3036\",\"type\":\"LinearAxis\"},{\"attributes\":{\"data\":{\"x\":{\"__ndarray__\":\"AAAAg3QeV8IAAADR1PdWwgAAAIjrz1bCAAAAPwKoVsIAAACNYoFWwgAAAER5WVbCAAAAktkyVsIAAABJ8ApWwgAAAAAH41XCAAAAfPq+VcIAAAAzEZdVwgAAAIFxcFXCAAAAOIhIVcIAAACG6CFVwgAAAD3/+VTCAAAA9BXSVMIAAABCdqtUwgAAAPmMg1TCAAAAR+1cVMIAAAD+AzVUwgAAALUaDVTCAAAAMQ7pU8IAAADoJMFTwgAAADaFmlPCAAAA7ZtyU8IAAAA7/EtTwgAAAPISJFPCAAAAqSn8UsIAAAD3idVSwgAAAK6grVLCAAAA/ACHUsIAAACzF19SwgAAAGouN1LCAAAAT9gRUsIAAAAG7+lRwgAAAFRPw1HCAAAAC2abUcIAAABZxnRRwgAAABDdTFHCAAAAx/MkUcIAAAAVVP5QwgAAAMxq1lDCAAAAGsuvUMI=\",\"dtype\":\"float64\",\"order\":\"little\",\"shape\":[43]},\"y\":{\"__ndarray__\":\"tdG4ez1veUDoB8h/FXV8QEX1gqNw8ntA0/JAjhG/eEBdA8V4fqV1QGOFKIzoAnNAhkRE4DKwdUDDeBkHzEx2QJrvTFX6l3VAkJcnZ+5AeUCnB5AHwcZ4QNC7BEJWGnlA/jO7qv3YfEDv/C2+ViOAQPkrHJ+Asn9AgOeQui0RfEABZYUIHY14QKVEdh0BkHVAVO7vLEGZeEBDy6Dv3Up5QB7GJpPIfXhAjHxovXekfEBrXV445Rl8QHbQVMSxeHxAuBXR3/5bgEDtWzBXuk2CQFcrCMiy+YFARrV4rF3Vf0B8dZsZhdh7QAznfHG9dHhA5sPRU0rme0AWy7KXvK98QM45lgMix3tAo2KnvzU+gECpZoucQN9/QFOrG+RiJYBAHOg/zPyNgkAPTr7TgsKEQM2zeps0Y4RAkTSQI3gNgkB18ACnGpV/QP7wXjbgvHtA3dkb77ikf0A=\",\"dtype\":\"float64\",\"order\":\"little\",\"shape\":[43]}},\"selected\":{\"id\":\"3274\"},\"selection_policy\":{\"id\":\"3275\"}},\"id\":\"3062\",\"type\":\"ColumnDataSource\"},{\"attributes\":{\"source\":{\"id\":\"3062\"}},\"id\":\"3066\",\"type\":\"CDSView\"},{\"attributes\":{\"source\":{\"id\":\"3057\"}},\"id\":\"3061\",\"type\":\"CDSView\"},{\"attributes\":{},\"id\":\"3030\",\"type\":\"LinearScale\"},{\"attributes\":{},\"id\":\"3271\",\"type\":\"YearsTicker\"},{\"attributes\":{\"callback\":null,\"formatters\":{\"@x\":\"datetime\"},\"mode\":\"vline\",\"tooltips\":[[\"date\",\"@x{%d-%m-%YT%H:%M:%S}\"],[\"value\",\"@y\"]]},\"id\":\"3020\",\"type\":\"HoverTool\"},{\"attributes\":{\"source\":{\"id\":\"3067\"}},\"id\":\"3071\",\"type\":\"CDSView\"},{\"attributes\":{\"days\":[1,4,7,10,13,16,19,22,25,28]},\"id\":\"3264\",\"type\":\"DaysTicker\"},{\"attributes\":{},\"id\":\"3255\",\"type\":\"AllLabels\"},{\"attributes\":{\"days\":[1,15]},\"id\":\"3266\",\"type\":\"DaysTicker\"},{\"attributes\":{},\"id\":\"3276\",\"type\":\"Selection\"},{\"attributes\":{\"data\":{\"x\":{\"__ndarray__\":\"AACAaHQ1Y8IAAIAmbiNjwgAAAIJ5D2PCAAAAqSn8YsIAAIAENehiwgAAgCvl1GLCAAAAh/DAYsIAAIDi+6xiwgAAgAmsmWLCAAAAZbeFYsIAAACMZ3JiwgAAgOdyXmLCAAAAQ35KYsIAAAABeDhiwgAAgFyDJGLCAACAgzMRYsIAAADfPv1hwgAAAAbv6WHCAACAYfrVYcIAAAC9BcJhwgAAAOS1rmHCAACAP8GaYcIAAIBmcYdhwgAAAMJ8c2HCAACAHYhfYcIAAIDbgU1hwgAAADeNOWHCAAAAXj0mYcIAAIC5SBJhwgAAgOD4/mDCAAAAPATrYMIAAICXD9dgwgAAgL6/w2DCAAAAGsuvYMIAAABBe5xgwgAAgJyGiGDCAAAA+JF0YMIAAIDq5mFgwgAAAEbyTWDCAAAAbaI6YMIAAIDIrSZgwgAAgO9dE2DCAAAAltL+X8IAAABN6dZfwgAAAJtJsF/CAAAAUmCIX8IAAACgwGFfwgAAAFfXOV/CAAAADu4RX8IAAACK4e1ewgAAAEH4xV7CAAAAj1ifXsIAAABGb3dewgAAAJTPUF7CAAAAS+YoXsIAAAAC/QBewgAAAFBd2l3CAAAAB3SyXcIAAABV1ItdwgAAAAzrY13CAAAAwwE8XcIAAAA/9RddwgAAAPYL8FzCAAAARGzJXMIAAAD7gqFcwgAAAEnjelzCAAAAAPpSXMIAAAC3ECtcwgAAAAVxBFzCAAAAvIfcW8IAAAAK6LVbwgAAAMH+jVvCAAAAeBVmW8IAAAD0CEJbwgAAAKsfGlvCAAAA+X/zWsIAAACwlstawgAAAP72pFrCAAAAtQ19WsIAAABsJFVawgAAALqELlrCAAAAcZsGWsIAAAC/+99ZwgAAAHYSuFnCAAAALSmQWcIAAAAS02pZwgAAAMnpQlnCAAAAF0ocWcIAAADOYPRYwgAAABzBzVjCAAAA09elWMIAAACK7n1YwgAAANhOV1jCAAAAj2UvWMIAAADdxQhYwgAAAJTc4FfCAAAAS/O4V8IAAADH5pRXwgAAAH79bFfCAAAAzF1GV8I=\",\"dtype\":\"float64\",\"order\":\"little\",\"shape\":[100]},\"y\":[118,132,129,121,135,148,148,136,119,104,118,115,126,141,135,125,149,170,170,158,133,114,140,145,150,178,163,172,178,199,199,184,162,146,166,171,180,193,181,183,218,230,242,209,191,172,194,196,196,236,235,229,243,264,272,237,211,180,201,204,188,235,227,234,264,302,293,259,229,203,229,242,233,267,269,270,315,364,347,312,274,237,278,284,277,317,313,318,374,413,405,355,306,271,306,315,301,356,348,355]},\"selected\":{\"id\":\"3272\"},\"selection_policy\":{\"id\":\"3273\"}},\"id\":\"3057\",\"type\":\"ColumnDataSource\"},{\"attributes\":{\"line_alpha\":0.1,\"line_color\":\"darkgreen\",\"line_width\":2,\"x\":{\"field\":\"x\"},\"y\":{\"field\":\"y\"}},\"id\":\"3069\",\"type\":\"Line\"},{\"attributes\":{\"line_alpha\":0.1,\"line_color\":\"#1f77b4\",\"line_width\":2,\"x\":{\"field\":\"x\"},\"y\":{\"field\":\"y\"}},\"id\":\"3059\",\"type\":\"Line\"},{\"attributes\":{},\"id\":\"3273\",\"type\":\"UnionRenderers\"},{\"attributes\":{\"data_source\":{\"id\":\"3057\"},\"glyph\":{\"id\":\"3058\"},\"hover_glyph\":null,\"muted_glyph\":null,\"nonselection_glyph\":{\"id\":\"3059\"},\"view\":{\"id\":\"3061\"}},\"id\":\"3060\",\"type\":\"GlyphRenderer\"},{\"attributes\":{},\"id\":\"3257\",\"type\":\"BasicTickFormatter\"},{\"attributes\":{},\"id\":\"3277\",\"type\":\"UnionRenderers\"},{\"attributes\":{\"data_source\":{\"id\":\"3062\"},\"glyph\":{\"id\":\"3063\"},\"hover_glyph\":null,\"muted_glyph\":null,\"nonselection_glyph\":{\"id\":\"3064\"},\"view\":{\"id\":\"3066\"}},\"id\":\"3065\",\"type\":\"GlyphRenderer\"},{\"attributes\":{\"bottom_units\":\"screen\",\"fill_alpha\":0.5,\"fill_color\":\"lightgrey\",\"left_units\":\"screen\",\"level\":\"overlay\",\"line_alpha\":1.0,\"line_color\":\"black\",\"line_dash\":[4,4],\"line_width\":2,\"right_units\":\"screen\",\"syncable\":false,\"top_units\":\"screen\"},\"id\":\"3046\",\"type\":\"BoxAnnotation\"},{\"attributes\":{\"num_minor_ticks\":5,\"tickers\":[{\"id\":\"3260\"},{\"id\":\"3261\"},{\"id\":\"3262\"},{\"id\":\"3263\"},{\"id\":\"3264\"},{\"id\":\"3265\"},{\"id\":\"3266\"},{\"id\":\"3267\"},{\"id\":\"3268\"},{\"id\":\"3269\"},{\"id\":\"3270\"},{\"id\":\"3271\"}]},\"id\":\"3033\",\"type\":\"DatetimeTicker\"},{\"attributes\":{\"line_alpha\":0.1,\"line_color\":\"orange\",\"line_width\":2,\"x\":{\"field\":\"x\"},\"y\":{\"field\":\"y\"}},\"id\":\"3064\",\"type\":\"Line\"},{\"attributes\":{\"line_color\":\"darkgreen\",\"line_width\":2,\"x\":{\"field\":\"x\"},\"y\":{\"field\":\"y\"}},\"id\":\"3068\",\"type\":\"Line\"},{\"attributes\":{\"data\":{\"x\":{\"__ndarray__\":\"AAAAg3QeV8IAAADR1PdWwgAAAIjrz1bCAAAAPwKoVsIAAACNYoFWwgAAAER5WVbCAAAAktkyVsIAAABJ8ApWwgAAAAAH41XCAAAAfPq+VcIAAAAzEZdVwgAAAIFxcFXCAAAAOIhIVcIAAACG6CFVwgAAAD3/+VTCAAAA9BXSVMIAAABCdqtUwgAAAPmMg1TCAAAAR+1cVMIAAAD+AzVUwgAAALUaDVTCAAAAMQ7pU8IAAADoJMFTwgAAADaFmlPCAAAA7ZtyU8IAAAA7/EtTwgAAAPISJFPCAAAAqSn8UsIAAAD3idVSwgAAAK6grVLCAAAA/ACHUsIAAACzF19SwgAAAGouN1LCAAAAT9gRUsIAAAAG7+lRwgAAAFRPw1HCAAAAC2abUcIAAABZxnRRwgAAABDdTFHCAAAAx/MkUcIAAAAVVP5QwgAAAMxq1lDCAAAAGsuvUMI=\",\"dtype\":\"float64\",\"order\":\"little\",\"shape\":[43]},\"y\":[422,465,467,404,347,305,336,340,318,362,348,363,435,491,505,404,359,310,337,360,342,406,396,420,472,548,559,463,407,362,405,417,391,419,461,472,535,622,606,508,461,390,432]},\"selected\":{\"id\":\"3276\"},\"selection_policy\":{\"id\":\"3277\"}},\"id\":\"3067\",\"type\":\"ColumnDataSource\"},{\"attributes\":{},\"id\":\"3022\",\"type\":\"Title\"},{\"attributes\":{},\"id\":\"3041\",\"type\":\"WheelZoomTool\"},{\"attributes\":{\"days\":[1,2,3,4,5,6,7,8,9,10,11,12,13,14,15,16,17,18,19,20,21,22,23,24,25,26,27,28,29,30,31]},\"id\":\"3263\",\"type\":\"DaysTicker\"},{\"attributes\":{\"active_multi\":null,\"active_scroll\":{\"id\":\"3041\"},\"tools\":[{\"id\":\"3040\"},{\"id\":\"3041\"},{\"id\":\"3042\"},{\"id\":\"3043\"},{\"id\":\"3044\"},{\"id\":\"3045\"},{\"id\":\"3020\"}]},\"id\":\"3048\",\"type\":\"Toolbar\"},{\"attributes\":{},\"id\":\"3026\",\"type\":\"DataRange1d\"},{\"attributes\":{},\"id\":\"3272\",\"type\":\"Selection\"},{\"attributes\":{\"bottom_units\":\"screen\",\"fill_alpha\":0.5,\"fill_color\":\"lightgrey\",\"left_units\":\"screen\",\"level\":\"overlay\",\"line_alpha\":1.0,\"line_color\":\"black\",\"line_dash\":[4,4],\"line_width\":2,\"right_units\":\"screen\",\"syncable\":false,\"top_units\":\"screen\"},\"id\":\"3047\",\"type\":\"BoxAnnotation\"},{\"attributes\":{\"overlay\":{\"id\":\"3047\"}},\"id\":\"3042\",\"type\":\"BoxZoomTool\"},{\"attributes\":{\"axis_label\":\"time\",\"formatter\":{\"id\":\"3019\"},\"major_label_policy\":{\"id\":\"3255\"},\"ticker\":{\"id\":\"3033\"}},\"id\":\"3032\",\"type\":\"DatetimeAxis\"},{\"attributes\":{},\"id\":\"3274\",\"type\":\"Selection\"},{\"attributes\":{\"base\":60,\"mantissas\":[1,2,5,10,15,20,30],\"max_interval\":1800000.0,\"min_interval\":1000.0,\"num_minor_ticks\":0},\"id\":\"3261\",\"type\":\"AdaptiveTicker\"},{\"attributes\":{\"axis\":{\"id\":\"3036\"},\"dimension\":1,\"ticker\":null},\"id\":\"3039\",\"type\":\"Grid\"},{\"attributes\":{},\"id\":\"3024\",\"type\":\"DataRange1d\"},{\"attributes\":{},\"id\":\"3044\",\"type\":\"SaveTool\"},{\"attributes\":{\"axis\":{\"id\":\"3032\"},\"ticker\":null},\"id\":\"3035\",\"type\":\"Grid\"},{\"attributes\":{},\"id\":\"3043\",\"type\":\"ResetTool\"},{\"attributes\":{\"mantissas\":[1,2,5],\"max_interval\":500.0,\"num_minor_ticks\":0},\"id\":\"3260\",\"type\":\"AdaptiveTicker\"},{\"attributes\":{},\"id\":\"3040\",\"type\":\"PanTool\"},{\"attributes\":{},\"id\":\"3037\",\"type\":\"BasicTicker\"},{\"attributes\":{},\"id\":\"3275\",\"type\":\"UnionRenderers\"},{\"attributes\":{\"line_color\":\"#1f77b4\",\"line_width\":2,\"x\":{\"field\":\"x\"},\"y\":{\"field\":\"y\"}},\"id\":\"3058\",\"type\":\"Line\"},{\"attributes\":{\"overlay\":{\"id\":\"3046\"}},\"id\":\"3045\",\"type\":\"BoxSelectTool\"},{\"attributes\":{},\"id\":\"3028\",\"type\":\"LinearScale\"},{\"attributes\":{\"months\":[0,6]},\"id\":\"3270\",\"type\":\"MonthsTicker\"}],\"root_ids\":[\"3021\"]},\"title\":\"Bokeh Application\",\"version\":\"2.3.2\"}};\n",
       "  var render_items = [{\"docid\":\"9a9621a6-9884-4229-a66c-b27c6412ea1c\",\"root_ids\":[\"3021\"],\"roots\":{\"3021\":\"012490d9-3bae-4593-b461-ba0f7f631b76\"}}];\n",
       "  root.Bokeh.embed.embed_items_notebook(docs_json, render_items);\n",
       "\n",
       "  }\n",
       "  if (root.Bokeh !== undefined) {\n",
       "    embed_document(root);\n",
       "  } else {\n",
       "    var attempts = 0;\n",
       "    var timer = setInterval(function(root) {\n",
       "      if (root.Bokeh !== undefined) {\n",
       "        clearInterval(timer);\n",
       "        embed_document(root);\n",
       "      } else {\n",
       "        attempts++;\n",
       "        if (attempts > 100) {\n",
       "          clearInterval(timer);\n",
       "          console.log(\"Bokeh: ERROR: Unable to run BokehJS code because BokehJS library is missing\");\n",
       "        }\n",
       "      }\n",
       "    }, 10, root)\n",
       "  }\n",
       "})(window);"
      ],
      "application/vnd.bokehjs_exec.v0+json": ""
     },
     "metadata": {
      "application/vnd.bokehjs_exec.v0+json": {
       "id": "3021"
      }
     },
     "output_type": "display_data"
    }
   ],
   "source": [
    "plotting.plot_ts(ts, np.exp(preds), ts_test)"
   ]
  },
  {
   "cell_type": "code",
   "execution_count": 92,
   "metadata": {},
   "outputs": [],
   "source": [
    "from sklearn.metrics import r2_score, mean_squared_error"
   ]
  },
  {
   "cell_type": "code",
   "execution_count": 93,
   "metadata": {},
   "outputs": [
    {
     "data": {
      "text/plain": [
       "0.6826086019943298"
      ]
     },
     "execution_count": 93,
     "metadata": {},
     "output_type": "execute_result"
    }
   ],
   "source": [
    "r2_score(ts_test, np.exp(preds))"
   ]
  },
  {
   "cell_type": "code",
   "execution_count": 94,
   "metadata": {},
   "outputs": [
    {
     "data": {
      "text/plain": [
       "1865.0234393309845"
      ]
     },
     "execution_count": 94,
     "metadata": {},
     "output_type": "execute_result"
    }
   ],
   "source": [
    "mean_squared_error(ts_test, np.exp(preds))"
   ]
  },
  {
   "cell_type": "code",
   "execution_count": 95,
   "metadata": {},
   "outputs": [],
   "source": [
    "res = np.exp(preds) - ts_test"
   ]
  },
  {
   "cell_type": "code",
   "execution_count": 96,
   "metadata": {},
   "outputs": [
    {
     "data": {
      "text/plain": [
       "<AxesSubplot:>"
      ]
     },
     "execution_count": 96,
     "metadata": {},
     "output_type": "execute_result"
    },
    {
     "data": {
      "image/png": "[encoded data removed]",
      "text/plain": [
       "<Figure size 432x288 with 1 Axes>"
      ]
     },
     "metadata": {
      "needs_background": "light"
     },
     "output_type": "display_data"
    }
   ],
   "source": [
    "res.plot()"
   ]
  },
  {
   "cell_type": "code",
   "execution_count": 98,
   "metadata": {},
   "outputs": [
    {
     "data": {
      "image/png": "[encoded data removed]",
      "text/plain": [
       "<Figure size 432x288 with 1 Axes>"
      ]
     },
     "metadata": {
      "needs_background": "light"
     },
     "output_type": "display_data"
    }
   ],
   "source": [
    "plot_acf(res);"
   ]
  },
  {
   "cell_type": "code",
   "execution_count": 99,
   "metadata": {},
   "outputs": [
    {
     "data": {
      "text/plain": [
       "(-2.396996397452361,\n",
       " 0.142585948550575,\n",
       " 8,\n",
       " 34,\n",
       " {'1%': -3.639224104416853,\n",
       "  '5%': -2.9512301791166293,\n",
       "  '10%': -2.614446989619377},\n",
       " 267.6070433920161)"
      ]
     },
     "execution_count": 99,
     "metadata": {},
     "output_type": "execute_result"
    }
   ],
   "source": [
    "adfuller(res)"
   ]
  },
  {
   "cell_type": "markdown",
   "metadata": {},
   "source": [
    "#### Пара выводов\n",
    "* Мы наблюдаем остаточный тренд в остатках предсказания, который связан с нелинейным трендом исходного ряда, чтобы получить еще более качественный прогноз, стоит аппроксимировать ряд, например, полиномом второй степени.\n",
    "* Учитывая out-of-sample прогноз (на несколько точек вперед) и малое количество данных для обучения, подход arima к прогнозированию таких коротких одномерных рядов очень сложно побить современными методами, как мы в дальнейшем увидим\n",
    "* графики acf/pacf являются лишь приблизительным правилом нахождения pPqQ, и не всегда являются оптимальными сразу, как в нашем примере, финальные параметры обычно подбираются прохождением \"по сетке\" и оценке целевой метрики (mse, rmse, mae и тп)"
   ]
  },
  {
   "cell_type": "markdown",
   "metadata": {},
   "source": [
    "#### Задание 2. (используя критерий Акаике)\n",
    "1. Выбрать сетку гиперпараметров.\n",
    "2. Пройтись по сетке, обучая модель и считая aic на тестовой выборке.\n",
    "3. Выбрать модель с набором гиперпараметров, дающих минимальный aic. "
   ]
  },
  {
   "cell_type": "code",
   "execution_count": 28,
   "metadata": {},
   "outputs": [],
   "source": [
    "import itertools\n",
    "\n",
    "p, q = range(0, 3), range(0, 3)\n",
    "d = [1, 1]\n",
    "pdq = list(itertools.product(p, d, q))\n",
    "\n",
    "PDQ = [(x[0], x[1], x[2], 12) for x in list(itertools.product(p, d, q))]"
   ]
  },
  {
   "cell_type": "code",
   "execution_count": 29,
   "metadata": {},
   "outputs": [],
   "source": [
    "import warnings\n",
    "warnings.filterwarnings('ignore')"
   ]
  },
  {
   "cell_type": "code",
   "execution_count": 30,
   "metadata": {},
   "outputs": [
    {
     "name": "stdout",
     "output_type": "stream",
     "text": [
      "(0, 1, 0) (0, 1, 0, 12)\n",
      "-274.96600868674113\n",
      "(0, 1, 1) (0, 1, 1, 12)\n",
      "-309.68631139902664\n",
      "(0, 1, 2) (0, 1, 2, 12)\n",
      "-306.1993795909624\n",
      "(0, 1, 0) (0, 1, 0, 12)\n",
      "-274.96600868674113\n",
      "(0, 1, 1) (0, 1, 1, 12)\n",
      "-309.68631139902664\n",
      "(0, 1, 2) (0, 1, 2, 12)\n",
      "-306.1993795909624\n",
      "(1, 1, 0) (1, 1, 0, 12)\n",
      "-302.3707763542672\n",
      "(1, 1, 1) (1, 1, 1, 12)\n",
      "-306.5441717927238\n",
      "(1, 1, 2) (1, 1, 2, 12)\n",
      "-301.8476885759598\n",
      "(1, 1, 0) (1, 1, 0, 12)\n",
      "-302.3707763542672\n",
      "(1, 1, 1) (1, 1, 1, 12)\n",
      "-306.5441717927238\n",
      "(1, 1, 2) (1, 1, 2, 12)\n",
      "-301.8476885759598\n",
      "(2, 1, 0) (2, 1, 0, 12)\n",
      "-303.01656947801115\n",
      "(2, 1, 1) (2, 1, 1, 12)\n",
      "-302.9789719329181\n",
      "(2, 1, 2) (2, 1, 2, 12)\n",
      "-300.0983986138764\n",
      "(2, 1, 0) (2, 1, 0, 12)\n",
      "-303.01656947801115\n",
      "(2, 1, 1) (2, 1, 1, 12)\n",
      "-302.9789719329181\n",
      "(2, 1, 2) (2, 1, 2, 12)\n",
      "-300.0983986138764\n"
     ]
    }
   ],
   "source": [
    "from numpy.linalg.linalg import LinAlgError\n",
    "\n",
    "\n",
    "for pdq_, PDQ_ in zip(pdq, PDQ):\n",
    "    model = sarimax.SARIMAX(ts_log, order=pdq_, seasonal_order=PDQ_)\n",
    "    res = model.fit()\n",
    "    try:\n",
    "        print(pdq_, PDQ_)\n",
    "        print(res.aic)\n",
    "    except BaseException as e:\n",
    "        continue"
   ]
  },
  {
   "cell_type": "markdown",
   "metadata": {},
   "source": [
    "#### Задание 3. (используя auto-arima)\n",
    "1. Установить аналог auto-arima из R, библиотеку pmdarima (pip install pmdarima)\n",
    "2. Обучить модель, используя функцию auto_arima, передав в нее нужные параметры."
   ]
  },
  {
   "cell_type": "code",
   "execution_count": 100,
   "metadata": {},
   "outputs": [],
   "source": [
    "from pmdarima import auto_arima"
   ]
  },
  {
   "cell_type": "code",
   "execution_count": 32,
   "metadata": {},
   "outputs": [
    {
     "name": "stdout",
     "output_type": "stream",
     "text": [
      "Performing stepwise search to minimize aic\n",
      " ARIMA(0,1,0)(0,1,0)[12]             : AIC=-274.966, Time=0.03 sec\n",
      " ARIMA(1,1,0)(1,1,0)[12]             : AIC=-302.371, Time=0.10 sec\n",
      " ARIMA(0,1,1)(0,1,1)[12]             : AIC=-309.686, Time=0.19 sec\n",
      " ARIMA(0,1,1)(0,1,0)[12]             : AIC=-284.621, Time=0.04 sec\n",
      " ARIMA(0,1,1)(1,1,1)[12]             : AIC=-307.867, Time=0.34 sec\n",
      " ARIMA(0,1,1)(0,1,2)[12]             : AIC=-307.883, Time=0.64 sec\n",
      " ARIMA(0,1,1)(1,1,0)[12]             : AIC=-304.096, Time=0.10 sec\n",
      " ARIMA(0,1,1)(1,1,2)[12]             : AIC=-305.846, Time=0.72 sec\n",
      " ARIMA(0,1,0)(0,1,1)[12]             : AIC=-300.816, Time=0.13 sec\n",
      " ARIMA(1,1,1)(0,1,1)[12]             : AIC=-308.392, Time=0.34 sec\n",
      " ARIMA(0,1,2)(0,1,1)[12]             : AIC=-307.997, Time=0.29 sec\n",
      " ARIMA(1,1,0)(0,1,1)[12]             : AIC=-308.460, Time=0.15 sec\n",
      " ARIMA(1,1,2)(0,1,1)[12]             : AIC=-305.688, Time=0.26 sec\n",
      " ARIMA(0,1,1)(0,1,1)[12] intercept   : AIC=-307.709, Time=0.41 sec\n",
      "\n",
      "Best model:  ARIMA(0,1,1)(0,1,1)[12]          \n",
      "Total fit time: 3.746 seconds\n"
     ]
    }
   ],
   "source": [
    "model = auto_arima(\n",
    "     ts_log, start_p=0, start_q=0,\n",
    "     max_p=3, max_q=3, m=12,\n",
    "     start_P=0, start_Q=0, seasonal=True,\n",
    "     d=1, D=1, trace=True,\n",
    "     error_action='ignore',\n",
    "     suppress_warnings=True,\n",
    "     stepwise=True\n",
    ")"
   ]
  },
  {
   "cell_type": "code",
   "execution_count": 33,
   "metadata": {},
   "outputs": [
    {
     "data": {
      "text/plain": [
       "ARIMA(order=(0, 1, 1), scoring_args={}, seasonal_order=(0, 1, 1, 12),\n",
       "      suppress_warnings=True, with_intercept=False)"
      ]
     },
     "execution_count": 33,
     "metadata": {},
     "output_type": "execute_result"
    }
   ],
   "source": [
    "model"
   ]
  },
  {
   "cell_type": "code",
   "execution_count": null,
   "metadata": {},
   "outputs": [],
   "source": []
  }
 ],
 "metadata": {
  "kernelspec": {
   "display_name": "Python 3",
   "language": "python",
   "name": "python3"
  },
  "language_info": {
   "codemirror_mode": {
    "name": "ipython",
    "version": 3
   },
   "file_extension": ".py",
   "mimetype": "text/x-python",
   "name": "python",
   "nbconvert_exporter": "python",
   "pygments_lexer": "ipython3",
   "version": "3.8.2"
  }
 },
 "nbformat": 4,
 "nbformat_minor": 2
}
