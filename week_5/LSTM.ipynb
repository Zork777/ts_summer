{
 "cells": [
  {
   "cell_type": "code",
   "execution_count": 1,
   "metadata": {},
   "outputs": [],
   "source": [
    "%load_ext autoreload\n",
    "%autoreload 2"
   ]
  },
  {
   "cell_type": "code",
   "execution_count": 2,
   "metadata": {},
   "outputs": [],
   "source": [
    "import sys\n",
    "import pathlib\n",
    "\n",
    "sys.path.append(str(pathlib.Path().cwd().parent))"
   ]
  },
  {
   "cell_type": "code",
   "execution_count": 3,
   "metadata": {},
   "outputs": [],
   "source": [
    "from typing import Tuple\n",
    "\n",
    "from load_dataset import Dataset\n",
    "from plotting import plot_ts\n",
    "\n",
    "dataset = Dataset('../data/dataset/')"
   ]
  },
  {
   "cell_type": "markdown",
   "metadata": {},
   "source": [
    "### В чем заключаются недостатки полносвязных сетей?\n",
    "* невозможность улавливать временные закономерности в контексте предыдущих точек (архитектурное ограничение)\n",
    "* фиксированный размер входных данных\n",
    "* фиксированный размер выходных данных"
   ]
  },
  {
   "cell_type": "markdown",
   "metadata": {},
   "source": [
    "### Область применимости рекуретных сетей для задачи анализа временных рядов\n",
    "* большое количество экзогенных признаков, имеющих сложную нелинейную зависимость с целевым рядом\n",
    "* очень сложная временная структура имеющая наложение разных сезонных и цикличных паттернов\n",
    "* ряды с часто меняющимся паттерном, или большим количеством аномалий\n",
    "* когда есть необходимость в нефиксированной длине входных и выходных данных (например многомерные ряды, где для разных компонент хочется предоставить разное количество лагов) "
   ]
  },
  {
   "cell_type": "markdown",
   "metadata": {},
   "source": [
    "### Особенности подготовки данных - необходима нормализация данных, иначе сеть будет плохо сходиться и медленно обучаться."
   ]
  },
  {
   "cell_type": "code",
   "execution_count": 4,
   "metadata": {},
   "outputs": [],
   "source": [
    "import numpy as np\n",
    "import pandas as pd\n",
    "from sklearn.preprocessing import MinMaxScaler"
   ]
  },
  {
   "cell_type": "code",
   "execution_count": 5,
   "metadata": {},
   "outputs": [],
   "source": [
    "data = np.array(range(0, 100, 10)).reshape(-1, 1)"
   ]
  },
  {
   "cell_type": "code",
   "execution_count": 6,
   "metadata": {},
   "outputs": [],
   "source": [
    "scaler = MinMaxScaler((0, 1))"
   ]
  },
  {
   "cell_type": "code",
   "execution_count": 7,
   "metadata": {},
   "outputs": [
    {
     "data": {
      "text/plain": [
       "MinMaxScaler()"
      ]
     },
     "execution_count": 7,
     "metadata": {},
     "output_type": "execute_result"
    }
   ],
   "source": [
    "scaler.fit(data)"
   ]
  },
  {
   "cell_type": "code",
   "execution_count": 8,
   "metadata": {},
   "outputs": [],
   "source": [
    "transformed = scaler.transform(data)"
   ]
  },
  {
   "cell_type": "code",
   "execution_count": 9,
   "metadata": {},
   "outputs": [
    {
     "data": {
      "text/plain": [
       "array([[0.        ],\n",
       "       [0.11111111],\n",
       "       [0.22222222],\n",
       "       [0.33333333],\n",
       "       [0.44444444],\n",
       "       [0.55555556],\n",
       "       [0.66666667],\n",
       "       [0.77777778],\n",
       "       [0.88888889],\n",
       "       [1.        ]])"
      ]
     },
     "execution_count": 9,
     "metadata": {},
     "output_type": "execute_result"
    }
   ],
   "source": [
    "transformed"
   ]
  },
  {
   "cell_type": "code",
   "execution_count": 10,
   "metadata": {},
   "outputs": [],
   "source": [
    "inverse = scaler.inverse_transform(transformed)"
   ]
  },
  {
   "cell_type": "code",
   "execution_count": 11,
   "metadata": {},
   "outputs": [
    {
     "data": {
      "text/plain": [
       "array([[ 0.],\n",
       "       [10.],\n",
       "       [20.],\n",
       "       [30.],\n",
       "       [40.],\n",
       "       [50.],\n",
       "       [60.],\n",
       "       [70.],\n",
       "       [80.],\n",
       "       [90.]])"
      ]
     },
     "execution_count": 11,
     "metadata": {},
     "output_type": "execute_result"
    }
   ],
   "source": [
    "inverse"
   ]
  },
  {
   "cell_type": "markdown",
   "metadata": {},
   "source": [
    "### Особенность подготвки данных - обработка последовательностей разной длины."
   ]
  },
  {
   "cell_type": "code",
   "execution_count": 12,
   "metadata": {},
   "outputs": [],
   "source": [
    "from keras.preprocessing.sequence import pad_sequences"
   ]
  },
  {
   "cell_type": "code",
   "execution_count": 13,
   "metadata": {},
   "outputs": [],
   "source": [
    "sequences = [\n",
    "    [1, 2, 3, 4],\n",
    "    [3, 4, 5],\n",
    "    [5, 6],\n",
    "    [3]\n",
    "]"
   ]
  },
  {
   "cell_type": "code",
   "execution_count": 14,
   "metadata": {},
   "outputs": [
    {
     "data": {
      "text/plain": [
       "array([[1, 2, 3, 4],\n",
       "       [0, 3, 4, 5],\n",
       "       [0, 0, 5, 6],\n",
       "       [0, 0, 0, 3]], dtype=int32)"
      ]
     },
     "execution_count": 14,
     "metadata": {},
     "output_type": "execute_result"
    }
   ],
   "source": [
    "pad_sequences(sequences, padding='pre')"
   ]
  },
  {
   "cell_type": "code",
   "execution_count": 15,
   "metadata": {},
   "outputs": [
    {
     "data": {
      "text/plain": [
       "array([[1, 2, 3, 4],\n",
       "       [3, 4, 5, 0],\n",
       "       [5, 6, 0, 0],\n",
       "       [3, 0, 0, 0]], dtype=int32)"
      ]
     },
     "execution_count": 15,
     "metadata": {},
     "output_type": "execute_result"
    }
   ],
   "source": [
    "pad_sequences(sequences, padding='post')"
   ]
  },
  {
   "cell_type": "code",
   "execution_count": 16,
   "metadata": {},
   "outputs": [
    {
     "data": {
      "text/plain": [
       "array([[3, 4],\n",
       "       [4, 5],\n",
       "       [5, 6],\n",
       "       [0, 3]], dtype=int32)"
      ]
     },
     "execution_count": 16,
     "metadata": {},
     "output_type": "execute_result"
    }
   ],
   "source": [
    "pad_sequences(sequences, maxlen=2)"
   ]
  },
  {
   "cell_type": "code",
   "execution_count": 17,
   "metadata": {},
   "outputs": [
    {
     "data": {
      "text/plain": [
       "array([[1, 2],\n",
       "       [3, 4],\n",
       "       [5, 6],\n",
       "       [0, 3]], dtype=int32)"
      ]
     },
     "execution_count": 17,
     "metadata": {},
     "output_type": "execute_result"
    }
   ],
   "source": [
    "pad_sequences(sequences, maxlen=2, truncating='post')"
   ]
  },
  {
   "cell_type": "markdown",
   "metadata": {},
   "source": [
    "### Какие архитектуры lstm нас интересуют в контексте временных рядов?\n",
    "* one-to-one - предсказание следующей точки по предыдущей - нет\n",
    "* one-to-many - предсказание следующих N точeк про предыдущей - нет\n",
    "* many-to-one - one-step-ahead предсказание - в некоторой степени\n",
    "* many-to-many -  предсказание вектора из следующих m точек по предыдущим n точкам - наибольший интерес"
   ]
  },
  {
   "cell_type": "markdown",
   "metadata": {},
   "source": [
    "### Простая LSTM сеть"
   ]
  },
  {
   "cell_type": "code",
   "execution_count": 18,
   "metadata": {},
   "outputs": [],
   "source": [
    "from keras.models import Sequential\n",
    "from keras.layers import LSTM, Dense"
   ]
  },
  {
   "cell_type": "code",
   "execution_count": 19,
   "metadata": {},
   "outputs": [],
   "source": [
    "ts = dataset['daily-min-temperatures.csv']"
   ]
  },
  {
   "cell_type": "code",
   "execution_count": 20,
   "metadata": {},
   "outputs": [
    {
     "data": {
      "text/plain": [
       "<AxesSubplot:xlabel='1981-01-01'>"
      ]
     },
     "execution_count": 20,
     "metadata": {},
     "output_type": "execute_result"
    },
    {
     "data": {
      "image/png": "[encoded data removed]",
      "text/plain": [
       "<Figure size 1080x360 with 1 Axes>"
      ]
     },
     "metadata": {
      "needs_background": "light"
     },
     "output_type": "display_data"
    }
   ],
   "source": [
    "ts.plot(figsize=(15, 5))"
   ]
  },
  {
   "cell_type": "code",
   "execution_count": 21,
   "metadata": {},
   "outputs": [],
   "source": [
    "def transform_into_matrix(ts: pd.Series, num_lags: int) -> Tuple[np.array]:\n",
    "    \"\"\"\n",
    "    Transforms time series into lags matrix to allow\n",
    "    applying supervised learning algorithms\n",
    "\n",
    "    Parameters\n",
    "    ------------\n",
    "    ts\n",
    "        Time series to transform\n",
    "    num_lags\n",
    "        Number of lags to use\n",
    "\n",
    "    Returns\n",
    "    --------\n",
    "        train, test: np.arrays of shapes (ts-num_lags, num_lags), (num_lags,)\n",
    "    \"\"\"\n",
    "\n",
    "    ts_values = ts.values\n",
    "    data = {}\n",
    "    for i in range(num_lags + 1):\n",
    "        data[f'lag_{num_lags - i}'] = np.roll(ts_values, -i)\n",
    "\n",
    "    lags_matrix = pd.DataFrame(data)[:-num_lags]\n",
    "    lags_matrix.index = ts.index[num_lags:]\n",
    "\n",
    "    return lags_matrix.drop('lag_0', axis=1).values, lags_matrix['lag_0'].values"
   ]
  },
  {
   "cell_type": "code",
   "execution_count": 22,
   "metadata": {},
   "outputs": [],
   "source": [
    "NUM_LAGS = 14\n",
    "X, y = transform_into_matrix(ts, NUM_LAGS)"
   ]
  },
  {
   "cell_type": "code",
   "execution_count": 23,
   "metadata": {},
   "outputs": [
    {
     "data": {
      "text/plain": [
       "array([17.9, 18.8, 14.6, 15.8, 15.8, 15.8, 17.4, 21.8, 20. , 16.2, 13.3,\n",
       "       16.7, 21.5, 25. ])"
      ]
     },
     "execution_count": 23,
     "metadata": {},
     "output_type": "execute_result"
    }
   ],
   "source": [
    "X[0]"
   ]
  },
  {
   "cell_type": "code",
   "execution_count": 24,
   "metadata": {},
   "outputs": [],
   "source": [
    "X = X.reshape((X.shape[0], X.shape[1], 1))"
   ]
  },
  {
   "cell_type": "code",
   "execution_count": 25,
   "metadata": {},
   "outputs": [
    {
     "data": {
      "text/plain": [
       "array([[17.9],\n",
       "       [18.8],\n",
       "       [14.6],\n",
       "       [15.8],\n",
       "       [15.8],\n",
       "       [15.8],\n",
       "       [17.4],\n",
       "       [21.8],\n",
       "       [20. ],\n",
       "       [16.2],\n",
       "       [13.3],\n",
       "       [16.7],\n",
       "       [21.5],\n",
       "       [25. ]])"
      ]
     },
     "execution_count": 25,
     "metadata": {},
     "output_type": "execute_result"
    }
   ],
   "source": [
    "X[0]"
   ]
  },
  {
   "cell_type": "code",
   "execution_count": 26,
   "metadata": {},
   "outputs": [],
   "source": [
    "split_idx = int(len(X)*0.8)\n",
    "X_train, X_test = X[:split_idx], X[split_idx:]\n",
    "y_train, y_test = y[:split_idx], y[split_idx:]"
   ]
  },
  {
   "cell_type": "code",
   "execution_count": 95,
   "metadata": {},
   "outputs": [],
   "source": [
    "model = Sequential()\n",
    "model.add(LSTM(50, activation='relu', input_shape=(NUM_LAGS, 1)))\n",
    "model.add(Dense(1))\n",
    "model.compile(optimizer='adam', loss='mse')"
   ]
  },
  {
   "cell_type": "code",
   "execution_count": 96,
   "metadata": {
    "scrolled": true
   },
   "outputs": [
    {
     "name": "stdout",
     "output_type": "stream",
     "text": [
      "Epoch 1/100\n",
      "114/114 [==============================] - 1s 4ms/step - loss: 24.1341\n",
      "Epoch 2/100\n",
      "114/114 [==============================] - 0s 3ms/step - loss: 6.5200\n",
      "Epoch 3/100\n",
      "114/114 [==============================] - 0s 4ms/step - loss: 6.1608\n",
      "Epoch 4/100\n",
      "114/114 [==============================] - 0s 3ms/step - loss: 6.1327\n",
      "Epoch 5/100\n",
      "114/114 [==============================] - 0s 3ms/step - loss: 5.9045\n",
      "Epoch 6/100\n",
      "114/114 [==============================] - 0s 4ms/step - loss: 6.1083\n",
      "Epoch 7/100\n",
      "114/114 [==============================] - 0s 4ms/step - loss: 5.8903\n",
      "Epoch 8/100\n",
      "114/114 [==============================] - 0s 4ms/step - loss: 6.3242\n",
      "Epoch 9/100\n",
      "114/114 [==============================] - 0s 4ms/step - loss: 5.8450\n",
      "Epoch 10/100\n",
      "114/114 [==============================] - 0s 4ms/step - loss: 5.6624\n",
      "Epoch 11/100\n",
      "114/114 [==============================] - 0s 4ms/step - loss: 6.0762\n",
      "Epoch 12/100\n",
      "114/114 [==============================] - 0s 3ms/step - loss: 5.9472\n",
      "Epoch 13/100\n",
      "114/114 [==============================] - 0s 4ms/step - loss: 5.7521\n",
      "Epoch 14/100\n",
      "114/114 [==============================] - 0s 4ms/step - loss: 5.6699\n",
      "Epoch 15/100\n",
      "114/114 [==============================] - 0s 3ms/step - loss: 5.7272\n",
      "Epoch 16/100\n",
      "114/114 [==============================] - 0s 4ms/step - loss: 5.6247\n",
      "Epoch 17/100\n",
      "114/114 [==============================] - 0s 4ms/step - loss: 5.6212\n",
      "Epoch 18/100\n",
      "114/114 [==============================] - 0s 4ms/step - loss: 5.7601\n",
      "Epoch 19/100\n",
      "114/114 [==============================] - 0s 3ms/step - loss: 5.8613\n",
      "Epoch 20/100\n",
      "114/114 [==============================] - 0s 4ms/step - loss: 5.7870\n",
      "Epoch 21/100\n",
      "114/114 [==============================] - 0s 4ms/step - loss: 5.7498\n",
      "Epoch 22/100\n",
      "114/114 [==============================] - 0s 4ms/step - loss: 5.8784\n",
      "Epoch 23/100\n",
      "114/114 [==============================] - 0s 3ms/step - loss: 5.6167\n",
      "Epoch 24/100\n",
      "114/114 [==============================] - 0s 3ms/step - loss: 5.9270\n",
      "Epoch 25/100\n",
      "114/114 [==============================] - 0s 4ms/step - loss: 5.8153\n",
      "Epoch 26/100\n",
      "114/114 [==============================] - 0s 4ms/step - loss: 6.0287\n",
      "Epoch 27/100\n",
      "114/114 [==============================] - 0s 3ms/step - loss: 5.7828\n",
      "Epoch 28/100\n",
      "114/114 [==============================] - 0s 3ms/step - loss: 5.8370\n",
      "Epoch 29/100\n",
      "114/114 [==============================] - 0s 4ms/step - loss: 5.7299\n",
      "Epoch 30/100\n",
      "114/114 [==============================] - 0s 4ms/step - loss: 6.0772\n",
      "Epoch 31/100\n",
      "114/114 [==============================] - 0s 3ms/step - loss: 5.7117\n",
      "Epoch 32/100\n",
      "114/114 [==============================] - 0s 4ms/step - loss: 5.7788\n",
      "Epoch 33/100\n",
      "114/114 [==============================] - 0s 4ms/step - loss: 5.7784\n",
      "Epoch 34/100\n",
      "114/114 [==============================] - 0s 3ms/step - loss: 5.7097\n",
      "Epoch 35/100\n",
      "114/114 [==============================] - 0s 3ms/step - loss: 5.8638\n",
      "Epoch 36/100\n",
      "114/114 [==============================] - 0s 3ms/step - loss: 5.4091\n",
      "Epoch 37/100\n",
      "114/114 [==============================] - 0s 3ms/step - loss: 5.5479\n",
      "Epoch 38/100\n",
      "114/114 [==============================] - 0s 3ms/step - loss: 5.6330\n",
      "Epoch 39/100\n",
      "114/114 [==============================] - 0s 3ms/step - loss: 5.4289\n",
      "Epoch 40/100\n",
      "114/114 [==============================] - 0s 3ms/step - loss: 5.9727\n",
      "Epoch 41/100\n",
      "114/114 [==============================] - 0s 3ms/step - loss: 5.8328\n",
      "Epoch 42/100\n",
      "114/114 [==============================] - 0s 3ms/step - loss: 5.7891\n",
      "Epoch 43/100\n",
      "114/114 [==============================] - 0s 3ms/step - loss: 5.7956\n",
      "Epoch 44/100\n",
      "114/114 [==============================] - 0s 3ms/step - loss: 6.0376\n",
      "Epoch 45/100\n",
      "114/114 [==============================] - 0s 3ms/step - loss: 5.7052\n",
      "Epoch 46/100\n",
      "114/114 [==============================] - 0s 3ms/step - loss: 5.5995\n",
      "Epoch 47/100\n",
      "114/114 [==============================] - 0s 3ms/step - loss: 5.5645\n",
      "Epoch 48/100\n",
      "114/114 [==============================] - 0s 3ms/step - loss: 5.6895\n",
      "Epoch 49/100\n",
      "114/114 [==============================] - 0s 3ms/step - loss: 5.5933\n",
      "Epoch 50/100\n",
      "114/114 [==============================] - 0s 3ms/step - loss: 5.5712\n",
      "Epoch 51/100\n",
      "114/114 [==============================] - 0s 3ms/step - loss: 5.5652\n",
      "Epoch 52/100\n",
      "114/114 [==============================] - 0s 3ms/step - loss: 5.7904\n",
      "Epoch 53/100\n",
      "114/114 [==============================] - 0s 3ms/step - loss: 5.5501\n",
      "Epoch 54/100\n",
      "114/114 [==============================] - 0s 4ms/step - loss: 5.7540\n",
      "Epoch 55/100\n",
      "114/114 [==============================] - 1s 5ms/step - loss: 5.4531\n",
      "Epoch 56/100\n",
      "114/114 [==============================] - 0s 4ms/step - loss: 5.5386\n",
      "Epoch 57/100\n",
      "114/114 [==============================] - 0s 3ms/step - loss: 5.5832\n",
      "Epoch 58/100\n",
      "114/114 [==============================] - 0s 3ms/step - loss: 5.6248\n",
      "Epoch 59/100\n",
      "114/114 [==============================] - 0s 3ms/step - loss: 5.6139\n",
      "Epoch 60/100\n",
      "114/114 [==============================] - 0s 3ms/step - loss: 5.4946\n",
      "Epoch 61/100\n",
      "114/114 [==============================] - 0s 3ms/step - loss: 5.5391\n",
      "Epoch 62/100\n",
      "114/114 [==============================] - 0s 4ms/step - loss: 5.5484\n",
      "Epoch 63/100\n",
      "114/114 [==============================] - 0s 4ms/step - loss: 5.5955\n",
      "Epoch 64/100\n",
      "114/114 [==============================] - 0s 4ms/step - loss: 5.6783\n",
      "Epoch 65/100\n",
      "114/114 [==============================] - 0s 4ms/step - loss: 5.5206\n",
      "Epoch 66/100\n",
      "114/114 [==============================] - 0s 4ms/step - loss: 5.8166\n",
      "Epoch 67/100\n",
      "114/114 [==============================] - 0s 3ms/step - loss: 5.5564\n",
      "Epoch 68/100\n",
      "114/114 [==============================] - 0s 3ms/step - loss: 5.4683\n",
      "Epoch 69/100\n",
      "114/114 [==============================] - 0s 3ms/step - loss: 5.4989\n",
      "Epoch 70/100\n",
      "114/114 [==============================] - 0s 3ms/step - loss: 5.5978\n",
      "Epoch 71/100\n",
      "114/114 [==============================] - 0s 3ms/step - loss: 5.4930\n",
      "Epoch 72/100\n",
      "114/114 [==============================] - 0s 3ms/step - loss: 5.2280\n",
      "Epoch 73/100\n",
      "114/114 [==============================] - 0s 3ms/step - loss: 5.5236\n",
      "Epoch 74/100\n",
      "114/114 [==============================] - 0s 3ms/step - loss: 5.6388\n",
      "Epoch 75/100\n",
      "114/114 [==============================] - 0s 3ms/step - loss: 5.5944\n",
      "Epoch 76/100\n",
      "114/114 [==============================] - 0s 3ms/step - loss: 5.6239\n",
      "Epoch 77/100\n",
      "114/114 [==============================] - 0s 3ms/step - loss: 5.5954\n",
      "Epoch 78/100\n",
      "114/114 [==============================] - 0s 3ms/step - loss: 5.5532\n",
      "Epoch 79/100\n",
      "114/114 [==============================] - 0s 3ms/step - loss: 5.5001\n",
      "Epoch 80/100\n",
      "114/114 [==============================] - 1s 6ms/step - loss: 5.1741\n",
      "Epoch 81/100\n",
      "114/114 [==============================] - 1s 8ms/step - loss: 5.4916\n",
      "Epoch 82/100\n",
      "114/114 [==============================] - 1s 6ms/step - loss: 5.4639\n",
      "Epoch 83/100\n",
      "114/114 [==============================] - 1s 5ms/step - loss: 5.3415\n",
      "Epoch 84/100\n",
      "114/114 [==============================] - 1s 5ms/step - loss: 5.3598\n",
      "Epoch 85/100\n",
      "114/114 [==============================] - 1s 5ms/step - loss: 5.3223\n",
      "Epoch 86/100\n",
      "114/114 [==============================] - 1s 5ms/step - loss: 5.2536\n",
      "Epoch 87/100\n",
      "114/114 [==============================] - 0s 3ms/step - loss: 5.3643\n",
      "Epoch 88/100\n",
      "114/114 [==============================] - 0s 4ms/step - loss: 5.3779\n",
      "Epoch 89/100\n",
      "114/114 [==============================] - 0s 3ms/step - loss: 5.5052\n",
      "Epoch 90/100\n",
      "114/114 [==============================] - 0s 4ms/step - loss: 5.4546\n",
      "Epoch 91/100\n",
      "114/114 [==============================] - 0s 4ms/step - loss: 5.3349\n",
      "Epoch 92/100\n",
      "114/114 [==============================] - 0s 3ms/step - loss: 5.3708\n",
      "Epoch 93/100\n",
      "114/114 [==============================] - 0s 3ms/step - loss: 5.3885\n",
      "Epoch 94/100\n",
      "114/114 [==============================] - 0s 3ms/step - loss: 5.2938\n",
      "Epoch 95/100\n",
      "114/114 [==============================] - 0s 3ms/step - loss: 5.3233\n",
      "Epoch 96/100\n",
      "114/114 [==============================] - 0s 3ms/step - loss: 5.3413\n",
      "Epoch 97/100\n",
      "114/114 [==============================] - 0s 3ms/step - loss: 5.2886\n",
      "Epoch 98/100\n",
      "114/114 [==============================] - 0s 3ms/step - loss: 5.3147\n",
      "Epoch 99/100\n",
      "114/114 [==============================] - 0s 3ms/step - loss: 5.2812\n",
      "Epoch 100/100\n",
      "114/114 [==============================] - 0s 3ms/step - loss: 5.2517\n"
     ]
    },
    {
     "data": {
      "text/plain": [
       "<tensorflow.python.keras.callbacks.History at 0x1758fd4c0>"
      ]
     },
     "execution_count": 96,
     "metadata": {},
     "output_type": "execute_result"
    }
   ],
   "source": [
    "model.fit(X, y, epochs=100)"
   ]
  },
  {
   "cell_type": "code",
   "execution_count": 97,
   "metadata": {},
   "outputs": [],
   "source": [
    "y_pred = model.predict(X_test)"
   ]
  },
  {
   "cell_type": "code",
   "execution_count": 98,
   "metadata": {},
   "outputs": [
    {
     "data": {
      "text/plain": [
       "<AxesSubplot:>"
      ]
     },
     "execution_count": 98,
     "metadata": {},
     "output_type": "execute_result"
    },
    {
     "data": {
      "image/png": "[encoded data removed]",
      "text/plain": [
       "<Figure size 432x288 with 1 Axes>"
      ]
     },
     "metadata": {
      "needs_background": "light"
     },
     "output_type": "display_data"
    }
   ],
   "source": [
    "pd.Series(y_test.flatten())[-50:].plot()\n",
    "pd.Series(y_pred.flatten())[-50:].plot()"
   ]
  },
  {
   "cell_type": "code",
   "execution_count": 99,
   "metadata": {},
   "outputs": [],
   "source": [
    "### данный результат на самом деле не сильно лучше наивного предсказания"
   ]
  },
  {
   "cell_type": "code",
   "execution_count": 100,
   "metadata": {},
   "outputs": [],
   "source": [
    "from sklearn.metrics import mean_squared_error as mse"
   ]
  },
  {
   "cell_type": "code",
   "execution_count": 101,
   "metadata": {},
   "outputs": [
    {
     "data": {
      "text/plain": [
       "4.4021325201124935"
      ]
     },
     "execution_count": 101,
     "metadata": {},
     "output_type": "execute_result"
    }
   ],
   "source": [
    "mse(y_test.flatten(), y_pred.flatten())"
   ]
  },
  {
   "cell_type": "markdown",
   "metadata": {},
   "source": [
    "### Stacked LSTM"
   ]
  },
  {
   "cell_type": "markdown",
   "metadata": {},
   "source": [
    "#### Добавьте дополнительные скрытые слои в сеть (используйте return_sequences=True) и сравните качество"
   ]
  },
  {
   "cell_type": "code",
   "execution_count": 27,
   "metadata": {},
   "outputs": [],
   "source": [
    "model = Sequential()\n",
    "# your code here\n",
    "model.compile(optimizer='adam', loss='mse')"
   ]
  },
  {
   "cell_type": "code",
   "execution_count": 103,
   "metadata": {
    "scrolled": true
   },
   "outputs": [
    {
     "data": {
      "text/plain": [
       "<tensorflow.python.keras.callbacks.History at 0x175c29df0>"
      ]
     },
     "execution_count": 103,
     "metadata": {},
     "output_type": "execute_result"
    }
   ],
   "source": [
    "model.fit(X_train, y_train, epochs=100, verbose=0)"
   ]
  },
  {
   "cell_type": "code",
   "execution_count": 65,
   "metadata": {},
   "outputs": [],
   "source": [
    "y_pred = model.predict(X_test)"
   ]
  },
  {
   "cell_type": "code",
   "execution_count": 66,
   "metadata": {},
   "outputs": [
    {
     "data": {
      "text/plain": [
       "<AxesSubplot:>"
      ]
     },
     "execution_count": 66,
     "metadata": {},
     "output_type": "execute_result"
    },
    {
     "data": {
      "image/png": "[encoded data removed]",
      "text/plain": [
       "<Figure size 432x288 with 1 Axes>"
      ]
     },
     "metadata": {
      "needs_background": "light"
     },
     "output_type": "display_data"
    }
   ],
   "source": [
    "pd.Series(y_test.flatten())[-50:].plot()\n",
    "pd.Series(y_pred.flatten())[-50:].plot()"
   ]
  },
  {
   "cell_type": "code",
   "execution_count": null,
   "metadata": {},
   "outputs": [],
   "source": []
  },
  {
   "cell_type": "markdown",
   "metadata": {},
   "source": [
    "### Bidirectional LSTM"
   ]
  },
  {
   "cell_type": "markdown",
   "metadata": {},
   "source": [
    "#### Сделаем LSTM слой сети Bidirectional при помощи доп слоя Biderectional и сравним качество"
   ]
  },
  {
   "cell_type": "code",
   "execution_count": 28,
   "metadata": {},
   "outputs": [],
   "source": [
    "from keras.layers import Bidirectional\n",
    "\n",
    "model = Sequential()\n",
    "# your code here\n",
    "model.compile(optimizer='adam', loss='mse')"
   ]
  },
  {
   "cell_type": "code",
   "execution_count": 42,
   "metadata": {},
   "outputs": [
    {
     "data": {
      "text/plain": [
       "<tensorflow.python.keras.callbacks.History at 0x120d35828>"
      ]
     },
     "execution_count": 42,
     "metadata": {},
     "output_type": "execute_result"
    }
   ],
   "source": [
    "model.fit(X_train, y_train, epochs=10, verbose=0)"
   ]
  },
  {
   "cell_type": "code",
   "execution_count": 43,
   "metadata": {},
   "outputs": [],
   "source": [
    "y_pred = model.predict(X_test)"
   ]
  },
  {
   "cell_type": "markdown",
   "metadata": {},
   "source": [
    "### Seq2Seq LSTM - когда нужно сделать предсказание на несколько точек вперед"
   ]
  },
  {
   "cell_type": "markdown",
   "metadata": {},
   "source": [
    "#### Подготовим данные"
   ]
  },
  {
   "cell_type": "code",
   "execution_count": 46,
   "metadata": {},
   "outputs": [],
   "source": [
    "from typing import Tuple\n",
    "\n",
    "def transform_ts_into_matrix(ts: pd.Series, num_lags_in: int, num_lags_out: int) -> Tuple[np.array, np.array]:\n",
    "    \"\"\"\n",
    "    Данная функция должна пройтись скользящим окном по временному ряду и для каждых\n",
    "    num_lags_in точек в качестве признаков собрать num_lags_out следующих точек в качестве таргета.\n",
    "    \n",
    "    Вернуть два np.array массива из X_train и y_train соответственно\n",
    "    \"\"\"\n",
    "    sequence = ts.values\n",
    "    X, y = list(), list()\n",
    "    i = 0\n",
    "    outer_idx = num_lags_out\n",
    "    while outer_idx < len(sequence):\n",
    "        inner_idx = i + num_lags_in\n",
    "        outer_idx = inner_idx + num_lags_out\n",
    "        X_, y_ = sequence[i:inner_idx], sequence[inner_idx:outer_idx]\n",
    "        X.append(X_)\n",
    "        y.append(y_)\n",
    "        i += 1\n",
    "    return np.array(X), np.array(y)"
   ]
  },
  {
   "cell_type": "code",
   "execution_count": 47,
   "metadata": {},
   "outputs": [],
   "source": [
    "# получим X и y при помощи предыдущей функции и разбейте на трейн и тест \n",
    "NUM_LAGS_IN = 28\n",
    "NUM_LAGS_OUT = 7\n",
    "X, y = transform_ts_into_matrix(ts, NUM_LAGS_IN, NUM_LAGS_OUT)\n",
    "X = X.reshape((X.shape[0], X.shape[1], 1))\n",
    "\n",
    "split_idx = int(len(X)*0.8)\n",
    "X_train, X_test = X[:split_idx], X[split_idx:]\n",
    "y_train, y_test = y[:split_idx], y[split_idx:]"
   ]
  },
  {
   "cell_type": "code",
   "execution_count": 48,
   "metadata": {},
   "outputs": [],
   "source": [
    "# объявим енкодер\n",
    "model = Sequential()\n",
    "model.add(LSTM(100, activation='relu', input_shape=(NUM_LAGS_IN, 1)))"
   ]
  },
  {
   "cell_type": "code",
   "execution_count": 49,
   "metadata": {},
   "outputs": [],
   "source": [
    "# добавим промежуточный слой, преобразующий выход с енкодера для входного слоя в декодер\n",
    "from keras.layers import RepeatVector\n",
    "model.add(RepeatVector(NUM_LAGS_OUT))"
   ]
  },
  {
   "cell_type": "code",
   "execution_count": 50,
   "metadata": {},
   "outputs": [],
   "source": [
    "# обьявим декодер\n",
    "model.add(LSTM(50, activation='relu', return_sequences=True))"
   ]
  },
  {
   "cell_type": "code",
   "execution_count": 51,
   "metadata": {},
   "outputs": [],
   "source": [
    "# обьявим выходной слой - размерность на выходе получается при помощи дополнительного слоя TimeDistributed\n",
    "from keras.layers import TimeDistributed\n",
    "model.add(TimeDistributed(Dense(1)))"
   ]
  },
  {
   "cell_type": "markdown",
   "metadata": {},
   "source": [
    "#### Обучим модель и получим предсказание на тесте"
   ]
  },
  {
   "cell_type": "code",
   "execution_count": 52,
   "metadata": {},
   "outputs": [],
   "source": [
    "model.compile(optimizer='adam', loss='mse')"
   ]
  },
  {
   "cell_type": "code",
   "execution_count": 53,
   "metadata": {},
   "outputs": [
    {
     "data": {
      "text/plain": [
       "<tensorflow.python.keras.callbacks.History at 0x178940190>"
      ]
     },
     "execution_count": 53,
     "metadata": {},
     "output_type": "execute_result"
    }
   ],
   "source": [
    "model.fit(X_train, y_train, epochs=10, verbose=0)"
   ]
  },
  {
   "cell_type": "code",
   "execution_count": 106,
   "metadata": {},
   "outputs": [],
   "source": [
    "y_pred = model.predict(X_test)"
   ]
  },
  {
   "cell_type": "code",
   "execution_count": null,
   "metadata": {},
   "outputs": [],
   "source": []
  },
  {
   "cell_type": "markdown",
   "metadata": {},
   "source": [
    "### Пример с многомерным рядом."
   ]
  },
  {
   "cell_type": "code",
   "execution_count": 50,
   "metadata": {},
   "outputs": [],
   "source": [
    "ts_multi = pd.read_csv('../data/stability_index.csv', index_col='timestamp', parse_dates=True)"
   ]
  },
  {
   "cell_type": "code",
   "execution_count": 51,
   "metadata": {},
   "outputs": [],
   "source": [
    "ts_multi.fillna(ts_multi.mean(), axis=0, inplace=True)"
   ]
  },
  {
   "cell_type": "code",
   "execution_count": 73,
   "metadata": {},
   "outputs": [],
   "source": [
    "def transform_multi_ts_into_matrix(ts: pd.DataFrame, num_lags: int):\n",
    "    \"\"\"\n",
    "    Данная функция должна пройтись скользящим окном по временному ряду\n",
    "    и собрать в качестве признаков X np.array размерности (len(ts)-num_lags, n_dims, num_lags),\n",
    "    а в качестве y np.array размерности (len(ts)-num_lags, n_dims),\n",
    "    где n_dims - размерность многомерного ряда.\n",
    "    \n",
    "    То есть для всех компонент временного ряда мы должны взять num_lags предыдущих точек каждой компонент\n",
    "    в качестве признаков и все компоненты текущей точки в качестве target\n",
    "    \"\"\"\n",
    "    sequence = ts.values\n",
    "    X, y = list(), list()\n",
    "    i = 0\n",
    "    end_i = num_lags\n",
    "    while end_i < len(sequence): \n",
    "        seq_x, seq_y = sequence[i:end_i], sequence[end_i]\n",
    "        X.append(seq_x)\n",
    "        y.append(seq_y)\n",
    "        i += 1\n",
    "        end_i = i + num_lags\n",
    "    return np.array(X), np.array(y)"
   ]
  },
  {
   "cell_type": "code",
   "execution_count": 74,
   "metadata": {},
   "outputs": [],
   "source": [
    "NUM_LAGS = 14\n",
    "N_DIMS = ts_multi.shape[1]\n",
    "X, y = transform_multi_ts_into_matrix(ts_multi, NUM_LAGS)"
   ]
  },
  {
   "cell_type": "code",
   "execution_count": 75,
   "metadata": {},
   "outputs": [
    {
     "data": {
      "text/plain": [
       "(14, 9)"
      ]
     },
     "execution_count": 75,
     "metadata": {},
     "output_type": "execute_result"
    }
   ],
   "source": [
    "X[0].shape"
   ]
  },
  {
   "cell_type": "code",
   "execution_count": 76,
   "metadata": {},
   "outputs": [],
   "source": [
    "# объявим енкодер\n",
    "model = Sequential()\n",
    "model.add(LSTM(100, activation='relu', input_shape=(NUM_LAGS, N_DIMS)))"
   ]
  },
  {
   "cell_type": "code",
   "execution_count": 77,
   "metadata": {},
   "outputs": [],
   "source": [
    "# добавим промежуточный слой, преобразующий выход с енкодера для входного слоя в декодер\n",
    "from keras.layers import RepeatVector\n",
    "model.add(RepeatVector(N_DIMS))"
   ]
  },
  {
   "cell_type": "code",
   "execution_count": 78,
   "metadata": {},
   "outputs": [],
   "source": [
    "# обьявим декодер\n",
    "model.add(LSTM(50, activation='relu', return_sequences=True))"
   ]
  },
  {
   "cell_type": "code",
   "execution_count": 79,
   "metadata": {},
   "outputs": [],
   "source": [
    "# обьявим выходной слой - размерность на выходе получается при помощи дополнительного слоя TimeDistributed\n",
    "from keras.layers import TimeDistributed\n",
    "model.add(TimeDistributed(Dense(1)))"
   ]
  },
  {
   "cell_type": "code",
   "execution_count": 81,
   "metadata": {},
   "outputs": [],
   "source": [
    "model.compile(optimizer='adam', loss='mse')"
   ]
  },
  {
   "cell_type": "code",
   "execution_count": 83,
   "metadata": {},
   "outputs": [
    {
     "name": "stdout",
     "output_type": "stream",
     "text": [
      "Epoch 1/50\n",
      "130/130 [==============================] - 1s 9ms/step - loss: 4337.5293\n",
      "Epoch 2/50\n",
      "130/130 [==============================] - 1s 10ms/step - loss: 3359.5718\n",
      "Epoch 3/50\n",
      "130/130 [==============================] - 1s 11ms/step - loss: 2346.5215\n",
      "Epoch 4/50\n",
      "130/130 [==============================] - 1s 11ms/step - loss: 1834.7770\n",
      "Epoch 5/50\n",
      "130/130 [==============================] - 1s 9ms/step - loss: 1693.2955\n",
      "Epoch 6/50\n",
      "130/130 [==============================] - 1s 10ms/step - loss: 1496.0602\n",
      "Epoch 7/50\n",
      "130/130 [==============================] - 1s 10ms/step - loss: 1387.5758\n",
      "Epoch 8/50\n",
      "130/130 [==============================] - 1s 11ms/step - loss: 1265.3087\n",
      "Epoch 9/50\n",
      "130/130 [==============================] - 1s 9ms/step - loss: 1505.0157\n",
      "Epoch 10/50\n",
      "130/130 [==============================] - 1s 9ms/step - loss: 1514.8870\n",
      "Epoch 11/50\n",
      "130/130 [==============================] - 1s 8ms/step - loss: 1301.9706\n",
      "Epoch 12/50\n",
      "130/130 [==============================] - 1s 9ms/step - loss: 1278.9486\n",
      "Epoch 13/50\n",
      "130/130 [==============================] - 1s 9ms/step - loss: 1309.2554\n",
      "Epoch 14/50\n",
      "130/130 [==============================] - 1s 9ms/step - loss: 1628.4979\n",
      "Epoch 15/50\n",
      "130/130 [==============================] - 1s 9ms/step - loss: 1819.9342\n",
      "Epoch 16/50\n",
      "130/130 [==============================] - 1s 9ms/step - loss: 1520.2660\n",
      "Epoch 17/50\n",
      "130/130 [==============================] - 1s 9ms/step - loss: 1324.4885\n",
      "Epoch 18/50\n",
      "130/130 [==============================] - 1s 9ms/step - loss: 1299.3295\n",
      "Epoch 19/50\n",
      "130/130 [==============================] - 1s 9ms/step - loss: 1186.3156\n",
      "Epoch 20/50\n",
      "130/130 [==============================] - 1s 10ms/step - loss: 1122.8571\n",
      "Epoch 21/50\n",
      "130/130 [==============================] - 1s 9ms/step - loss: 1125.4316\n",
      "Epoch 22/50\n",
      "130/130 [==============================] - 1s 10ms/step - loss: 1119.9897\n",
      "Epoch 23/50\n",
      "130/130 [==============================] - 1s 9ms/step - loss: 1101.6624\n",
      "Epoch 24/50\n",
      "130/130 [==============================] - 1s 9ms/step - loss: 1097.9153\n",
      "Epoch 25/50\n",
      "130/130 [==============================] - 1s 9ms/step - loss: 1144.5050\n",
      "Epoch 26/50\n",
      "130/130 [==============================] - 1s 9ms/step - loss: 1181.8234\n",
      "Epoch 27/50\n",
      "130/130 [==============================] - 1s 10ms/step - loss: 1165.9486\n",
      "Epoch 28/50\n",
      "130/130 [==============================] - 1s 10ms/step - loss: 1132.3014\n",
      "Epoch 29/50\n",
      "130/130 [==============================] - 1s 10ms/step - loss: 1069.6210\n",
      "Epoch 30/50\n",
      "130/130 [==============================] - 1s 9ms/step - loss: 1028.5364\n",
      "Epoch 31/50\n",
      "130/130 [==============================] - 1s 9ms/step - loss: 1086.3086\n",
      "Epoch 32/50\n",
      "130/130 [==============================] - 1s 9ms/step - loss: 1303.5736\n",
      "Epoch 33/50\n",
      "130/130 [==============================] - 1s 9ms/step - loss: 1373.5681\n",
      "Epoch 34/50\n",
      "130/130 [==============================] - 1s 9ms/step - loss: 1222.9882\n",
      "Epoch 35/50\n",
      "130/130 [==============================] - 1s 9ms/step - loss: 1151.4961\n",
      "Epoch 36/50\n",
      "130/130 [==============================] - 1s 9ms/step - loss: 1116.9482\n",
      "Epoch 37/50\n",
      "130/130 [==============================] - 1s 11ms/step - loss: 1094.3457\n",
      "Epoch 38/50\n",
      "130/130 [==============================] - 1s 10ms/step - loss: 1046.0753\n",
      "Epoch 39/50\n",
      "130/130 [==============================] - 1s 9ms/step - loss: 1030.7870\n",
      "Epoch 40/50\n",
      "130/130 [==============================] - 1s 9ms/step - loss: 1446.4260\n",
      "Epoch 41/50\n",
      "130/130 [==============================] - 1s 9ms/step - loss: 1158.3619\n",
      "Epoch 42/50\n",
      "130/130 [==============================] - 1s 10ms/step - loss: 1058.0692\n",
      "Epoch 43/50\n",
      "130/130 [==============================] - 1s 10ms/step - loss: 1028.4990\n",
      "Epoch 44/50\n",
      "130/130 [==============================] - 1s 10ms/step - loss: 1020.4298\n",
      "Epoch 45/50\n",
      "130/130 [==============================] - 1s 10ms/step - loss: 1017.2426\n",
      "Epoch 46/50\n",
      "130/130 [==============================] - 1s 10ms/step - loss: 995.0058\n",
      "Epoch 47/50\n",
      "130/130 [==============================] - 1s 10ms/step - loss: 979.2719\n",
      "Epoch 48/50\n",
      "130/130 [==============================] - 1s 10ms/step - loss: 965.5411\n",
      "Epoch 49/50\n",
      "130/130 [==============================] - 1s 10ms/step - loss: 982.8457\n",
      "Epoch 50/50\n",
      "130/130 [==============================] - 1s 10ms/step - loss: 954.3374\n"
     ]
    },
    {
     "data": {
      "text/plain": [
       "<tensorflow.python.keras.callbacks.History at 0x154793ac8>"
      ]
     },
     "execution_count": 83,
     "metadata": {},
     "output_type": "execute_result"
    }
   ],
   "source": [
    "model.fit(X, y, epochs=50)"
   ]
  },
  {
   "cell_type": "code",
   "execution_count": null,
   "metadata": {},
   "outputs": [],
   "source": []
  }
 ],
 "metadata": {
  "kernelspec": {
   "display_name": "Python 3",
   "language": "python",
   "name": "python3"
  },
  "language_info": {
   "codemirror_mode": {
    "name": "ipython",
    "version": 3
   },
   "file_extension": ".py",
   "mimetype": "text/x-python",
   "name": "python",
   "nbconvert_exporter": "python",
   "pygments_lexer": "ipython3",
   "version": "3.8.2"
  }
 },
 "nbformat": 4,
 "nbformat_minor": 4
}
