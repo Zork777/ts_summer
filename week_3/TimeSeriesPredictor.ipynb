{
 "cells": [
  {
   "cell_type": "code",
   "execution_count": 2,
   "id": "stuck-blood",
   "metadata": {},
   "outputs": [
    {
     "name": "stdout",
     "output_type": "stream",
     "text": [
      "The autoreload extension is already loaded. To reload it, use:\n",
      "  %reload_ext autoreload\n"
     ]
    }
   ],
   "source": [
    "%load_ext autoreload\n",
    "%autoreload 2"
   ]
  },
  {
   "cell_type": "code",
   "execution_count": 3,
   "id": "starting-teacher",
   "metadata": {},
   "outputs": [],
   "source": [
    "import sys\n",
    "from pathlib import Path\n",
    "\n",
    "sys.path.append(str(Path().cwd().parent))"
   ]
  },
  {
   "cell_type": "code",
   "execution_count": 4,
   "id": "initial-owner",
   "metadata": {},
   "outputs": [],
   "source": [
    "from plotting import plot_ts"
   ]
  },
  {
   "cell_type": "markdown",
   "id": "sharing-happening",
   "metadata": {},
   "source": [
    "### Возьмем временной ряд"
   ]
  },
  {
   "cell_type": "code",
   "execution_count": 5,
   "id": "toxic-wayne",
   "metadata": {},
   "outputs": [],
   "source": [
    "from load_dataset import Dataset"
   ]
  },
  {
   "cell_type": "code",
   "execution_count": 6,
   "id": "infinite-financing",
   "metadata": {},
   "outputs": [],
   "source": [
    "ds = Dataset('../data/dataset/')"
   ]
  },
  {
   "cell_type": "code",
   "execution_count": 7,
   "id": "asian-guitar",
   "metadata": {},
   "outputs": [],
   "source": [
    "ts = ds['daily-min-temperatures.csv']"
   ]
  },
  {
   "cell_type": "markdown",
   "id": "breathing-hebrew",
   "metadata": {},
   "source": [
    "### Cоздание инстанса"
   ]
  },
  {
   "cell_type": "code",
   "execution_count": 8,
   "id": "described-morrison",
   "metadata": {},
   "outputs": [],
   "source": [
    "from model import TimeSeriesPredictor"
   ]
  },
  {
   "cell_type": "markdown",
   "id": "cognitive-arthritis",
   "metadata": {},
   "source": [
    "в качестве обязательных параметров принимает частоту ряда в формате iso8601\n",
    "и количество лагов для построения модели - granularity и num_lags"
   ]
  },
  {
   "cell_type": "code",
   "execution_count": 9,
   "id": "blank-innocent",
   "metadata": {},
   "outputs": [],
   "source": [
    "predictor = TimeSeriesPredictor('P1D', 365)"
   ]
  },
  {
   "cell_type": "markdown",
   "id": "narrow-publisher",
   "metadata": {},
   "source": [
    "также predictor'y можно передать параметр model, чтобы использовать конкретную модель для прогнозирования, модель может быть любым sklearn-совместимым эстиматором"
   ]
  },
  {
   "cell_type": "code",
   "execution_count": 10,
   "id": "rural-effect",
   "metadata": {},
   "outputs": [],
   "source": [
    "from sklearn.ensemble import GradientBoostingRegressor\n",
    "\n",
    "predictor = TimeSeriesPredictor('P1D', 365, model=GradientBoostingRegressor)"
   ]
  },
  {
   "cell_type": "markdown",
   "id": "crude-stockholm",
   "metadata": {},
   "source": [
    "model по умолчанию - LinearRegression"
   ]
  },
  {
   "cell_type": "code",
   "execution_count": 11,
   "id": "hourly-fishing",
   "metadata": {},
   "outputs": [
    {
     "data": {
      "text/plain": [
       "LinearRegression()"
      ]
     },
     "execution_count": 11,
     "metadata": {},
     "output_type": "execute_result"
    }
   ],
   "source": [
    "predictor = TimeSeriesPredictor('P1D', 365)\n",
    "predictor.model"
   ]
  },
  {
   "cell_type": "markdown",
   "id": "smooth-engine",
   "metadata": {},
   "source": [
    "также для передачи дополнительной информации в модель вы можете использовать параметр mappers куда нужно передать ваши функции, принимающие timestamp и возвращающие для него значение вашего доп признака"
   ]
  },
  {
   "cell_type": "code",
   "execution_count": 12,
   "id": "armed-water",
   "metadata": {},
   "outputs": [],
   "source": [
    "def get_hour(timestamp):\n",
    "    return timestamp.hour\n",
    "\n",
    "external_features = {\n",
    "    'hour': get_hour\n",
    "}\n",
    "\n",
    "predictor = TimeSeriesPredictor('P1D', 365, mappers=external_features)"
   ]
  },
  {
   "cell_type": "markdown",
   "id": "informed-nevada",
   "metadata": {},
   "source": [
    "Помимо основных параметровв модель также можно передать любое произвольно количество именованных аргументов **kwargs, которые будут переданы в конструктор `model`"
   ]
  },
  {
   "cell_type": "code",
   "execution_count": 13,
   "id": "raised-demographic",
   "metadata": {},
   "outputs": [],
   "source": [
    "from sklearn.ensemble import GradientBoostingRegressor\n",
    "\n",
    "predictor = TimeSeriesPredictor('P1D', 365, model=GradientBoostingRegressor, max_depth=6, n_estimators=1000)"
   ]
  },
  {
   "cell_type": "markdown",
   "id": "involved-suspension",
   "metadata": {},
   "source": [
    "### Получение и установка параметров и функционал get/set params"
   ]
  },
  {
   "cell_type": "markdown",
   "id": "involved-compensation",
   "metadata": {},
   "source": [
    "классическое получение и задание аттрибутов"
   ]
  },
  {
   "cell_type": "code",
   "execution_count": 14,
   "id": "known-turkey",
   "metadata": {},
   "outputs": [
    {
     "data": {
      "text/plain": [
       "0.1"
      ]
     },
     "execution_count": 14,
     "metadata": {},
     "output_type": "execute_result"
    }
   ],
   "source": [
    "predictor.num_lags\n",
    "predictor.model\n",
    "predictor.model.learning_rate"
   ]
  },
  {
   "cell_type": "code",
   "execution_count": 15,
   "id": "designed-alfred",
   "metadata": {},
   "outputs": [],
   "source": [
    "predictor.model.learning_rate = 0.2"
   ]
  },
  {
   "cell_type": "code",
   "execution_count": 16,
   "id": "interstate-refrigerator",
   "metadata": {},
   "outputs": [
    {
     "data": {
      "text/plain": [
       "0.2"
      ]
     },
     "execution_count": 16,
     "metadata": {},
     "output_type": "execute_result"
    }
   ],
   "source": [
    "predictor.model.learning_rate"
   ]
  },
  {
   "cell_type": "markdown",
   "id": "acoustic-blowing",
   "metadata": {},
   "source": [
    "метод get_params получает словарь всех параметров модели включая sub-параметры модели, в таком случае они идут с префиксом\n",
    "`model__`"
   ]
  },
  {
   "cell_type": "code",
   "execution_count": 17,
   "id": "statewide-writer",
   "metadata": {},
   "outputs": [
    {
     "data": {
      "text/plain": [
       "{'granularity': 'P1D',\n",
       " 'mappers': {},\n",
       " 'model__alpha': 0.9,\n",
       " 'model__ccp_alpha': 0.0,\n",
       " 'model__criterion': 'friedman_mse',\n",
       " 'model__init': None,\n",
       " 'model__learning_rate': 0.2,\n",
       " 'model__loss': 'ls',\n",
       " 'model__max_depth': 6,\n",
       " 'model__max_features': None,\n",
       " 'model__max_leaf_nodes': None,\n",
       " 'model__min_impurity_decrease': 0.0,\n",
       " 'model__min_impurity_split': None,\n",
       " 'model__min_samples_leaf': 1,\n",
       " 'model__min_samples_split': 2,\n",
       " 'model__min_weight_fraction_leaf': 0.0,\n",
       " 'model__n_estimators': 1000,\n",
       " 'model__n_iter_no_change': None,\n",
       " 'model__random_state': None,\n",
       " 'model__subsample': 1.0,\n",
       " 'model__tol': 0.0001,\n",
       " 'model__validation_fraction': 0.1,\n",
       " 'model__verbose': 0,\n",
       " 'model__warm_start': False,\n",
       " 'model': GradientBoostingRegressor(learning_rate=0.2, max_depth=6, n_estimators=1000),\n",
       " 'num_lags': 365}"
      ]
     },
     "execution_count": 17,
     "metadata": {},
     "output_type": "execute_result"
    }
   ],
   "source": [
    "predictor.get_params()"
   ]
  },
  {
   "cell_type": "markdown",
   "id": "rural-contrary",
   "metadata": {},
   "source": [
    "метод set_params реализует обратную логику, принимая набор параметров для установки, включая sub-параметры модели, в таком случае их нужно указывать с префиксом `model__`"
   ]
  },
  {
   "cell_type": "code",
   "execution_count": 18,
   "id": "controlled-shoulder",
   "metadata": {},
   "outputs": [
    {
     "data": {
      "text/plain": [
       "<model.TimeSeriesPredictor at 0x129cb3070>"
      ]
     },
     "execution_count": 18,
     "metadata": {},
     "output_type": "execute_result"
    }
   ],
   "source": [
    "from sklearn.ensemble import RandomForestRegressor\n",
    "\n",
    "\n",
    "params = {\n",
    "    'num_lags': 730,\n",
    "    'model': RandomForestRegressor(),  # обратите внимание, что в данном случае требуется создать инстанс модели!!\n",
    "    'model__max_depth': 3,\n",
    "    'model__n_estimators': 400,\n",
    "}\n",
    "\n",
    "predictor.set_params(**params)  # параметры необходимо распаковать"
   ]
  },
  {
   "cell_type": "code",
   "execution_count": 19,
   "id": "forced-summary",
   "metadata": {},
   "outputs": [
    {
     "data": {
      "text/plain": [
       "{'granularity': 'P1D',\n",
       " 'mappers': {},\n",
       " 'model__bootstrap': True,\n",
       " 'model__ccp_alpha': 0.0,\n",
       " 'model__criterion': 'mse',\n",
       " 'model__max_depth': 3,\n",
       " 'model__max_features': 'auto',\n",
       " 'model__max_leaf_nodes': None,\n",
       " 'model__max_samples': None,\n",
       " 'model__min_impurity_decrease': 0.0,\n",
       " 'model__min_impurity_split': None,\n",
       " 'model__min_samples_leaf': 1,\n",
       " 'model__min_samples_split': 2,\n",
       " 'model__min_weight_fraction_leaf': 0.0,\n",
       " 'model__n_estimators': 400,\n",
       " 'model__n_jobs': None,\n",
       " 'model__oob_score': False,\n",
       " 'model__random_state': None,\n",
       " 'model__verbose': 0,\n",
       " 'model__warm_start': False,\n",
       " 'model': RandomForestRegressor(max_depth=3, n_estimators=400),\n",
       " 'num_lags': 730}"
      ]
     },
     "execution_count": 19,
     "metadata": {},
     "output_type": "execute_result"
    }
   ],
   "source": [
    "predictor.get_params()"
   ]
  },
  {
   "cell_type": "markdown",
   "id": "public-engine",
   "metadata": {},
   "source": [
    "###  Обучение модели"
   ]
  },
  {
   "cell_type": "markdown",
   "id": "guilty-international",
   "metadata": {},
   "source": [
    "в данном случае на вход подается временной ряд в формате pd.Series"
   ]
  },
  {
   "cell_type": "code",
   "execution_count": 20,
   "id": "stretch-jersey",
   "metadata": {},
   "outputs": [],
   "source": [
    "split_idx = int(len(ts) * 0.7)\n",
    "\n",
    "ts_train, ts_test = ts[:split_idx], ts[split_idx:]"
   ]
  },
  {
   "cell_type": "code",
   "execution_count": 21,
   "id": "narrative-glass",
   "metadata": {},
   "outputs": [],
   "source": [
    "predictor.fit(ts_train)"
   ]
  },
  {
   "cell_type": "markdown",
   "id": "paperback-attribute",
   "metadata": {},
   "source": [
    "### Получение out-of-sample прогноза"
   ]
  },
  {
   "cell_type": "markdown",
   "id": "scenic-richmond",
   "metadata": {},
   "source": [
    "на вход подаем временной ряд от которого нужно сделать прогноз (длинной минимум num_lags) + горизонт прогнозирования"
   ]
  },
  {
   "cell_type": "code",
   "execution_count": 22,
   "id": "distant-sound",
   "metadata": {},
   "outputs": [],
   "source": [
    "from sklearn.metrics import mean_squared_error as mse"
   ]
  },
  {
   "cell_type": "code",
   "execution_count": 23,
   "id": "prospective-rhythm",
   "metadata": {},
   "outputs": [],
   "source": [
    "preds = predictor.predict_next(ts_train, n_steps=len(ts_test))"
   ]
  },
  {
   "cell_type": "code",
   "execution_count": 24,
   "id": "dutch-grace",
   "metadata": {},
   "outputs": [
    {
     "data": {
      "text/html": [
       "\n",
       "    <div class=\"bk-root\">\n",
       "        <a href=\"https://bokeh.org\" target=\"_blank\" class=\"bk-logo bk-logo-small bk-logo-notebook\"></a>\n",
       "        <span id=\"1002\">Loading BokehJS ...</span>\n",
       "    </div>"
      ]
     },
     "metadata": {},
     "output_type": "display_data"
    },
    {
     "data": {
      "application/javascript": [
       "\n",
       "(function(root) {\n",
       "  function now() {\n",
       "    return new Date();\n",
       "  }\n",
       "\n",
       "  var force = true;\n",
       "\n",
       "  if (typeof root._bokeh_onload_callbacks === \"undefined\" || force === true) {\n",
       "    root._bokeh_onload_callbacks = [];\n",
       "    root._bokeh_is_loading = undefined;\n",
       "  }\n",
       "\n",
       "  var JS_MIME_TYPE = 'application/javascript';\n",
       "  var HTML_MIME_TYPE = 'text/html';\n",
       "  var EXEC_MIME_TYPE = 'application/vnd.bokehjs_exec.v0+json';\n",
       "  var CLASS_NAME = 'output_bokeh rendered_html';\n",
       "\n",
       "  /**\n",
       "   * Render data to the DOM node\n",
       "   */\n",
       "  function render(props, node) {\n",
       "    var script = document.createElement(\"script\");\n",
       "    node.appendChild(script);\n",
       "  }\n",
       "\n",
       "  /**\n",
       "   * Handle when an output is cleared or removed\n",
       "   */\n",
       "  function handleClearOutput(event, handle) {\n",
       "    var cell = handle.cell;\n",
       "\n",
       "    var id = cell.output_area._bokeh_element_id;\n",
       "    var server_id = cell.output_area._bokeh_server_id;\n",
       "    // Clean up Bokeh references\n",
       "    if (id != null && id in Bokeh.index) {\n",
       "      Bokeh.index[id].model.document.clear();\n",
       "      delete Bokeh.index[id];\n",
       "    }\n",
       "\n",
       "    if (server_id !== undefined) {\n",
       "      // Clean up Bokeh references\n",
       "      var cmd = \"from bokeh.io.state import curstate; print(curstate().uuid_to_server['\" + server_id + \"'].get_sessions()[0].document.roots[0]._id)\";\n",
       "      cell.notebook.kernel.execute(cmd, {\n",
       "        iopub: {\n",
       "          output: function(msg) {\n",
       "            var id = msg.content.text.trim();\n",
       "            if (id in Bokeh.index) {\n",
       "              Bokeh.index[id].model.document.clear();\n",
       "              delete Bokeh.index[id];\n",
       "            }\n",
       "          }\n",
       "        }\n",
       "      });\n",
       "      // Destroy server and session\n",
       "      var cmd = \"import bokeh.io.notebook as ion; ion.destroy_server('\" + server_id + \"')\";\n",
       "      cell.notebook.kernel.execute(cmd);\n",
       "    }\n",
       "  }\n",
       "\n",
       "  /**\n",
       "   * Handle when a new output is added\n",
       "   */\n",
       "  function handleAddOutput(event, handle) {\n",
       "    var output_area = handle.output_area;\n",
       "    var output = handle.output;\n",
       "\n",
       "    // limit handleAddOutput to display_data with EXEC_MIME_TYPE content only\n",
       "    if ((output.output_type != \"display_data\") || (!Object.prototype.hasOwnProperty.call(output.data, EXEC_MIME_TYPE))) {\n",
       "      return\n",
       "    }\n",
       "\n",
       "    var toinsert = output_area.element.find(\".\" + CLASS_NAME.split(' ')[0]);\n",
       "\n",
       "    if (output.metadata[EXEC_MIME_TYPE][\"id\"] !== undefined) {\n",
       "      toinsert[toinsert.length - 1].firstChild.textContent = output.data[JS_MIME_TYPE];\n",
       "      // store reference to embed id on output_area\n",
       "      output_area._bokeh_element_id = output.metadata[EXEC_MIME_TYPE][\"id\"];\n",
       "    }\n",
       "    if (output.metadata[EXEC_MIME_TYPE][\"server_id\"] !== undefined) {\n",
       "      var bk_div = document.createElement(\"div\");\n",
       "      bk_div.innerHTML = output.data[HTML_MIME_TYPE];\n",
       "      var script_attrs = bk_div.children[0].attributes;\n",
       "      for (var i = 0; i < script_attrs.length; i++) {\n",
       "        toinsert[toinsert.length - 1].firstChild.setAttribute(script_attrs[i].name, script_attrs[i].value);\n",
       "        toinsert[toinsert.length - 1].firstChild.textContent = bk_div.children[0].textContent\n",
       "      }\n",
       "      // store reference to server id on output_area\n",
       "      output_area._bokeh_server_id = output.metadata[EXEC_MIME_TYPE][\"server_id\"];\n",
       "    }\n",
       "  }\n",
       "\n",
       "  function register_renderer(events, OutputArea) {\n",
       "\n",
       "    function append_mime(data, metadata, element) {\n",
       "      // create a DOM node to render to\n",
       "      var toinsert = this.create_output_subarea(\n",
       "        metadata,\n",
       "        CLASS_NAME,\n",
       "        EXEC_MIME_TYPE\n",
       "      );\n",
       "      this.keyboard_manager.register_events(toinsert);\n",
       "      // Render to node\n",
       "      var props = {data: data, metadata: metadata[EXEC_MIME_TYPE]};\n",
       "      render(props, toinsert[toinsert.length - 1]);\n",
       "      element.append(toinsert);\n",
       "      return toinsert\n",
       "    }\n",
       "\n",
       "    /* Handle when an output is cleared or removed */\n",
       "    events.on('clear_output.CodeCell', handleClearOutput);\n",
       "    events.on('delete.Cell', handleClearOutput);\n",
       "\n",
       "    /* Handle when a new output is added */\n",
       "    events.on('output_added.OutputArea', handleAddOutput);\n",
       "\n",
       "    /**\n",
       "     * Register the mime type and append_mime function with output_area\n",
       "     */\n",
       "    OutputArea.prototype.register_mime_type(EXEC_MIME_TYPE, append_mime, {\n",
       "      /* Is output safe? */\n",
       "      safe: true,\n",
       "      /* Index of renderer in `output_area.display_order` */\n",
       "      index: 0\n",
       "    });\n",
       "  }\n",
       "\n",
       "  // register the mime type if in Jupyter Notebook environment and previously unregistered\n",
       "  if (root.Jupyter !== undefined) {\n",
       "    var events = require('base/js/events');\n",
       "    var OutputArea = require('notebook/js/outputarea').OutputArea;\n",
       "\n",
       "    if (OutputArea.prototype.mime_types().indexOf(EXEC_MIME_TYPE) == -1) {\n",
       "      register_renderer(events, OutputArea);\n",
       "    }\n",
       "  }\n",
       "\n",
       "  \n",
       "  if (typeof (root._bokeh_timeout) === \"undefined\" || force === true) {\n",
       "    root._bokeh_timeout = Date.now() + 5000;\n",
       "    root._bokeh_failed_load = false;\n",
       "  }\n",
       "\n",
       "  var NB_LOAD_WARNING = {'data': {'text/html':\n",
       "     \"<div style='background-color: #fdd'>\\n\"+\n",
       "     \"<p>\\n\"+\n",
       "     \"BokehJS does not appear to have successfully loaded. If loading BokehJS from CDN, this \\n\"+\n",
       "     \"may be due to a slow or bad network connection. Possible fixes:\\n\"+\n",
       "     \"</p>\\n\"+\n",
       "     \"<ul>\\n\"+\n",
       "     \"<li>re-rerun `output_notebook()` to attempt to load from CDN again, or</li>\\n\"+\n",
       "     \"<li>use INLINE resources instead, as so:</li>\\n\"+\n",
       "     \"</ul>\\n\"+\n",
       "     \"<code>\\n\"+\n",
       "     \"from bokeh.resources import INLINE\\n\"+\n",
       "     \"output_notebook(resources=INLINE)\\n\"+\n",
       "     \"</code>\\n\"+\n",
       "     \"</div>\"}};\n",
       "\n",
       "  function display_loaded() {\n",
       "    var el = document.getElementById(\"1002\");\n",
       "    if (el != null) {\n",
       "      el.textContent = \"BokehJS is loading...\";\n",
       "    }\n",
       "    if (root.Bokeh !== undefined) {\n",
       "      if (el != null) {\n",
       "        el.textContent = \"BokehJS \" + root.Bokeh.version + \" successfully loaded.\";\n",
       "      }\n",
       "    } else if (Date.now() < root._bokeh_timeout) {\n",
       "      setTimeout(display_loaded, 100)\n",
       "    }\n",
       "  }\n",
       "\n",
       "\n",
       "  function run_callbacks() {\n",
       "    try {\n",
       "      root._bokeh_onload_callbacks.forEach(function(callback) {\n",
       "        if (callback != null)\n",
       "          callback();\n",
       "      });\n",
       "    } finally {\n",
       "      delete root._bokeh_onload_callbacks\n",
       "    }\n",
       "    console.debug(\"Bokeh: all callbacks have finished\");\n",
       "  }\n",
       "\n",
       "  function load_libs(css_urls, js_urls, callback) {\n",
       "    if (css_urls == null) css_urls = [];\n",
       "    if (js_urls == null) js_urls = [];\n",
       "\n",
       "    root._bokeh_onload_callbacks.push(callback);\n",
       "    if (root._bokeh_is_loading > 0) {\n",
       "      console.debug(\"Bokeh: BokehJS is being loaded, scheduling callback at\", now());\n",
       "      return null;\n",
       "    }\n",
       "    if (js_urls == null || js_urls.length === 0) {\n",
       "      run_callbacks();\n",
       "      return null;\n",
       "    }\n",
       "    console.debug(\"Bokeh: BokehJS not loaded, scheduling load and callback at\", now());\n",
       "    root._bokeh_is_loading = css_urls.length + js_urls.length;\n",
       "\n",
       "    function on_load() {\n",
       "      root._bokeh_is_loading--;\n",
       "      if (root._bokeh_is_loading === 0) {\n",
       "        console.debug(\"Bokeh: all BokehJS libraries/stylesheets loaded\");\n",
       "        run_callbacks()\n",
       "      }\n",
       "    }\n",
       "\n",
       "    function on_error(url) {\n",
       "      console.error(\"failed to load \" + url);\n",
       "    }\n",
       "\n",
       "    for (let i = 0; i < css_urls.length; i++) {\n",
       "      const url = css_urls[i];\n",
       "      const element = document.createElement(\"link\");\n",
       "      element.onload = on_load;\n",
       "      element.onerror = on_error.bind(null, url);\n",
       "      element.rel = \"stylesheet\";\n",
       "      element.type = \"text/css\";\n",
       "      element.href = url;\n",
       "      console.debug(\"Bokeh: injecting link tag for BokehJS stylesheet: \", url);\n",
       "      document.body.appendChild(element);\n",
       "    }\n",
       "\n",
       "    const hashes = {\"https://cdn.bokeh.org/bokeh/release/bokeh-2.3.2.min.js\": \"XypntL49z55iwGVUW4qsEu83zKL3XEcz0MjuGOQ9SlaaQ68X/g+k1FcioZi7oQAc\", \"https://cdn.bokeh.org/bokeh/release/bokeh-tables-2.3.2.min.js\": \"bEsM86IHGDTLCS0Zod8a8WM6Y4+lafAL/eSiyQcuPzinmWNgNO2/olUF0Z2Dkn5i\", \"https://cdn.bokeh.org/bokeh/release/bokeh-widgets-2.3.2.min.js\": \"TX0gSQTdXTTeScqxj6PVQxTiRW8DOoGVwinyi1D3kxv7wuxQ02XkOxv0xwiypcAH\"};\n",
       "\n",
       "    for (let i = 0; i < js_urls.length; i++) {\n",
       "      const url = js_urls[i];\n",
       "      const element = document.createElement('script');\n",
       "      element.onload = on_load;\n",
       "      element.onerror = on_error.bind(null, url);\n",
       "      element.async = false;\n",
       "      element.src = url;\n",
       "      if (url in hashes) {\n",
       "        element.crossOrigin = \"anonymous\";\n",
       "        element.integrity = \"sha384-\" + hashes[url];\n",
       "      }\n",
       "      console.debug(\"Bokeh: injecting script tag for BokehJS library: \", url);\n",
       "      document.head.appendChild(element);\n",
       "    }\n",
       "  };\n",
       "\n",
       "  function inject_raw_css(css) {\n",
       "    const element = document.createElement(\"style\");\n",
       "    element.appendChild(document.createTextNode(css));\n",
       "    document.body.appendChild(element);\n",
       "  }\n",
       "\n",
       "  \n",
       "  var js_urls = [\"https://cdn.bokeh.org/bokeh/release/bokeh-2.3.2.min.js\", \"https://cdn.bokeh.org/bokeh/release/bokeh-widgets-2.3.2.min.js\", \"https://cdn.bokeh.org/bokeh/release/bokeh-tables-2.3.2.min.js\"];\n",
       "  var css_urls = [];\n",
       "  \n",
       "\n",
       "  var inline_js = [\n",
       "    function(Bokeh) {\n",
       "      Bokeh.set_log_level(\"info\");\n",
       "    },\n",
       "    function(Bokeh) {\n",
       "    \n",
       "    \n",
       "    }\n",
       "  ];\n",
       "\n",
       "  function run_inline_js() {\n",
       "    \n",
       "    if (root.Bokeh !== undefined || force === true) {\n",
       "      \n",
       "    for (var i = 0; i < inline_js.length; i++) {\n",
       "      inline_js[i].call(root, root.Bokeh);\n",
       "    }\n",
       "    if (force === true) {\n",
       "        display_loaded();\n",
       "      }} else if (Date.now() < root._bokeh_timeout) {\n",
       "      setTimeout(run_inline_js, 100);\n",
       "    } else if (!root._bokeh_failed_load) {\n",
       "      console.log(\"Bokeh: BokehJS failed to load within specified timeout.\");\n",
       "      root._bokeh_failed_load = true;\n",
       "    } else if (force !== true) {\n",
       "      var cell = $(document.getElementById(\"1002\")).parents('.cell').data().cell;\n",
       "      cell.output_area.append_execute_result(NB_LOAD_WARNING)\n",
       "    }\n",
       "\n",
       "  }\n",
       "\n",
       "  if (root._bokeh_is_loading === 0) {\n",
       "    console.debug(\"Bokeh: BokehJS loaded, going straight to plotting\");\n",
       "    run_inline_js();\n",
       "  } else {\n",
       "    load_libs(css_urls, js_urls, function() {\n",
       "      console.debug(\"Bokeh: BokehJS plotting callback run at\", now());\n",
       "      run_inline_js();\n",
       "    });\n",
       "  }\n",
       "}(window));"
      ],
      "application/vnd.bokehjs_load.v0+json": "\n(function(root) {\n  function now() {\n    return new Date();\n  }\n\n  var force = true;\n\n  if (typeof root._bokeh_onload_callbacks === \"undefined\" || force === true) {\n    root._bokeh_onload_callbacks = [];\n    root._bokeh_is_loading = undefined;\n  }\n\n  \n\n  \n  if (typeof (root._bokeh_timeout) === \"undefined\" || force === true) {\n    root._bokeh_timeout = Date.now() + 5000;\n    root._bokeh_failed_load = false;\n  }\n\n  var NB_LOAD_WARNING = {'data': {'text/html':\n     \"<div style='background-color: #fdd'>\\n\"+\n     \"<p>\\n\"+\n     \"BokehJS does not appear to have successfully loaded. If loading BokehJS from CDN, this \\n\"+\n     \"may be due to a slow or bad network connection. Possible fixes:\\n\"+\n     \"</p>\\n\"+\n     \"<ul>\\n\"+\n     \"<li>re-rerun `output_notebook()` to attempt to load from CDN again, or</li>\\n\"+\n     \"<li>use INLINE resources instead, as so:</li>\\n\"+\n     \"</ul>\\n\"+\n     \"<code>\\n\"+\n     \"from bokeh.resources import INLINE\\n\"+\n     \"output_notebook(resources=INLINE)\\n\"+\n     \"</code>\\n\"+\n     \"</div>\"}};\n\n  function display_loaded() {\n    var el = document.getElementById(\"1002\");\n    if (el != null) {\n      el.textContent = \"BokehJS is loading...\";\n    }\n    if (root.Bokeh !== undefined) {\n      if (el != null) {\n        el.textContent = \"BokehJS \" + root.Bokeh.version + \" successfully loaded.\";\n      }\n    } else if (Date.now() < root._bokeh_timeout) {\n      setTimeout(display_loaded, 100)\n    }\n  }\n\n\n  function run_callbacks() {\n    try {\n      root._bokeh_onload_callbacks.forEach(function(callback) {\n        if (callback != null)\n          callback();\n      });\n    } finally {\n      delete root._bokeh_onload_callbacks\n    }\n    console.debug(\"Bokeh: all callbacks have finished\");\n  }\n\n  function load_libs(css_urls, js_urls, callback) {\n    if (css_urls == null) css_urls = [];\n    if (js_urls == null) js_urls = [];\n\n    root._bokeh_onload_callbacks.push(callback);\n    if (root._bokeh_is_loading > 0) {\n      console.debug(\"Bokeh: BokehJS is being loaded, scheduling callback at\", now());\n      return null;\n    }\n    if (js_urls == null || js_urls.length === 0) {\n      run_callbacks();\n      return null;\n    }\n    console.debug(\"Bokeh: BokehJS not loaded, scheduling load and callback at\", now());\n    root._bokeh_is_loading = css_urls.length + js_urls.length;\n\n    function on_load() {\n      root._bokeh_is_loading--;\n      if (root._bokeh_is_loading === 0) {\n        console.debug(\"Bokeh: all BokehJS libraries/stylesheets loaded\");\n        run_callbacks()\n      }\n    }\n\n    function on_error(url) {\n      console.error(\"failed to load \" + url);\n    }\n\n    for (let i = 0; i < css_urls.length; i++) {\n      const url = css_urls[i];\n      const element = document.createElement(\"link\");\n      element.onload = on_load;\n      element.onerror = on_error.bind(null, url);\n      element.rel = \"stylesheet\";\n      element.type = \"text/css\";\n      element.href = url;\n      console.debug(\"Bokeh: injecting link tag for BokehJS stylesheet: \", url);\n      document.body.appendChild(element);\n    }\n\n    const hashes = {\"https://cdn.bokeh.org/bokeh/release/bokeh-2.3.2.min.js\": \"XypntL49z55iwGVUW4qsEu83zKL3XEcz0MjuGOQ9SlaaQ68X/g+k1FcioZi7oQAc\", \"https://cdn.bokeh.org/bokeh/release/bokeh-tables-2.3.2.min.js\": \"bEsM86IHGDTLCS0Zod8a8WM6Y4+lafAL/eSiyQcuPzinmWNgNO2/olUF0Z2Dkn5i\", \"https://cdn.bokeh.org/bokeh/release/bokeh-widgets-2.3.2.min.js\": \"TX0gSQTdXTTeScqxj6PVQxTiRW8DOoGVwinyi1D3kxv7wuxQ02XkOxv0xwiypcAH\"};\n\n    for (let i = 0; i < js_urls.length; i++) {\n      const url = js_urls[i];\n      const element = document.createElement('script');\n      element.onload = on_load;\n      element.onerror = on_error.bind(null, url);\n      element.async = false;\n      element.src = url;\n      if (url in hashes) {\n        element.crossOrigin = \"anonymous\";\n        element.integrity = \"sha384-\" + hashes[url];\n      }\n      console.debug(\"Bokeh: injecting script tag for BokehJS library: \", url);\n      document.head.appendChild(element);\n    }\n  };\n\n  function inject_raw_css(css) {\n    const element = document.createElement(\"style\");\n    element.appendChild(document.createTextNode(css));\n    document.body.appendChild(element);\n  }\n\n  \n  var js_urls = [\"https://cdn.bokeh.org/bokeh/release/bokeh-2.3.2.min.js\", \"https://cdn.bokeh.org/bokeh/release/bokeh-widgets-2.3.2.min.js\", \"https://cdn.bokeh.org/bokeh/release/bokeh-tables-2.3.2.min.js\"];\n  var css_urls = [];\n  \n\n  var inline_js = [\n    function(Bokeh) {\n      Bokeh.set_log_level(\"info\");\n    },\n    function(Bokeh) {\n    \n    \n    }\n  ];\n\n  function run_inline_js() {\n    \n    if (root.Bokeh !== undefined || force === true) {\n      \n    for (var i = 0; i < inline_js.length; i++) {\n      inline_js[i].call(root, root.Bokeh);\n    }\n    if (force === true) {\n        display_loaded();\n      }} else if (Date.now() < root._bokeh_timeout) {\n      setTimeout(run_inline_js, 100);\n    } else if (!root._bokeh_failed_load) {\n      console.log(\"Bokeh: BokehJS failed to load within specified timeout.\");\n      root._bokeh_failed_load = true;\n    } else if (force !== true) {\n      var cell = $(document.getElementById(\"1002\")).parents('.cell').data().cell;\n      cell.output_area.append_execute_result(NB_LOAD_WARNING)\n    }\n\n  }\n\n  if (root._bokeh_is_loading === 0) {\n    console.debug(\"Bokeh: BokehJS loaded, going straight to plotting\");\n    run_inline_js();\n  } else {\n    load_libs(css_urls, js_urls, function() {\n      console.debug(\"Bokeh: BokehJS plotting callback run at\", now());\n      run_inline_js();\n    });\n  }\n}(window));"
     },
     "metadata": {},
     "output_type": "display_data"
    },
    {
     "data": {
      "text/html": [
       "\n",
       "\n",
       "\n",
       "\n",
       "\n",
       "\n",
       "  <div class=\"bk-root\" id=\"bbc505c8-d7db-4bf3-97b2-4e4779fc2e6e\" data-root-id=\"1005\"></div>\n"
      ]
     },
     "metadata": {},
     "output_type": "display_data"
    },
    {
     "data": {
      "application/javascript": [
       "(function(root) {\n",
       "  function embed_document(root) {\n",
       "    \n",
       "  var docs_json = {\"0d9d84eb-3c02-4a8c-bd4f-4664db99c001\":{\"defs\":[],\"roots\":{\"references\":[{\"attributes\":{\"below\":[{\"id\":\"1016\"}],\"center\":[{\"id\":\"1019\"},{\"id\":\"1023\"}],\"left\":[{\"id\":\"1020\"}],\"renderers\":[{\"id\":\"1044\"},{\"id\":\"1049\"}],\"title\":{\"id\":\"1006\"},\"toolbar\":{\"id\":\"1032\"},\"width\":900,\"x_range\":{\"id\":\"1008\"},\"x_scale\":{\"id\":\"1012\"},\"y_range\":{\"id\":\"1010\"},\"y_scale\":{\"id\":\"1014\"}},\"id\":\"1005\",\"subtype\":\"Figure\",\"type\":\"Plot\"},{\"attributes\":{\"source\":{\"id\":\"1046\"}},\"id\":\"1050\",\"type\":\"CDSView\"},{\"attributes\":{},\"id\":\"1025\",\"type\":\"WheelZoomTool\"},{\"attributes\":{},\"id\":\"1010\",\"type\":\"DataRange1d\"},{\"attributes\":{},\"id\":\"1052\",\"type\":\"AllLabels\"},{\"attributes\":{\"overlay\":{\"id\":\"1030\"}},\"id\":\"1029\",\"type\":\"BoxSelectTool\"},{\"attributes\":{\"days\":[\"%d %B %Y\"],\"hours\":[\"%d %B %Y\"],\"months\":[\"%d %B %Y\"],\"years\":[\"%d %B %Y\"]},\"id\":\"1003\",\"type\":\"DatetimeTickFormatter\"},{\"attributes\":{},\"id\":\"1024\",\"type\":\"PanTool\"},{\"attributes\":{},\"id\":\"1059\",\"type\":\"UnionRenderers\"},{\"attributes\":{\"overlay\":{\"id\":\"1031\"}},\"id\":\"1026\",\"type\":\"BoxZoomTool\"},{\"attributes\":{},\"id\":\"1027\",\"type\":\"ResetTool\"},{\"attributes\":{},\"id\":\"1028\",\"type\":\"SaveTool\"},{\"attributes\":{\"active_multi\":null,\"active_scroll\":{\"id\":\"1025\"},\"tools\":[{\"id\":\"1024\"},{\"id\":\"1025\"},{\"id\":\"1026\"},{\"id\":\"1027\"},{\"id\":\"1028\"},{\"id\":\"1029\"},{\"id\":\"1004\"}]},\"id\":\"1032\",\"type\":\"Toolbar\"},{\"attributes\":{},\"id\":\"1060\",\"type\":\"Selection\"},{\"attributes\":{\"axis\":{\"id\":\"1016\"},\"ticker\":null},\"id\":\"1019\",\"type\":\"Grid\"},{\"attributes\":{\"data_source\":{\"id\":\"1046\"},\"glyph\":{\"id\":\"1047\"},\"hover_glyph\":null,\"muted_glyph\":null,\"nonselection_glyph\":{\"id\":\"1048\"},\"view\":{\"id\":\"1050\"}},\"id\":\"1049\",\"type\":\"GlyphRenderer\"},{\"attributes\":{},\"id\":\"1054\",\"type\":\"AllLabels\"},{\"attributes\":{},\"id\":\"1055\",\"type\":\"BasicTickFormatter\"},{\"attributes\":{\"axis_label\":\"time\",\"formatter\":{\"id\":\"1003\"},\"major_label_policy\":{\"id\":\"1052\"},\"ticker\":{\"id\":\"1017\"}},\"id\":\"1016\",\"type\":\"DatetimeAxis\"},{\"attributes\":{\"data\":{\"x\":{\"__ndarray__\":\"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\",\"dtype\":\"float64\",\"order\":\"little\",\"shape\":[1095]},\"y\":{\"__ndarray__\":\"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\",\"dtype\":\"float64\",\"order\":\"little\",\"shape\":[1095]}},\"selected\":{\"id\":\"1058\"},\"selection_policy\":{\"id\":\"1057\"}},\"id\":\"1041\",\"type\":\"ColumnDataSource\"},{\"attributes\":{\"callback\":null,\"formatters\":{\"@x\":\"datetime\"},\"mode\":\"vline\",\"tooltips\":[[\"date\",\"@x{%d-%m-%YT%H:%M:%S}\"],[\"value\",\"@y\"]]},\"id\":\"1004\",\"type\":\"HoverTool\"},{\"attributes\":{\"line_color\":\"orange\",\"line_width\":2,\"x\":{\"field\":\"x\"},\"y\":{\"field\":\"y\"}},\"id\":\"1047\",\"type\":\"Line\"},{\"attributes\":{},\"id\":\"1006\",\"type\":\"Title\"},{\"attributes\":{\"mantissas\":[1,2,5],\"max_interval\":500.0,\"num_minor_ticks\":0},\"id\":\"1061\",\"type\":\"AdaptiveTicker\"},{\"attributes\":{\"base\":60,\"mantissas\":[1,2,5,10,15,20,30],\"max_interval\":1800000.0,\"min_interval\":1000.0,\"num_minor_ticks\":0},\"id\":\"1062\",\"type\":\"AdaptiveTicker\"},{\"attributes\":{\"days\":[1,2,3,4,5,6,7,8,9,10,11,12,13,14,15,16,17,18,19,20,21,22,23,24,25,26,27,28,29,30,31]},\"id\":\"1064\",\"type\":\"DaysTicker\"},{\"attributes\":{},\"id\":\"1012\",\"type\":\"LinearScale\"},{\"attributes\":{\"data_source\":{\"id\":\"1041\"},\"glyph\":{\"id\":\"1042\"},\"hover_glyph\":null,\"muted_glyph\":null,\"nonselection_glyph\":{\"id\":\"1043\"},\"view\":{\"id\":\"1045\"}},\"id\":\"1044\",\"type\":\"GlyphRenderer\"},{\"attributes\":{\"line_alpha\":0.1,\"line_color\":\"orange\",\"line_width\":2,\"x\":{\"field\":\"x\"},\"y\":{\"field\":\"y\"}},\"id\":\"1048\",\"type\":\"Line\"},{\"attributes\":{\"base\":24,\"mantissas\":[1,2,4,6,8,12],\"max_interval\":43200000.0,\"min_interval\":3600000.0,\"num_minor_ticks\":0},\"id\":\"1063\",\"type\":\"AdaptiveTicker\"},{\"attributes\":{\"line_alpha\":0.1,\"line_color\":\"#1f77b4\",\"line_width\":2,\"x\":{\"field\":\"x\"},\"y\":{\"field\":\"y\"}},\"id\":\"1043\",\"type\":\"Line\"},{\"attributes\":{\"months\":[0,1,2,3,4,5,6,7,8,9,10,11]},\"id\":\"1068\",\"type\":\"MonthsTicker\"},{\"attributes\":{\"months\":[0,2,4,6,8,10]},\"id\":\"1069\",\"type\":\"MonthsTicker\"},{\"attributes\":{\"days\":[1,4,7,10,13,16,19,22,25,28]},\"id\":\"1065\",\"type\":\"DaysTicker\"},{\"attributes\":{},\"id\":\"1014\",\"type\":\"LinearScale\"},{\"attributes\":{\"days\":[1,15]},\"id\":\"1067\",\"type\":\"DaysTicker\"},{\"attributes\":{\"months\":[0,6]},\"id\":\"1071\",\"type\":\"MonthsTicker\"},{\"attributes\":{\"line_color\":\"#1f77b4\",\"line_width\":2,\"x\":{\"field\":\"x\"},\"y\":{\"field\":\"y\"}},\"id\":\"1042\",\"type\":\"Line\"},{\"attributes\":{},\"id\":\"1008\",\"type\":\"DataRange1d\"},{\"attributes\":{\"days\":[1,8,15,22]},\"id\":\"1066\",\"type\":\"DaysTicker\"},{\"attributes\":{},\"id\":\"1072\",\"type\":\"YearsTicker\"},{\"attributes\":{\"data\":{\"x\":{\"__ndarray__\":\"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\",\"dtype\":\"float64\",\"order\":\"little\",\"shape\":[1095]},\"y\":{\"__ndarray__\":\"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\",\"dtype\":\"float64\",\"order\":\"little\",\"shape\":[1095]}},\"selected\":{\"id\":\"1060\"},\"selection_policy\":{\"id\":\"1059\"}},\"id\":\"1046\",\"type\":\"ColumnDataSource\"},{\"attributes\":{},\"id\":\"1021\",\"type\":\"BasicTicker\"},{\"attributes\":{\"months\":[0,4,8]},\"id\":\"1070\",\"type\":\"MonthsTicker\"},{\"attributes\":{\"axis\":{\"id\":\"1020\"},\"dimension\":1,\"ticker\":null},\"id\":\"1023\",\"type\":\"Grid\"},{\"attributes\":{},\"id\":\"1057\",\"type\":\"UnionRenderers\"},{\"attributes\":{\"bottom_units\":\"screen\",\"fill_alpha\":0.5,\"fill_color\":\"lightgrey\",\"left_units\":\"screen\",\"level\":\"overlay\",\"line_alpha\":1.0,\"line_color\":\"black\",\"line_dash\":[4,4],\"line_width\":2,\"right_units\":\"screen\",\"syncable\":false,\"top_units\":\"screen\"},\"id\":\"1030\",\"type\":\"BoxAnnotation\"},{\"attributes\":{\"axis_label\":\"value\",\"formatter\":{\"id\":\"1055\"},\"major_label_policy\":{\"id\":\"1054\"},\"ticker\":{\"id\":\"1021\"}},\"id\":\"1020\",\"type\":\"LinearAxis\"},{\"attributes\":{\"bottom_units\":\"screen\",\"fill_alpha\":0.5,\"fill_color\":\"lightgrey\",\"left_units\":\"screen\",\"level\":\"overlay\",\"line_alpha\":1.0,\"line_color\":\"black\",\"line_dash\":[4,4],\"line_width\":2,\"right_units\":\"screen\",\"syncable\":false,\"top_units\":\"screen\"},\"id\":\"1031\",\"type\":\"BoxAnnotation\"},{\"attributes\":{\"source\":{\"id\":\"1041\"}},\"id\":\"1045\",\"type\":\"CDSView\"},{\"attributes\":{},\"id\":\"1058\",\"type\":\"Selection\"},{\"attributes\":{\"num_minor_ticks\":5,\"tickers\":[{\"id\":\"1061\"},{\"id\":\"1062\"},{\"id\":\"1063\"},{\"id\":\"1064\"},{\"id\":\"1065\"},{\"id\":\"1066\"},{\"id\":\"1067\"},{\"id\":\"1068\"},{\"id\":\"1069\"},{\"id\":\"1070\"},{\"id\":\"1071\"},{\"id\":\"1072\"}]},\"id\":\"1017\",\"type\":\"DatetimeTicker\"}],\"root_ids\":[\"1005\"]},\"title\":\"Bokeh Application\",\"version\":\"2.3.2\"}};\n",
       "  var render_items = [{\"docid\":\"0d9d84eb-3c02-4a8c-bd4f-4664db99c001\",\"root_ids\":[\"1005\"],\"roots\":{\"1005\":\"bbc505c8-d7db-4bf3-97b2-4e4779fc2e6e\"}}];\n",
       "  root.Bokeh.embed.embed_items_notebook(docs_json, render_items);\n",
       "\n",
       "  }\n",
       "  if (root.Bokeh !== undefined) {\n",
       "    embed_document(root);\n",
       "  } else {\n",
       "    var attempts = 0;\n",
       "    var timer = setInterval(function(root) {\n",
       "      if (root.Bokeh !== undefined) {\n",
       "        clearInterval(timer);\n",
       "        embed_document(root);\n",
       "      } else {\n",
       "        attempts++;\n",
       "        if (attempts > 100) {\n",
       "          clearInterval(timer);\n",
       "          console.log(\"Bokeh: ERROR: Unable to run BokehJS code because BokehJS library is missing\");\n",
       "        }\n",
       "      }\n",
       "    }, 10, root)\n",
       "  }\n",
       "})(window);"
      ],
      "application/vnd.bokehjs_exec.v0+json": ""
     },
     "metadata": {
      "application/vnd.bokehjs_exec.v0+json": {
       "id": "1005"
      }
     },
     "output_type": "display_data"
    }
   ],
   "source": [
    "plot_ts(ts_test, preds)"
   ]
  },
  {
   "cell_type": "code",
   "execution_count": 25,
   "id": "municipal-backing",
   "metadata": {},
   "outputs": [
    {
     "data": {
      "text/plain": [
       "10.178819082863402"
      ]
     },
     "execution_count": 25,
     "metadata": {},
     "output_type": "execute_result"
    }
   ],
   "source": [
    "mse(ts_test, preds)"
   ]
  },
  {
   "cell_type": "markdown",
   "id": "regular-serbia",
   "metadata": {},
   "source": [
    "### Получение in-sample (когда каждая точка нам известна) прогноза"
   ]
  },
  {
   "cell_type": "markdown",
   "id": "consecutive-discount",
   "metadata": {},
   "source": [
    "в таком случае мы должны вторым аргументов передать реальный тест, такм образом этим методом мы смотрим как бы мы предсказали ts_test если бы мы предсказывали на одну точку вперед, т.е. нам всегда известна реальная предыдущая точка"
   ]
  },
  {
   "cell_type": "code",
   "execution_count": 26,
   "id": "obvious-dollar",
   "metadata": {},
   "outputs": [],
   "source": [
    "preds = predictor.predict_batch(ts_train, ts_test)"
   ]
  },
  {
   "cell_type": "code",
   "execution_count": 27,
   "id": "integrated-treatment",
   "metadata": {},
   "outputs": [
    {
     "data": {
      "text/html": [
       "\n",
       "    <div class=\"bk-root\">\n",
       "        <a href=\"https://bokeh.org\" target=\"_blank\" class=\"bk-logo bk-logo-small bk-logo-notebook\"></a>\n",
       "        <span id=\"1195\">Loading BokehJS ...</span>\n",
       "    </div>"
      ]
     },
     "metadata": {},
     "output_type": "display_data"
    },
    {
     "data": {
      "application/javascript": [
       "\n",
       "(function(root) {\n",
       "  function now() {\n",
       "    return new Date();\n",
       "  }\n",
       "\n",
       "  var force = true;\n",
       "\n",
       "  if (typeof root._bokeh_onload_callbacks === \"undefined\" || force === true) {\n",
       "    root._bokeh_onload_callbacks = [];\n",
       "    root._bokeh_is_loading = undefined;\n",
       "  }\n",
       "\n",
       "  var JS_MIME_TYPE = 'application/javascript';\n",
       "  var HTML_MIME_TYPE = 'text/html';\n",
       "  var EXEC_MIME_TYPE = 'application/vnd.bokehjs_exec.v0+json';\n",
       "  var CLASS_NAME = 'output_bokeh rendered_html';\n",
       "\n",
       "  /**\n",
       "   * Render data to the DOM node\n",
       "   */\n",
       "  function render(props, node) {\n",
       "    var script = document.createElement(\"script\");\n",
       "    node.appendChild(script);\n",
       "  }\n",
       "\n",
       "  /**\n",
       "   * Handle when an output is cleared or removed\n",
       "   */\n",
       "  function handleClearOutput(event, handle) {\n",
       "    var cell = handle.cell;\n",
       "\n",
       "    var id = cell.output_area._bokeh_element_id;\n",
       "    var server_id = cell.output_area._bokeh_server_id;\n",
       "    // Clean up Bokeh references\n",
       "    if (id != null && id in Bokeh.index) {\n",
       "      Bokeh.index[id].model.document.clear();\n",
       "      delete Bokeh.index[id];\n",
       "    }\n",
       "\n",
       "    if (server_id !== undefined) {\n",
       "      // Clean up Bokeh references\n",
       "      var cmd = \"from bokeh.io.state import curstate; print(curstate().uuid_to_server['\" + server_id + \"'].get_sessions()[0].document.roots[0]._id)\";\n",
       "      cell.notebook.kernel.execute(cmd, {\n",
       "        iopub: {\n",
       "          output: function(msg) {\n",
       "            var id = msg.content.text.trim();\n",
       "            if (id in Bokeh.index) {\n",
       "              Bokeh.index[id].model.document.clear();\n",
       "              delete Bokeh.index[id];\n",
       "            }\n",
       "          }\n",
       "        }\n",
       "      });\n",
       "      // Destroy server and session\n",
       "      var cmd = \"import bokeh.io.notebook as ion; ion.destroy_server('\" + server_id + \"')\";\n",
       "      cell.notebook.kernel.execute(cmd);\n",
       "    }\n",
       "  }\n",
       "\n",
       "  /**\n",
       "   * Handle when a new output is added\n",
       "   */\n",
       "  function handleAddOutput(event, handle) {\n",
       "    var output_area = handle.output_area;\n",
       "    var output = handle.output;\n",
       "\n",
       "    // limit handleAddOutput to display_data with EXEC_MIME_TYPE content only\n",
       "    if ((output.output_type != \"display_data\") || (!Object.prototype.hasOwnProperty.call(output.data, EXEC_MIME_TYPE))) {\n",
       "      return\n",
       "    }\n",
       "\n",
       "    var toinsert = output_area.element.find(\".\" + CLASS_NAME.split(' ')[0]);\n",
       "\n",
       "    if (output.metadata[EXEC_MIME_TYPE][\"id\"] !== undefined) {\n",
       "      toinsert[toinsert.length - 1].firstChild.textContent = output.data[JS_MIME_TYPE];\n",
       "      // store reference to embed id on output_area\n",
       "      output_area._bokeh_element_id = output.metadata[EXEC_MIME_TYPE][\"id\"];\n",
       "    }\n",
       "    if (output.metadata[EXEC_MIME_TYPE][\"server_id\"] !== undefined) {\n",
       "      var bk_div = document.createElement(\"div\");\n",
       "      bk_div.innerHTML = output.data[HTML_MIME_TYPE];\n",
       "      var script_attrs = bk_div.children[0].attributes;\n",
       "      for (var i = 0; i < script_attrs.length; i++) {\n",
       "        toinsert[toinsert.length - 1].firstChild.setAttribute(script_attrs[i].name, script_attrs[i].value);\n",
       "        toinsert[toinsert.length - 1].firstChild.textContent = bk_div.children[0].textContent\n",
       "      }\n",
       "      // store reference to server id on output_area\n",
       "      output_area._bokeh_server_id = output.metadata[EXEC_MIME_TYPE][\"server_id\"];\n",
       "    }\n",
       "  }\n",
       "\n",
       "  function register_renderer(events, OutputArea) {\n",
       "\n",
       "    function append_mime(data, metadata, element) {\n",
       "      // create a DOM node to render to\n",
       "      var toinsert = this.create_output_subarea(\n",
       "        metadata,\n",
       "        CLASS_NAME,\n",
       "        EXEC_MIME_TYPE\n",
       "      );\n",
       "      this.keyboard_manager.register_events(toinsert);\n",
       "      // Render to node\n",
       "      var props = {data: data, metadata: metadata[EXEC_MIME_TYPE]};\n",
       "      render(props, toinsert[toinsert.length - 1]);\n",
       "      element.append(toinsert);\n",
       "      return toinsert\n",
       "    }\n",
       "\n",
       "    /* Handle when an output is cleared or removed */\n",
       "    events.on('clear_output.CodeCell', handleClearOutput);\n",
       "    events.on('delete.Cell', handleClearOutput);\n",
       "\n",
       "    /* Handle when a new output is added */\n",
       "    events.on('output_added.OutputArea', handleAddOutput);\n",
       "\n",
       "    /**\n",
       "     * Register the mime type and append_mime function with output_area\n",
       "     */\n",
       "    OutputArea.prototype.register_mime_type(EXEC_MIME_TYPE, append_mime, {\n",
       "      /* Is output safe? */\n",
       "      safe: true,\n",
       "      /* Index of renderer in `output_area.display_order` */\n",
       "      index: 0\n",
       "    });\n",
       "  }\n",
       "\n",
       "  // register the mime type if in Jupyter Notebook environment and previously unregistered\n",
       "  if (root.Jupyter !== undefined) {\n",
       "    var events = require('base/js/events');\n",
       "    var OutputArea = require('notebook/js/outputarea').OutputArea;\n",
       "\n",
       "    if (OutputArea.prototype.mime_types().indexOf(EXEC_MIME_TYPE) == -1) {\n",
       "      register_renderer(events, OutputArea);\n",
       "    }\n",
       "  }\n",
       "\n",
       "  \n",
       "  if (typeof (root._bokeh_timeout) === \"undefined\" || force === true) {\n",
       "    root._bokeh_timeout = Date.now() + 5000;\n",
       "    root._bokeh_failed_load = false;\n",
       "  }\n",
       "\n",
       "  var NB_LOAD_WARNING = {'data': {'text/html':\n",
       "     \"<div style='background-color: #fdd'>\\n\"+\n",
       "     \"<p>\\n\"+\n",
       "     \"BokehJS does not appear to have successfully loaded. If loading BokehJS from CDN, this \\n\"+\n",
       "     \"may be due to a slow or bad network connection. Possible fixes:\\n\"+\n",
       "     \"</p>\\n\"+\n",
       "     \"<ul>\\n\"+\n",
       "     \"<li>re-rerun `output_notebook()` to attempt to load from CDN again, or</li>\\n\"+\n",
       "     \"<li>use INLINE resources instead, as so:</li>\\n\"+\n",
       "     \"</ul>\\n\"+\n",
       "     \"<code>\\n\"+\n",
       "     \"from bokeh.resources import INLINE\\n\"+\n",
       "     \"output_notebook(resources=INLINE)\\n\"+\n",
       "     \"</code>\\n\"+\n",
       "     \"</div>\"}};\n",
       "\n",
       "  function display_loaded() {\n",
       "    var el = document.getElementById(\"1195\");\n",
       "    if (el != null) {\n",
       "      el.textContent = \"BokehJS is loading...\";\n",
       "    }\n",
       "    if (root.Bokeh !== undefined) {\n",
       "      if (el != null) {\n",
       "        el.textContent = \"BokehJS \" + root.Bokeh.version + \" successfully loaded.\";\n",
       "      }\n",
       "    } else if (Date.now() < root._bokeh_timeout) {\n",
       "      setTimeout(display_loaded, 100)\n",
       "    }\n",
       "  }\n",
       "\n",
       "\n",
       "  function run_callbacks() {\n",
       "    try {\n",
       "      root._bokeh_onload_callbacks.forEach(function(callback) {\n",
       "        if (callback != null)\n",
       "          callback();\n",
       "      });\n",
       "    } finally {\n",
       "      delete root._bokeh_onload_callbacks\n",
       "    }\n",
       "    console.debug(\"Bokeh: all callbacks have finished\");\n",
       "  }\n",
       "\n",
       "  function load_libs(css_urls, js_urls, callback) {\n",
       "    if (css_urls == null) css_urls = [];\n",
       "    if (js_urls == null) js_urls = [];\n",
       "\n",
       "    root._bokeh_onload_callbacks.push(callback);\n",
       "    if (root._bokeh_is_loading > 0) {\n",
       "      console.debug(\"Bokeh: BokehJS is being loaded, scheduling callback at\", now());\n",
       "      return null;\n",
       "    }\n",
       "    if (js_urls == null || js_urls.length === 0) {\n",
       "      run_callbacks();\n",
       "      return null;\n",
       "    }\n",
       "    console.debug(\"Bokeh: BokehJS not loaded, scheduling load and callback at\", now());\n",
       "    root._bokeh_is_loading = css_urls.length + js_urls.length;\n",
       "\n",
       "    function on_load() {\n",
       "      root._bokeh_is_loading--;\n",
       "      if (root._bokeh_is_loading === 0) {\n",
       "        console.debug(\"Bokeh: all BokehJS libraries/stylesheets loaded\");\n",
       "        run_callbacks()\n",
       "      }\n",
       "    }\n",
       "\n",
       "    function on_error(url) {\n",
       "      console.error(\"failed to load \" + url);\n",
       "    }\n",
       "\n",
       "    for (let i = 0; i < css_urls.length; i++) {\n",
       "      const url = css_urls[i];\n",
       "      const element = document.createElement(\"link\");\n",
       "      element.onload = on_load;\n",
       "      element.onerror = on_error.bind(null, url);\n",
       "      element.rel = \"stylesheet\";\n",
       "      element.type = \"text/css\";\n",
       "      element.href = url;\n",
       "      console.debug(\"Bokeh: injecting link tag for BokehJS stylesheet: \", url);\n",
       "      document.body.appendChild(element);\n",
       "    }\n",
       "\n",
       "    const hashes = {\"https://cdn.bokeh.org/bokeh/release/bokeh-2.3.2.min.js\": \"XypntL49z55iwGVUW4qsEu83zKL3XEcz0MjuGOQ9SlaaQ68X/g+k1FcioZi7oQAc\", \"https://cdn.bokeh.org/bokeh/release/bokeh-tables-2.3.2.min.js\": \"bEsM86IHGDTLCS0Zod8a8WM6Y4+lafAL/eSiyQcuPzinmWNgNO2/olUF0Z2Dkn5i\", \"https://cdn.bokeh.org/bokeh/release/bokeh-widgets-2.3.2.min.js\": \"TX0gSQTdXTTeScqxj6PVQxTiRW8DOoGVwinyi1D3kxv7wuxQ02XkOxv0xwiypcAH\"};\n",
       "\n",
       "    for (let i = 0; i < js_urls.length; i++) {\n",
       "      const url = js_urls[i];\n",
       "      const element = document.createElement('script');\n",
       "      element.onload = on_load;\n",
       "      element.onerror = on_error.bind(null, url);\n",
       "      element.async = false;\n",
       "      element.src = url;\n",
       "      if (url in hashes) {\n",
       "        element.crossOrigin = \"anonymous\";\n",
       "        element.integrity = \"sha384-\" + hashes[url];\n",
       "      }\n",
       "      console.debug(\"Bokeh: injecting script tag for BokehJS library: \", url);\n",
       "      document.head.appendChild(element);\n",
       "    }\n",
       "  };\n",
       "\n",
       "  function inject_raw_css(css) {\n",
       "    const element = document.createElement(\"style\");\n",
       "    element.appendChild(document.createTextNode(css));\n",
       "    document.body.appendChild(element);\n",
       "  }\n",
       "\n",
       "  \n",
       "  var js_urls = [\"https://cdn.bokeh.org/bokeh/release/bokeh-2.3.2.min.js\", \"https://cdn.bokeh.org/bokeh/release/bokeh-widgets-2.3.2.min.js\", \"https://cdn.bokeh.org/bokeh/release/bokeh-tables-2.3.2.min.js\"];\n",
       "  var css_urls = [];\n",
       "  \n",
       "\n",
       "  var inline_js = [\n",
       "    function(Bokeh) {\n",
       "      Bokeh.set_log_level(\"info\");\n",
       "    },\n",
       "    function(Bokeh) {\n",
       "    \n",
       "    \n",
       "    }\n",
       "  ];\n",
       "\n",
       "  function run_inline_js() {\n",
       "    \n",
       "    if (root.Bokeh !== undefined || force === true) {\n",
       "      \n",
       "    for (var i = 0; i < inline_js.length; i++) {\n",
       "      inline_js[i].call(root, root.Bokeh);\n",
       "    }\n",
       "    if (force === true) {\n",
       "        display_loaded();\n",
       "      }} else if (Date.now() < root._bokeh_timeout) {\n",
       "      setTimeout(run_inline_js, 100);\n",
       "    } else if (!root._bokeh_failed_load) {\n",
       "      console.log(\"Bokeh: BokehJS failed to load within specified timeout.\");\n",
       "      root._bokeh_failed_load = true;\n",
       "    } else if (force !== true) {\n",
       "      var cell = $(document.getElementById(\"1195\")).parents('.cell').data().cell;\n",
       "      cell.output_area.append_execute_result(NB_LOAD_WARNING)\n",
       "    }\n",
       "\n",
       "  }\n",
       "\n",
       "  if (root._bokeh_is_loading === 0) {\n",
       "    console.debug(\"Bokeh: BokehJS loaded, going straight to plotting\");\n",
       "    run_inline_js();\n",
       "  } else {\n",
       "    load_libs(css_urls, js_urls, function() {\n",
       "      console.debug(\"Bokeh: BokehJS plotting callback run at\", now());\n",
       "      run_inline_js();\n",
       "    });\n",
       "  }\n",
       "}(window));"
      ],
      "application/vnd.bokehjs_load.v0+json": "\n(function(root) {\n  function now() {\n    return new Date();\n  }\n\n  var force = true;\n\n  if (typeof root._bokeh_onload_callbacks === \"undefined\" || force === true) {\n    root._bokeh_onload_callbacks = [];\n    root._bokeh_is_loading = undefined;\n  }\n\n  \n\n  \n  if (typeof (root._bokeh_timeout) === \"undefined\" || force === true) {\n    root._bokeh_timeout = Date.now() + 5000;\n    root._bokeh_failed_load = false;\n  }\n\n  var NB_LOAD_WARNING = {'data': {'text/html':\n     \"<div style='background-color: #fdd'>\\n\"+\n     \"<p>\\n\"+\n     \"BokehJS does not appear to have successfully loaded. If loading BokehJS from CDN, this \\n\"+\n     \"may be due to a slow or bad network connection. Possible fixes:\\n\"+\n     \"</p>\\n\"+\n     \"<ul>\\n\"+\n     \"<li>re-rerun `output_notebook()` to attempt to load from CDN again, or</li>\\n\"+\n     \"<li>use INLINE resources instead, as so:</li>\\n\"+\n     \"</ul>\\n\"+\n     \"<code>\\n\"+\n     \"from bokeh.resources import INLINE\\n\"+\n     \"output_notebook(resources=INLINE)\\n\"+\n     \"</code>\\n\"+\n     \"</div>\"}};\n\n  function display_loaded() {\n    var el = document.getElementById(\"1195\");\n    if (el != null) {\n      el.textContent = \"BokehJS is loading...\";\n    }\n    if (root.Bokeh !== undefined) {\n      if (el != null) {\n        el.textContent = \"BokehJS \" + root.Bokeh.version + \" successfully loaded.\";\n      }\n    } else if (Date.now() < root._bokeh_timeout) {\n      setTimeout(display_loaded, 100)\n    }\n  }\n\n\n  function run_callbacks() {\n    try {\n      root._bokeh_onload_callbacks.forEach(function(callback) {\n        if (callback != null)\n          callback();\n      });\n    } finally {\n      delete root._bokeh_onload_callbacks\n    }\n    console.debug(\"Bokeh: all callbacks have finished\");\n  }\n\n  function load_libs(css_urls, js_urls, callback) {\n    if (css_urls == null) css_urls = [];\n    if (js_urls == null) js_urls = [];\n\n    root._bokeh_onload_callbacks.push(callback);\n    if (root._bokeh_is_loading > 0) {\n      console.debug(\"Bokeh: BokehJS is being loaded, scheduling callback at\", now());\n      return null;\n    }\n    if (js_urls == null || js_urls.length === 0) {\n      run_callbacks();\n      return null;\n    }\n    console.debug(\"Bokeh: BokehJS not loaded, scheduling load and callback at\", now());\n    root._bokeh_is_loading = css_urls.length + js_urls.length;\n\n    function on_load() {\n      root._bokeh_is_loading--;\n      if (root._bokeh_is_loading === 0) {\n        console.debug(\"Bokeh: all BokehJS libraries/stylesheets loaded\");\n        run_callbacks()\n      }\n    }\n\n    function on_error(url) {\n      console.error(\"failed to load \" + url);\n    }\n\n    for (let i = 0; i < css_urls.length; i++) {\n      const url = css_urls[i];\n      const element = document.createElement(\"link\");\n      element.onload = on_load;\n      element.onerror = on_error.bind(null, url);\n      element.rel = \"stylesheet\";\n      element.type = \"text/css\";\n      element.href = url;\n      console.debug(\"Bokeh: injecting link tag for BokehJS stylesheet: \", url);\n      document.body.appendChild(element);\n    }\n\n    const hashes = {\"https://cdn.bokeh.org/bokeh/release/bokeh-2.3.2.min.js\": \"XypntL49z55iwGVUW4qsEu83zKL3XEcz0MjuGOQ9SlaaQ68X/g+k1FcioZi7oQAc\", \"https://cdn.bokeh.org/bokeh/release/bokeh-tables-2.3.2.min.js\": \"bEsM86IHGDTLCS0Zod8a8WM6Y4+lafAL/eSiyQcuPzinmWNgNO2/olUF0Z2Dkn5i\", \"https://cdn.bokeh.org/bokeh/release/bokeh-widgets-2.3.2.min.js\": \"TX0gSQTdXTTeScqxj6PVQxTiRW8DOoGVwinyi1D3kxv7wuxQ02XkOxv0xwiypcAH\"};\n\n    for (let i = 0; i < js_urls.length; i++) {\n      const url = js_urls[i];\n      const element = document.createElement('script');\n      element.onload = on_load;\n      element.onerror = on_error.bind(null, url);\n      element.async = false;\n      element.src = url;\n      if (url in hashes) {\n        element.crossOrigin = \"anonymous\";\n        element.integrity = \"sha384-\" + hashes[url];\n      }\n      console.debug(\"Bokeh: injecting script tag for BokehJS library: \", url);\n      document.head.appendChild(element);\n    }\n  };\n\n  function inject_raw_css(css) {\n    const element = document.createElement(\"style\");\n    element.appendChild(document.createTextNode(css));\n    document.body.appendChild(element);\n  }\n\n  \n  var js_urls = [\"https://cdn.bokeh.org/bokeh/release/bokeh-2.3.2.min.js\", \"https://cdn.bokeh.org/bokeh/release/bokeh-widgets-2.3.2.min.js\", \"https://cdn.bokeh.org/bokeh/release/bokeh-tables-2.3.2.min.js\"];\n  var css_urls = [];\n  \n\n  var inline_js = [\n    function(Bokeh) {\n      Bokeh.set_log_level(\"info\");\n    },\n    function(Bokeh) {\n    \n    \n    }\n  ];\n\n  function run_inline_js() {\n    \n    if (root.Bokeh !== undefined || force === true) {\n      \n    for (var i = 0; i < inline_js.length; i++) {\n      inline_js[i].call(root, root.Bokeh);\n    }\n    if (force === true) {\n        display_loaded();\n      }} else if (Date.now() < root._bokeh_timeout) {\n      setTimeout(run_inline_js, 100);\n    } else if (!root._bokeh_failed_load) {\n      console.log(\"Bokeh: BokehJS failed to load within specified timeout.\");\n      root._bokeh_failed_load = true;\n    } else if (force !== true) {\n      var cell = $(document.getElementById(\"1195\")).parents('.cell').data().cell;\n      cell.output_area.append_execute_result(NB_LOAD_WARNING)\n    }\n\n  }\n\n  if (root._bokeh_is_loading === 0) {\n    console.debug(\"Bokeh: BokehJS loaded, going straight to plotting\");\n    run_inline_js();\n  } else {\n    load_libs(css_urls, js_urls, function() {\n      console.debug(\"Bokeh: BokehJS plotting callback run at\", now());\n      run_inline_js();\n    });\n  }\n}(window));"
     },
     "metadata": {},
     "output_type": "display_data"
    },
    {
     "data": {
      "text/html": [
       "\n",
       "\n",
       "\n",
       "\n",
       "\n",
       "\n",
       "  <div class=\"bk-root\" id=\"b9096ceb-dffe-4a90-ad7f-08add4512052\" data-root-id=\"1198\"></div>\n"
      ]
     },
     "metadata": {},
     "output_type": "display_data"
    },
    {
     "data": {
      "application/javascript": [
       "(function(root) {\n",
       "  function embed_document(root) {\n",
       "    \n",
       "  var docs_json = {\"1c720932-eb10-40a7-9ce1-7303e6c1d02f\":{\"defs\":[],\"roots\":{\"references\":[{\"attributes\":{\"below\":[{\"id\":\"1209\"}],\"center\":[{\"id\":\"1212\"},{\"id\":\"1216\"}],\"left\":[{\"id\":\"1213\"}],\"renderers\":[{\"id\":\"1237\"},{\"id\":\"1242\"}],\"title\":{\"id\":\"1199\"},\"toolbar\":{\"id\":\"1225\"},\"width\":900,\"x_range\":{\"id\":\"1201\"},\"x_scale\":{\"id\":\"1205\"},\"y_range\":{\"id\":\"1203\"},\"y_scale\":{\"id\":\"1207\"}},\"id\":\"1198\",\"subtype\":\"Figure\",\"type\":\"Plot\"},{\"attributes\":{\"mantissas\":[1,2,5],\"max_interval\":500.0,\"num_minor_ticks\":0},\"id\":\"1278\",\"type\":\"AdaptiveTicker\"},{\"attributes\":{\"base\":60,\"mantissas\":[1,2,5,10,15,20,30],\"max_interval\":1800000.0,\"min_interval\":1000.0,\"num_minor_ticks\":0},\"id\":\"1279\",\"type\":\"AdaptiveTicker\"},{\"attributes\":{\"days\":[1,2,3,4,5,6,7,8,9,10,11,12,13,14,15,16,17,18,19,20,21,22,23,24,25,26,27,28,29,30,31]},\"id\":\"1281\",\"type\":\"DaysTicker\"},{\"attributes\":{\"base\":24,\"mantissas\":[1,2,4,6,8,12],\"max_interval\":43200000.0,\"min_interval\":3600000.0,\"num_minor_ticks\":0},\"id\":\"1280\",\"type\":\"AdaptiveTicker\"},{\"attributes\":{},\"id\":\"1272\",\"type\":\"BasicTickFormatter\"},{\"attributes\":{\"months\":[0,1,2,3,4,5,6,7,8,9,10,11]},\"id\":\"1285\",\"type\":\"MonthsTicker\"},{\"attributes\":{},\"id\":\"1271\",\"type\":\"AllLabels\"},{\"attributes\":{\"months\":[0,2,4,6,8,10]},\"id\":\"1286\",\"type\":\"MonthsTicker\"},{\"attributes\":{},\"id\":\"1221\",\"type\":\"SaveTool\"},{\"attributes\":{\"days\":[1,4,7,10,13,16,19,22,25,28]},\"id\":\"1282\",\"type\":\"DaysTicker\"},{\"attributes\":{},\"id\":\"1214\",\"type\":\"BasicTicker\"},{\"attributes\":{\"days\":[1,15]},\"id\":\"1284\",\"type\":\"DaysTicker\"},{\"attributes\":{\"overlay\":{\"id\":\"1224\"}},\"id\":\"1219\",\"type\":\"BoxZoomTool\"},{\"attributes\":{\"months\":[0,6]},\"id\":\"1288\",\"type\":\"MonthsTicker\"},{\"attributes\":{\"days\":[1,8,15,22]},\"id\":\"1283\",\"type\":\"DaysTicker\"},{\"attributes\":{},\"id\":\"1289\",\"type\":\"YearsTicker\"},{\"attributes\":{\"months\":[0,4,8]},\"id\":\"1287\",\"type\":\"MonthsTicker\"},{\"attributes\":{},\"id\":\"1274\",\"type\":\"UnionRenderers\"},{\"attributes\":{},\"id\":\"1199\",\"type\":\"Title\"},{\"attributes\":{\"axis\":{\"id\":\"1213\"},\"dimension\":1,\"ticker\":null},\"id\":\"1216\",\"type\":\"Grid\"},{\"attributes\":{\"bottom_units\":\"screen\",\"fill_alpha\":0.5,\"fill_color\":\"lightgrey\",\"left_units\":\"screen\",\"level\":\"overlay\",\"line_alpha\":1.0,\"line_color\":\"black\",\"line_dash\":[4,4],\"line_width\":2,\"right_units\":\"screen\",\"syncable\":false,\"top_units\":\"screen\"},\"id\":\"1224\",\"type\":\"BoxAnnotation\"},{\"attributes\":{},\"id\":\"1275\",\"type\":\"Selection\"},{\"attributes\":{},\"id\":\"1201\",\"type\":\"DataRange1d\"},{\"attributes\":{\"bottom_units\":\"screen\",\"fill_alpha\":0.5,\"fill_color\":\"lightgrey\",\"left_units\":\"screen\",\"level\":\"overlay\",\"line_alpha\":1.0,\"line_color\":\"black\",\"line_dash\":[4,4],\"line_width\":2,\"right_units\":\"screen\",\"syncable\":false,\"top_units\":\"screen\"},\"id\":\"1223\",\"type\":\"BoxAnnotation\"},{\"attributes\":{\"data_source\":{\"id\":\"1234\"},\"glyph\":{\"id\":\"1235\"},\"hover_glyph\":null,\"muted_glyph\":null,\"nonselection_glyph\":{\"id\":\"1236\"},\"view\":{\"id\":\"1238\"}},\"id\":\"1237\",\"type\":\"GlyphRenderer\"},{\"attributes\":{\"days\":[\"%d %B %Y\"],\"hours\":[\"%d %B %Y\"],\"months\":[\"%d %B %Y\"],\"years\":[\"%d %B %Y\"]},\"id\":\"1196\",\"type\":\"DatetimeTickFormatter\"},{\"attributes\":{},\"id\":\"1220\",\"type\":\"ResetTool\"},{\"attributes\":{\"line_color\":\"#1f77b4\",\"line_width\":2,\"x\":{\"field\":\"x\"},\"y\":{\"field\":\"y\"}},\"id\":\"1235\",\"type\":\"Line\"},{\"attributes\":{},\"id\":\"1269\",\"type\":\"AllLabels\"},{\"attributes\":{\"callback\":null,\"formatters\":{\"@x\":\"datetime\"},\"mode\":\"vline\",\"tooltips\":[[\"date\",\"@x{%d-%m-%YT%H:%M:%S}\"],[\"value\",\"@y\"]]},\"id\":\"1197\",\"type\":\"HoverTool\"},{\"attributes\":{\"active_multi\":null,\"active_scroll\":{\"id\":\"1218\"},\"tools\":[{\"id\":\"1217\"},{\"id\":\"1218\"},{\"id\":\"1219\"},{\"id\":\"1220\"},{\"id\":\"1221\"},{\"id\":\"1222\"},{\"id\":\"1197\"}]},\"id\":\"1225\",\"type\":\"Toolbar\"},{\"attributes\":{\"data\":{\"x\":{\"__ndarray__\":\"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\",\"dtype\":\"float64\",\"order\":\"little\",\"shape\":[1095]},\"y\":{\"__ndarray__\":\"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\",\"dtype\":\"float64\",\"order\":\"little\",\"shape\":[1095]}},\"selected\":{\"id\":\"1277\"},\"selection_policy\":{\"id\":\"1276\"}},\"id\":\"1239\",\"type\":\"ColumnDataSource\"},{\"attributes\":{},\"id\":\"1207\",\"type\":\"LinearScale\"},{\"attributes\":{\"source\":{\"id\":\"1234\"}},\"id\":\"1238\",\"type\":\"CDSView\"},{\"attributes\":{},\"id\":\"1276\",\"type\":\"UnionRenderers\"},{\"attributes\":{},\"id\":\"1203\",\"type\":\"DataRange1d\"},{\"attributes\":{\"line_color\":\"orange\",\"line_width\":2,\"x\":{\"field\":\"x\"},\"y\":{\"field\":\"y\"}},\"id\":\"1240\",\"type\":\"Line\"},{\"attributes\":{\"num_minor_ticks\":5,\"tickers\":[{\"id\":\"1278\"},{\"id\":\"1279\"},{\"id\":\"1280\"},{\"id\":\"1281\"},{\"id\":\"1282\"},{\"id\":\"1283\"},{\"id\":\"1284\"},{\"id\":\"1285\"},{\"id\":\"1286\"},{\"id\":\"1287\"},{\"id\":\"1288\"},{\"id\":\"1289\"}]},\"id\":\"1210\",\"type\":\"DatetimeTicker\"},{\"attributes\":{\"overlay\":{\"id\":\"1223\"}},\"id\":\"1222\",\"type\":\"BoxSelectTool\"},{\"attributes\":{},\"id\":\"1277\",\"type\":\"Selection\"},{\"attributes\":{\"line_alpha\":0.1,\"line_color\":\"#1f77b4\",\"line_width\":2,\"x\":{\"field\":\"x\"},\"y\":{\"field\":\"y\"}},\"id\":\"1236\",\"type\":\"Line\"},{\"attributes\":{},\"id\":\"1217\",\"type\":\"PanTool\"},{\"attributes\":{\"axis_label\":\"value\",\"formatter\":{\"id\":\"1272\"},\"major_label_policy\":{\"id\":\"1271\"},\"ticker\":{\"id\":\"1214\"}},\"id\":\"1213\",\"type\":\"LinearAxis\"},{\"attributes\":{\"axis\":{\"id\":\"1209\"},\"ticker\":null},\"id\":\"1212\",\"type\":\"Grid\"},{\"attributes\":{\"line_alpha\":0.1,\"line_color\":\"orange\",\"line_width\":2,\"x\":{\"field\":\"x\"},\"y\":{\"field\":\"y\"}},\"id\":\"1241\",\"type\":\"Line\"},{\"attributes\":{\"axis_label\":\"time\",\"formatter\":{\"id\":\"1196\"},\"major_label_policy\":{\"id\":\"1269\"},\"ticker\":{\"id\":\"1210\"}},\"id\":\"1209\",\"type\":\"DatetimeAxis\"},{\"attributes\":{\"data\":{\"x\":{\"__ndarray__\":\"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\",\"dtype\":\"float64\",\"order\":\"little\",\"shape\":[1095]},\"y\":{\"__ndarray__\":\"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\",\"dtype\":\"float64\",\"order\":\"little\",\"shape\":[1095]}},\"selected\":{\"id\":\"1275\"},\"selection_policy\":{\"id\":\"1274\"}},\"id\":\"1234\",\"type\":\"ColumnDataSource\"},{\"attributes\":{\"source\":{\"id\":\"1239\"}},\"id\":\"1243\",\"type\":\"CDSView\"},{\"attributes\":{\"data_source\":{\"id\":\"1239\"},\"glyph\":{\"id\":\"1240\"},\"hover_glyph\":null,\"muted_glyph\":null,\"nonselection_glyph\":{\"id\":\"1241\"},\"view\":{\"id\":\"1243\"}},\"id\":\"1242\",\"type\":\"GlyphRenderer\"},{\"attributes\":{},\"id\":\"1218\",\"type\":\"WheelZoomTool\"},{\"attributes\":{},\"id\":\"1205\",\"type\":\"LinearScale\"}],\"root_ids\":[\"1198\"]},\"title\":\"Bokeh Application\",\"version\":\"2.3.2\"}};\n",
       "  var render_items = [{\"docid\":\"1c720932-eb10-40a7-9ce1-7303e6c1d02f\",\"root_ids\":[\"1198\"],\"roots\":{\"1198\":\"b9096ceb-dffe-4a90-ad7f-08add4512052\"}}];\n",
       "  root.Bokeh.embed.embed_items_notebook(docs_json, render_items);\n",
       "\n",
       "  }\n",
       "  if (root.Bokeh !== undefined) {\n",
       "    embed_document(root);\n",
       "  } else {\n",
       "    var attempts = 0;\n",
       "    var timer = setInterval(function(root) {\n",
       "      if (root.Bokeh !== undefined) {\n",
       "        clearInterval(timer);\n",
       "        embed_document(root);\n",
       "      } else {\n",
       "        attempts++;\n",
       "        if (attempts > 100) {\n",
       "          clearInterval(timer);\n",
       "          console.log(\"Bokeh: ERROR: Unable to run BokehJS code because BokehJS library is missing\");\n",
       "        }\n",
       "      }\n",
       "    }, 10, root)\n",
       "  }\n",
       "})(window);"
      ],
      "application/vnd.bokehjs_exec.v0+json": ""
     },
     "metadata": {
      "application/vnd.bokehjs_exec.v0+json": {
       "id": "1198"
      }
     },
     "output_type": "display_data"
    }
   ],
   "source": [
    "plot_ts(ts_test, preds)"
   ]
  },
  {
   "cell_type": "code",
   "execution_count": 28,
   "id": "electric-accident",
   "metadata": {},
   "outputs": [
    {
     "data": {
      "text/plain": [
       "5.642919853780826"
      ]
     },
     "execution_count": 28,
     "metadata": {},
     "output_type": "execute_result"
    }
   ],
   "source": [
    "mse(ts_test, preds)"
   ]
  },
  {
   "cell_type": "markdown",
   "id": "selective-natural",
   "metadata": {},
   "source": []
  },
  {
   "cell_type": "code",
   "execution_count": null,
   "id": "6d786077",
   "metadata": {},
   "outputs": [],
   "source": []
  }
 ],
 "metadata": {
  "kernelspec": {
   "display_name": "Python 3",
   "language": "python",
   "name": "python3"
  },
  "language_info": {
   "codemirror_mode": {
    "name": "ipython",
    "version": 3
   },
   "file_extension": ".py",
   "mimetype": "text/x-python",
   "name": "python",
   "nbconvert_exporter": "python",
   "pygments_lexer": "ipython3",
   "version": "3.8.2"
  }
 },
 "nbformat": 4,
 "nbformat_minor": 5
}