{
 "cells": [
  {
   "cell_type": "code",
   "execution_count": null,
   "id": "accomplished-humanity",
   "metadata": {},
   "outputs": [],
   "source": [
    "%load_ext autoreload\n",
    "%autoreload 2\n",
    "%matplotlib inline"
   ]
  },
  {
   "cell_type": "code",
   "execution_count": null,
   "id": "accessory-crawford",
   "metadata": {},
   "outputs": [],
   "source": [
    "import sys\n",
    "from pathlib import Path\n",
    "\n",
    "sys.path.append(str(Path().cwd().parent))"
   ]
  },
  {
   "cell_type": "code",
   "execution_count": null,
   "id": "prospective-noise",
   "metadata": {},
   "outputs": [],
   "source": [
    "from typing import Tuple\n",
    "\n",
    "import pandas as pd\n",
    "\n",
    "from plotting import plot_ts\n",
    "from load_dataset import Dataset\n",
    "from model import TimeSeriesPredictor"
   ]
  },
  {
   "cell_type": "markdown",
   "id": "higher-movement",
   "metadata": {},
   "source": [
    "### Какие ряды будем тестировать?"
   ]
  },
  {
   "cell_type": "markdown",
   "id": "verbal-prefix",
   "metadata": {},
   "source": [
    "* длинный ряд с сезонностью  \n",
    "* короткий ряд с сезонностью  \n",
    "* короткий ряд с сезонностью и трендом  \n",
    "* случайное блуждание  \n",
    "* средне зашумленный ряд\n",
    "* \"шумный\" ряд  "
   ]
  },
  {
   "cell_type": "code",
   "execution_count": null,
   "id": "aging-liberia",
   "metadata": {},
   "outputs": [],
   "source": [
    "ds = Dataset('../data/dataset/')"
   ]
  },
  {
   "cell_type": "code",
   "execution_count": null,
   "id": "artistic-nepal",
   "metadata": {},
   "outputs": [],
   "source": [
    "long = ds['daily-min-temperatures.csv']"
   ]
  },
  {
   "cell_type": "code",
   "execution_count": null,
   "id": "spare-proxy",
   "metadata": {},
   "outputs": [],
   "source": [
    "plot_ts(long)"
   ]
  },
  {
   "cell_type": "code",
   "execution_count": null,
   "id": "indonesian-intake",
   "metadata": {},
   "outputs": [],
   "source": [
    "short_season = ds['hour_3019.csv'][300:]"
   ]
  },
  {
   "cell_type": "code",
   "execution_count": null,
   "id": "exceptional-warehouse",
   "metadata": {},
   "outputs": [],
   "source": [
    "plot_ts(short_season)"
   ]
  },
  {
   "cell_type": "code",
   "execution_count": null,
   "id": "physical-riding",
   "metadata": {},
   "outputs": [],
   "source": [
    "short_season_trend = ds['international-airline-passengers.csv']"
   ]
  },
  {
   "cell_type": "code",
   "execution_count": null,
   "id": "shaped-messaging",
   "metadata": {},
   "outputs": [],
   "source": [
    "plot_ts(short_season_trend)"
   ]
  },
  {
   "cell_type": "code",
   "execution_count": null,
   "id": "dominant-mandate",
   "metadata": {},
   "outputs": [],
   "source": [
    "random_walk = ds['dow_jones_0.csv']"
   ]
  },
  {
   "cell_type": "code",
   "execution_count": null,
   "id": "turkish-brand",
   "metadata": {},
   "outputs": [],
   "source": [
    "plot_ts(random_walk)"
   ]
  },
  {
   "cell_type": "code",
   "execution_count": null,
   "id": "north-silly",
   "metadata": {},
   "outputs": [],
   "source": [
    "medium_noize = ds['hour_3426.csv'][300:]"
   ]
  },
  {
   "cell_type": "code",
   "execution_count": null,
   "id": "demanding-pottery",
   "metadata": {},
   "outputs": [],
   "source": [
    "plot_ts(medium_noize)"
   ]
  },
  {
   "cell_type": "code",
   "execution_count": null,
   "id": "meaningful-superintendent",
   "metadata": {},
   "outputs": [],
   "source": [
    "full_noize = ds['day_1574.csv']"
   ]
  },
  {
   "cell_type": "code",
   "execution_count": null,
   "id": "cardiac-sentence",
   "metadata": {},
   "outputs": [],
   "source": [
    "plot_ts(full_noize)"
   ]
  },
  {
   "cell_type": "markdown",
   "id": "standard-emergency",
   "metadata": {},
   "source": [
    "### Какие модели будем тестировать?"
   ]
  },
  {
   "cell_type": "markdown",
   "id": "chief-natural",
   "metadata": {},
   "source": [
    "* скользящее среднее\n",
    "* экспоненциальное сглаживание\n",
    "* autoArima\n",
    "* линейная регрессия\n",
    "* линейная регрессия с L1 регуляризацией (Ridge)\n",
    "* RandomForeset\n",
    "* градиентный бустинг\n"
   ]
  },
  {
   "cell_type": "code",
   "execution_count": null,
   "id": "altered-unemployment",
   "metadata": {},
   "outputs": [],
   "source": [
    "from estimators import RollingEstimator, ExponentialSmoothingEstimator\n",
    "from pmdarima import auto_arima\n",
    "from sklearn.linear_model import LinearRegression\n",
    "from sklearn.linear_model import Ridge\n",
    "from sklearn.ensemble import RandomForestRegressor\n",
    "from sklearn.ensemble import GradientBoostingRegressor"
   ]
  },
  {
   "cell_type": "markdown",
   "id": "smooth-mount",
   "metadata": {},
   "source": [
    "### По каким метрикам будем сравнивать?"
   ]
  },
  {
   "cell_type": "markdown",
   "id": "persistent-highland",
   "metadata": {},
   "source": [
    "* mse\n",
    "* mae\n",
    "* R2\n",
    "* mape - если не будет ломаться на нулях\n",
    "* mase"
   ]
  },
  {
   "cell_type": "code",
   "execution_count": null,
   "id": "educated-jumping",
   "metadata": {},
   "outputs": [],
   "source": [
    "from sklearn.metrics import mean_squared_error as mse\n",
    "from sklearn.metrics import mean_absolute_error as mae\n",
    "from sklearn.metrics import r2_score\n",
    "\n",
    "from metrics import mean_absolute_percentage_error as mape\n",
    "from metrics import mase"
   ]
  },
  {
   "cell_type": "markdown",
   "id": "bronze-sport",
   "metadata": {},
   "source": [
    "### По какой методике будем тестировать?"
   ]
  },
  {
   "cell_type": "markdown",
   "id": "weird-table",
   "metadata": {},
   "source": [
    "* 70% трейн, 30% тест\n",
    "* Out-of-sample, чтобы посмотреть как модель предсказывает \"вдолгую\"\n",
    "* In-Sample, чтобы посмотреть как модель предсказывает на одну точку вперед\n",
    "* Для поиска гиперпараметров можно делать кроссвалидацию на тесте по метрике mse"
   ]
  },
  {
   "cell_type": "markdown",
   "id": "bridal-rendering",
   "metadata": {},
   "source": [
    "### Задание 1. Напишите функцию, разбивающую на train и test"
   ]
  },
  {
   "cell_type": "code",
   "execution_count": null,
   "id": "linear-impact",
   "metadata": {},
   "outputs": [],
   "source": [
    "def train_test_split(ts: pd.Series, ratio: float = 0.7) -> Tuple[pd.Series]:\n",
    "    # ваш код здесь\n",
    "    return ts_train, ts_test"
   ]
  },
  {
   "cell_type": "markdown",
   "id": "acoustic-drive",
   "metadata": {},
   "source": [
    "### Зададим соответствие гранулярностей для наших рядов."
   ]
  },
  {
   "cell_type": "code",
   "execution_count": null,
   "id": "boxed-memory",
   "metadata": {},
   "outputs": [],
   "source": [
    "granularity_mapping = {\n",
    "    'long': 'P1D',\n",
    "    'short_season': 'PT1H',\n",
    "    'short_season_trend': 'P1M',\n",
    "    'random_walk': 'P1D',\n",
    "    'medium_noize': 'PT1H',\n",
    "    'full_noize': 'P1D'\n",
    "}"
   ]
  },
  {
   "cell_type": "markdown",
   "id": "remarkable-literacy",
   "metadata": {},
   "source": [
    "### Задание 2. Напишите функцию, имплементирующую весь пайплайн обучения и прогноза через TimeSeriesPredictor."
   ]
  },
  {
   "cell_type": "markdown",
   "id": "israeli-warner",
   "metadata": {},
   "source": [
    "* принмает на вход исходный ряд, гранулярность, количество лагов, модель, а также **kwargs, в которые мы будем передавать параметры модели\n",
    "\n",
    "* разбивает ряд на train/test\n",
    "\n",
    "* создает инстанс TimeSeriesPredictor с нужными параметрами\n",
    "\n",
    "* обучает предиктор на трейне\n",
    "\n",
    "* делает out_of_sample и in_sample прогноз\n",
    "\n",
    "* возвращает train, test, in_sample, out_of_sample"
   ]
  },
  {
   "cell_type": "code",
   "execution_count": null,
   "id": "distinguished-satisfaction",
   "metadata": {},
   "outputs": [],
   "source": [
    "def make_pipeline(ts: pd.Series, granularity: str, num_lags: int, model: callable, **kwargs) -> Tuple[pd.Series]:\n",
    "    # ваш код здесь\n",
    "    return train, test, in_sample, out_of_sample"
   ]
  },
  {
   "cell_type": "markdown",
   "id": "going-footwear",
   "metadata": {},
   "source": [
    "### Задание 3. Напишите функцию, имплементирующую весь пайплайн обучения и прогноза через auto_arima"
   ]
  },
  {
   "cell_type": "markdown",
   "id": "amber-bracelet",
   "metadata": {},
   "source": [
    "* функция должна принимать исходный временной ряд, период сезонности, параметры дифференцирования d, D и boolean параметр seasonal, данные параметры будут являться для нас гиперпараметрами, все остальное за нас должна найти auto_arima\n",
    "\n",
    "* разбивает на train, test\n",
    "\n",
    "* обучает arima на train при помощи вызова функции auto_arima из библиотеки pmdarima с переданными параметрами и со следующими зафиксированными параметрами: `max_p=3, max_q=3, trace=True, error_action='ignore', suppress_warnings=True, stepwise=True`\n",
    "\n",
    "* в качестве out_of_sample прогноза просто вызовите метод predict\n",
    "\n",
    "* в качестве in_sample прогноза обучите модель заново на всём ряде методом `fit`, вызовите метод predict_in_sample и в качестве прогноза возьмите `in_sample_predictions(-len(test):)`\n",
    "\n",
    "* возвращает train, test, in_sample, out_of_sample (не забудьте сделать их pd.Series с нужным индексом!!)"
   ]
  },
  {
   "cell_type": "code",
   "execution_count": null,
   "id": "secret-elimination",
   "metadata": {},
   "outputs": [],
   "source": [
    "def make_pipeline_arima(ts: pd.Series, period: int, d: int = 1, D: int = 1, seasonal: bool = True) -> Tuple[pd.Series]:\n",
    "    # ваш код здесь\n",
    "    return train, test, in_sample, out_of_sample"
   ]
  },
  {
   "cell_type": "markdown",
   "id": "2a18ce7d",
   "metadata": {},
   "source": [
    "### Задание 4. Напишите функцию, имплементирующую поиск гиперпараметров по сетке. "
   ]
  },
  {
   "cell_type": "markdown",
   "id": "18642e4e",
   "metadata": {},
   "source": [
    "* функция должна принимать на вход ряд, гранулярность, модель, дефолтное количество лагов, сетку параметров (словарь)\n",
    "* после написанного мной кода, функция должна с текущими параметрами запустить пайплайн (функция make_pipeline), получив таким образом прогнозы in_sample и out_of_sample\n",
    "* посчитать mse для in_sample и out_of_sample прогноза, запомнить их в соответствующие словари\n",
    "* вернуть лучшие параметры для in_sample и out_of_sample прогнозов\n",
    "\n",
    "Замечания\n",
    "* не забудьте, что в сетку параметров можно передавать также num_lags\n",
    "* если в ряде ts_test есть пропуски, индекс прогноза out_of_sample будет не совпадать c индексом реальных данных, в таком случае, замените индекс out_of_sample прогноза индексом ts_test"
   ]
  },
  {
   "cell_type": "code",
   "execution_count": null,
   "id": "909e4f91",
   "metadata": {},
   "outputs": [],
   "source": [
    "from itertools import product\n",
    "\n",
    "def hyperparameters_search(ts, granularity, model, num_lags, param_grid, verbose=False):    \n",
    "    statistics_in_sample, statistics_out_of_sample = {}, {}\n",
    "\n",
    "    for param_tuple in product(*param_grid.values()):\n",
    "        params = dict(zip(param_grid.keys(), param_tuple))\n",
    "        \n",
    "        # если в сетке есть num_lags, берем его, если нет, берем дефолтный num_lags из сигнатуры функции\n",
    "        num_lags = params.pop('num_lags', None) or num_lags\n",
    "        \n",
    "        <your code here>"
   ]
  },
  {
   "cell_type": "markdown",
   "id": "reliable-advancement",
   "metadata": {},
   "source": [
    "### Задание 5. \"Прогоните\" все алгоритмы на всех рядах и получите сводную таблицу результатов по всем метрикам, постройте также графики прогнозов. "
   ]
  },
  {
   "cell_type": "code",
   "execution_count": null,
   "id": "stock-modern",
   "metadata": {},
   "outputs": [],
   "source": []
  }
 ],
 "metadata": {
  "kernelspec": {
   "display_name": "Python 3",
   "language": "python",
   "name": "python3"
  },
  "language_info": {
   "codemirror_mode": {
    "name": "ipython",
    "version": 3
   },
   "file_extension": ".py",
   "mimetype": "text/x-python",
   "name": "python",
   "nbconvert_exporter": "python",
   "pygments_lexer": "ipython3",
   "version": "3.8.2"
  }
 },
 "nbformat": 4,
 "nbformat_minor": 5
}
